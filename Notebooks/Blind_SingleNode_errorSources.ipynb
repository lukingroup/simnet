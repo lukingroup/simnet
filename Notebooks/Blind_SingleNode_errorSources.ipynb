{
 "cells": [
  {
   "cell_type": "markdown",
   "metadata": {},
   "source": [
    "## Setup"
   ]
  },
  {
   "cell_type": "code",
   "execution_count": 1,
   "metadata": {},
   "outputs": [],
   "source": [
    "import matplotlib.pyplot as plt\n",
    "from IPython.display import Image\n",
    "from matplotlib import colors\n",
    "import numpy as np\n",
    "import qutip as qt\n",
    "from qutip.qip.operations import *\n",
    "from qutip.qip.circuit import *\n",
    "from qutip.qip.operations import s_gate\n",
    "import sys\n",
    "sys.path.append('../SimulationCode/')\n",
    "from BlindGatesSimulation import *\n",
    "from fiber_network import FiberNetwork\n",
    "from SiVnodes import SiV\n",
    "from SiVgates import *\n",
    "from Plots import *\n",
    "import pandas as pd\n",
    "import matplotlib as mpl"
   ]
  },
  {
   "cell_type": "code",
   "execution_count": 2,
   "metadata": {},
   "outputs": [],
   "source": [
    "# colors for plots\n",
    "c1 = '#F15F57'\n",
    "c2 = '#F6851F'\n",
    "c3 = '#FDB913'\n",
    "c4 = '#743062'\n",
    "c5 = '#C87EB5'\n",
    "c6 = '#4CC0B3'\n",
    "c7 = '#1C9AAA'"
   ]
  },
  {
   "cell_type": "markdown",
   "metadata": {},
   "source": [
    "## Define SiVs "
   ]
  },
  {
   "cell_type": "code",
   "execution_count": 6,
   "metadata": {},
   "outputs": [],
   "source": [
    "# Create SiVs, all numbers in MHz:\n",
    "\n",
    "#Server A, G12\n",
    "siv_a = SiV(kappa_in= (74.9 - 54.5)*(10**3), kappa_w= (54.5)*(10**3), g=5.6*(10**3), wCav = (0)*(10**3), \n",
    "             wSiv = -(479.8 -639.6)*(10**3), dwEl = 0.5*(10**3)) # G12\n",
    "#Server B, B16\n",
    "siv_b = SiV(kappa_in= (43.5 - 26.0)*(10**3), kappa_w= (26.0)*(10**3), g=8.5*(10**3), wCav = (0)*(10**3), \n",
    "             wSiv = -(804.9 -657.6)*(10**3), dwEl = -0.5*(10**3)) # B16"
   ]
  },
  {
   "cell_type": "markdown",
   "metadata": {},
   "source": [
    "## Setup single Node experiments in B16"
   ]
  },
  {
   "cell_type": "code",
   "execution_count": 7,
   "metadata": {},
   "outputs": [],
   "source": [
    "# Create Networks:\n",
    "b16_network = FiberNetwork(siv_b) # this device is now in B16 fridge\n",
    "# Create Simulation:\n",
    "sim = BlindComputing(b16_network)"
   ]
  },
  {
   "cell_type": "code",
   "execution_count": 8,
   "metadata": {},
   "outputs": [
    {
     "name": "stdout",
     "output_type": "stream",
     "text": [
      "Detection efficientvy is =  0.0567\n"
     ]
    }
   ],
   "source": [
    "# Setup efficiencies\n",
    "\n",
    "b16_network.fibercoupling_eff = 0.6\n",
    "b16_network.tdi_eff = 0.35*0.3\n",
    "b16_network.snspd_eff = 0.9\n",
    "b16_network.detection_eff\n",
    "b16_network.detection_eff_reset()\n",
    "print('Detection efficientvy is = ', b16_network.detection_eff)"
   ]
  },
  {
   "cell_type": "code",
   "execution_count": 9,
   "metadata": {},
   "outputs": [
    {
     "name": "stdout",
     "output_type": "stream",
     "text": [
      "Node A contrast =  161.2874309722681\n",
      "Node B contrast =  71.9912989176812\n"
     ]
    }
   ],
   "source": [
    "# Double check the contrast\n",
    "contrast = siv_a.get_best_contrast()\n",
    "print(\"Node A contrast = \", contrast)\n",
    "contrast = siv_b.get_best_contrast()\n",
    "print(\"Node B contrast = \", contrast)\n"
   ]
  },
  {
   "cell_type": "code",
   "execution_count": 261,
   "metadata": {},
   "outputs": [
    {
     "name": "stdout",
     "output_type": "stream",
     "text": [
      "new contrast 27.979731852612378\n",
      "B16 contrast is set to =  27.979731852612378\n"
     ]
    }
   ],
   "source": [
    "b16_contrast = 25 # range 18 - 30\n",
    "g12_contrast = 20 # range 12 - 20\n",
    "\n",
    "siv_b.set_contrast(b16_contrast)\n",
    "actual_contrast_b16 = siv_b.get_best_contrast()\n",
    "print(\"B16 contrast is set to = \", actual_contrast_b16)"
   ]
  },
  {
   "cell_type": "markdown",
   "metadata": {},
   "source": [
    "## Single gate fidelities and blindness as a function of MW errors"
   ]
  },
  {
   "cell_type": "code",
   "execution_count": 200,
   "metadata": {},
   "outputs": [],
   "source": [
    "mw_list = np.linspace(1, 0.7, 6)\n",
    "phi1 = [0, np.pi/4, np.pi/2, 3*np.pi/4]\n",
    "phi2 = 0\n",
    "phi3 = 0\n",
    "el_initial_xp  = qt.ket2dm((qt.basis(2,0)+ qt.basis(2,1)).unit())"
   ]
  },
  {
   "cell_type": "code",
   "execution_count": 233,
   "metadata": {},
   "outputs": [
    {
     "name": "stdout",
     "output_type": "stream",
     "text": [
      "1.0\n",
      "Phi angle =  0\n",
      "Phi angle =  0.7853981633974483\n",
      "Phi angle =  1.5707963267948966\n",
      "Phi angle =  2.356194490192345\n",
      "0.94\n",
      "Phi angle =  0\n",
      "Phi angle =  0.7853981633974483\n",
      "Phi angle =  1.5707963267948966\n",
      "Phi angle =  2.356194490192345\n",
      "0.88\n",
      "Phi angle =  0\n",
      "Phi angle =  0.7853981633974483\n",
      "Phi angle =  1.5707963267948966\n",
      "Phi angle =  2.356194490192345\n",
      "0.82\n",
      "Phi angle =  0\n",
      "Phi angle =  0.7853981633974483\n",
      "Phi angle =  1.5707963267948966\n",
      "Phi angle =  2.356194490192345\n",
      "0.76\n",
      "Phi angle =  0\n",
      "Phi angle =  0.7853981633974483\n",
      "Phi angle =  1.5707963267948966\n",
      "Phi angle =  2.356194490192345\n",
      "0.7\n",
      "Phi angle =  0\n",
      "Phi angle =  0.7853981633974483\n",
      "Phi angle =  1.5707963267948966\n",
      "Phi angle =  2.356194490192345\n"
     ]
    }
   ],
   "source": [
    "# redoing the structure to make calculations faster. Scan mw first, then phi then n rounds \n",
    "# do calculations on all of the matricies, don't save\n",
    "# do errors properly\n",
    "\n",
    "imperfections ={'contrast_noise': 0, #(0 not noisy or 1 noisy)\n",
    "                'contrast': 'real', #'real'\n",
    "                'tdinoise': - 0.1, #np.pi/25, #'real'\n",
    "                'mw': 'real', # or perfect\n",
    "                'mw_noise': 1, #(0 is stable or 1 noisy/underotates overroates every experimental shot)\n",
    "                'mw_fid_num': [1, 1] # default fidelities\n",
    "               }\n",
    "\n",
    "cluster_state_length = 1\n",
    "\n",
    "n_rounds = 40\n",
    "n_col = 6\n",
    "mu = 0.05\n",
    "\n",
    "rates_apd1_apd2_angle = np.empty((0, 2), dtype=float)\n",
    "rho_mw_phi_n_array_s = np.empty((0, len(phi1), n_rounds, 2, 2), dtype=complex)\n",
    "rho_mw_phi_n_array_cl = np.empty((0, len(phi1), n_rounds, 2, 2), dtype=complex)\n",
    "\n",
    "#phi list\n",
    "for i in range(len(mw_list)) :\n",
    "    imperfections['mw_fid_num']= [mw_list[i], mw_list[i]]\n",
    "    print(mw_list[i])\n",
    "    # my list\n",
    "    rates_apd1_apd2 = np.empty((0, 2), dtype=float)\n",
    "    rho_phi_n_array_s = np.empty((0, n_rounds, 2, 2), dtype=complex)\n",
    "    rho_phi_n_array_cl = np.empty((0, n_rounds, 2, 2), dtype=complex)\n",
    "\n",
    "    for j in range(len(phi1)):\n",
    "        rho_n_array_cl = np.empty((0, 2, 2), dtype=complex)\n",
    "        rho_n_array_s = np.empty((0, 2, 2), dtype=complex)\n",
    "        rho_click = np.empty((0, 1), dtype=int)\n",
    "        phi1e = phi1[j]\n",
    "        print(\"Phi angle = \", phi1e)\n",
    "        for i in range(n_rounds): \n",
    "            rho_init_xp = sim.single_node_electron_exp(el_initial_xp, imperfections, cluster_state_length, phi1e, phi1, phi3, mu)\n",
    "            rho_n_array_s = np.append(rho_n_array_s, [rho_init_xp[0]], axis = 0)\n",
    "            rho_n_array_cl = np.append(rho_n_array_cl, [(qt.sigmaz()**(rho_init_xp[1]))*rho_init_xp[0]*(qt.sigmaz()**(rho_init_xp[1]))], axis = 0)\n",
    "        rates_apd1_apd2 = np.append(rates_apd1_apd2, [rho_init_xp[2:4]])\n",
    "        \n",
    "        rho_phi_n_array_s = np.vstack([rho_phi_n_array_s, [rho_n_array_s]])\n",
    "        rho_phi_n_array_cl = np.vstack([rho_phi_n_array_cl, [rho_n_array_cl]])\n",
    "    \n",
    "    rho_mw_phi_n_array_s= np.vstack([rho_mw_phi_n_array_s, [rho_phi_n_array_s]])\n",
    "    rho_mw_phi_n_array_cl= np.vstack([rho_mw_phi_n_array_cl, [rho_phi_n_array_cl]])\n"
   ]
  },
  {
   "cell_type": "markdown",
   "metadata": {},
   "source": [
    "#### Fidelity of the gates"
   ]
  },
  {
   "cell_type": "code",
   "execution_count": 234,
   "metadata": {},
   "outputs": [],
   "source": [
    "## compare to ideal results\n",
    "\n",
    "fid_err =  np.empty((0, 2), dtype=float)\n",
    "fid_ave =  np.empty((0, 2), dtype=float)\n",
    "\n",
    "for i in range(len(mw_list)):\n",
    "    fid_err_phi_mw =  np.empty((0, 2), dtype=float)\n",
    "    fid_ave_phi_mw =  np.empty((0, 2), dtype=float)\n",
    "    for j in range(len(phi1)):\n",
    "        U = rz(phi1[j])\n",
    "        el_rho_final_ideal = U*el_initial_xp*U.dag()\n",
    "        fid_mw =  np.empty((0, 2), dtype=float)\n",
    "        for k in range(n_rounds):\n",
    "            fid = (qt.fidelity(qt.Qobj(rho_mw_phi_n_array_cl[i][j][k]), el_rho_final_ideal))**2\n",
    "            fid_mw = np.append(fid_mw, fid)\n",
    "        fid_ave_mw = np.mean(fid_mw, axis = 0)\n",
    "        # this is only the variability of the measurement\n",
    "        fid_ave_std = np.std(fid_mw, axis = 0)/(np.sqrt(n_rounds))\n",
    "        fid_ave_phi_mw = np.append(fid_ave_phi_mw, fid_ave_mw)\n",
    "        fid_err_phi_mw = np.append(fid_err_phi_mw, fid_ave_std)\n",
    "    \n",
    "    fid_ave = np.append(fid_ave, fid_ave_phi_mw)\n",
    "    fid_err = np.append(fid_err, fid_err_phi_mw)\n",
    "    "
   ]
  },
  {
   "cell_type": "code",
   "execution_count": 235,
   "metadata": {},
   "outputs": [
    {
     "data": {
      "image/png": "[encoded data removed]",
      "text/plain": [
       "<Figure size 576x288 with 1 Axes>"
      ]
     },
     "metadata": {
      "needs_background": "light"
     },
     "output_type": "display_data"
    }
   ],
   "source": [
    "plt.figure(figsize=(8, 4))\n",
    "plt.plot(mw_list, fid_ave[::len(phi1)], color=c1)\n",
    "plt.errorbar(mw_list,  fid_ave[::len(phi1)], yerr= fid_err[::len(phi1)],  fmt='o', color=c1, label='phi=0')\n",
    "plt.plot(mw_list, fid_ave[1::len(phi1)], color=c2)\n",
    "plt.errorbar(mw_list,  fid_ave[1::len(phi1)], yerr= fid_err[1::len(phi1)],  fmt='o', color=c2, label='phi=pi/4')\n",
    "plt.plot(mw_list, fid_ave[2::len(phi1)], color=c3)\n",
    "plt.errorbar(mw_list,  fid_ave[2::len(phi1)], yerr= fid_err[2::len(phi1)],  fmt='o', color=c3, label='phi=pi/2')\n",
    "plt.plot(mw_list, fid_ave[3::len(phi1)], color=c4)\n",
    "plt.errorbar(mw_list,  fid_ave[3::len(phi1)], yerr= fid_err[3::len(phi1)],  fmt='o', color=c4, label='phi=3pi/4')\n",
    "\n",
    "#Add labels and title\n",
    "plt.xlabel('Mw gate fidelity')\n",
    "plt.ylabel('fidelity')\n",
    "plt.ylim(0.4, 1.1)\n",
    "plt.title('fidelity of single qubit rotation init xp')\n",
    "plt.legend()\n",
    "plt.savefig('/Users/azizasuleymanzade/Lukin SiV Dropbox/Aziza azizasuleymanzade@g.harvard.edu/bqc_paper/Simulation/SimulationCode/OutputFiles/BlindComputing/Fig1/Figures/PaperFigs/Fid_xpinit_vs_mw_real.png', format='pdf')   # Save as PDF\n",
    "\n",
    "\n",
    "# Show the plot\n",
    "plt.show()"
   ]
  },
  {
   "cell_type": "markdown",
   "metadata": {},
   "source": [
    "#### Checking mw fidelities when noise is incorporates"
   ]
  },
  {
   "cell_type": "code",
   "execution_count": null,
   "metadata": {},
   "outputs": [],
   "source": [
    "fidel_values_pi_pi2 = {'pi': 0.86,\n",
    "                'pi_half': 0.86\n",
    "                }\n",
    "\n",
    "pi_fid_arr_n =  np.empty((0, 2), dtype=float)\n",
    "pi2_fid_arr_n =  np.empty((0, 2), dtype=float)\n",
    "n_rounds_array = [5, 10]\n",
    "\n",
    "for n_rounds in n_rounds_array:\n",
    "    pi_fid_arr =  np.empty((0, 2), dtype=float)\n",
    "    pi2_fid_arr =  np.empty((0, 2), dtype=float)\n",
    "    for i in range(n_rounds):\n",
    "        print(i)\n",
    "        gates = set_mw_fidelities('real', 1, fidel_values_pi_pi2)\n",
    "        pi_fid = qt.fidelity(gates['pi']*qt.basis(2,0), qt.basis(2,1))**2\n",
    "        pi2_fid = qt.fidelity(gates['pi_half']*qt.basis(2,0), (qt.basis(2,0)+ qt.basis(2,1)).unit())**2\n",
    "        pi_fid_arr = np.append(pi_fid_arr, pi_fid)\n",
    "        pi2_fid_arr = np.append(pi2_fid_arr, pi2_fid)\n",
    "    pi_fid_arr_n = np.append(pi_fid_arr_n, np.array([np.mean(pi_fid_arr), np.std(pi_fid_arr)/np.sqrt(n_rounds)]))\n",
    "    pi2_fid_arr_n = np.append(pi2_fid_arr_n, np.array([np.mean(pi2_fid_arr), np.std(pi2_fid_arr)/np.sqrt(n_rounds)]))"
   ]
  },
  {
   "cell_type": "code",
   "execution_count": null,
   "metadata": {},
   "outputs": [],
   "source": [
    "plt.figure(figsize=(8, 4))\n",
    "plt.plot(n_rounds_array, pi_fid_arr_n[::2], color=c1)\n",
    "plt.errorbar(n_rounds_array,  pi_fid_arr_n[::2], yerr= pi_fid_arr_n[1::2],  fmt='o', color=c1, label='phi=0')\n",
    "\n",
    "plt.plot(n_rounds_array, pi2_fid_arr_n[::2], color=c4)\n",
    "plt.errorbar(n_rounds_array,  pi2_fid_arr_n[::2], yerr= pi2_fid_arr_n[1::2],  fmt='o', color=c4, label='phi=0')\n",
    "\n",
    "#Add labels and title\n",
    "plt.xlabel('n_rounds')\n",
    "plt.ylabel('fidelity')\n",
    "plt.title('fidelity of single qubit rotation init xp')\n",
    "plt.legend()\n",
    "\n",
    "# Show the plot\n",
    "plt.show()"
   ]
  },
  {
   "cell_type": "markdown",
   "metadata": {},
   "source": [
    "#### Blindness of the gates"
   ]
  },
  {
   "cell_type": "code",
   "execution_count": 236,
   "metadata": {},
   "outputs": [],
   "source": [
    "## compare to ideal results\n",
    "\n",
    "fid_err =  np.empty((0, 2), dtype=float)\n",
    "fid_ave =  np.empty((0, 2), dtype=float)\n",
    "\n",
    "for i in range(len(mw_list)):\n",
    "    fid_err_phi_mw =  np.empty((0, 2), dtype=float)\n",
    "    fid_ave_phi_mw =  np.empty((0, 2), dtype=float)\n",
    "    for j in range(len(phi1)):\n",
    "        U = rz(phi1[j])\n",
    "        el_rho_final_ideal = U*el_initial_xp*U.dag()\n",
    "        fid_mw =  np.empty((0, 2), dtype=float)\n",
    "        for k in range(n_rounds):\n",
    "            fid = (qt.fidelity(qt.Qobj(rho_mw_phi_n_array_cl[i][j][k]), el_rho_final_ideal))**2\n",
    "            fid_mw = np.append(fid_mw, fid)\n",
    "        fid_ave_mw = np.mean(fid_mw, axis = 0)\n",
    "        # this is only the variability of the measurement\n",
    "        fid_ave_std = np.std(fid_mw, axis = 0)/(np.sqrt(n_rounds))\n",
    "        fid_ave_phi_mw = np.append(fid_ave_phi_mw, fid_ave_mw)\n",
    "        fid_err_phi_mw = np.append(fid_err_phi_mw, fid_ave_std)\n",
    "    \n",
    "    fid_ave = np.append(fid_ave, fid_ave_phi_mw)\n",
    "    fid_err = np.append(fid_err, fid_err_phi_mw)\n",
    "    "
   ]
  },
  {
   "cell_type": "code",
   "execution_count": 237,
   "metadata": {},
   "outputs": [
    {
     "name": "stdout",
     "output_type": "stream",
     "text": [
      "0\n",
      "[0.27398246170426144, 0.7260175382957386] 0.0681068931761196\n",
      "[0.35003591999222583, 0.6499640800077742] 0.05426259954607323\n",
      "[0.30418138428904895, 0.695818615710951] 0.006751185663404619\n",
      "[0.316650448088903, 0.683349551911097] 0.04317911906546326\n",
      "1\n",
      "[0.4320151609849207, 0.5679848390150792] 0.04365292999493055\n",
      "[0.36567845892609496, 0.634321541073905] 0.0461423227782587\n",
      "[0.4111207102081354, 0.5888792897918645] 0.036431583269801844\n",
      "[0.3850706020790644, 0.6149293979209356] 0.03921161348902117\n",
      "2\n",
      "[0.4325663162844182, 0.5674336837155818] 0.0454406200695715\n",
      "[0.41065538572987104, 0.589344614270129] 0.0438171083842167\n",
      "[0.4258934262601952, 0.5741065737398048] 0.03229383576751157\n",
      "[0.45419689996214097, 0.545803100037859] 0.04067593979587135\n",
      "3\n",
      "[0.37442414840784977, 0.6255758515921502] 0.05248754018124168\n",
      "[0.3993755029530427, 0.6006244970469573] 0.04312453079928909\n",
      "[0.40331590144396157, 0.5966840985560384] 0.035535041929560196\n",
      "[0.3441660441687512, 0.6558339558312488] 0.03865437333230572\n",
      "4\n",
      "[0.4345080931395432, 0.5654919068604568] 0.052366525055558784\n",
      "[0.3487572384314191, 0.651242761568581] 0.04099938931989878\n",
      "[0.3485701858444914, 0.6514298141555086] 0.05480708680107385\n",
      "[0.3917832264540866, 0.6082167735459134] 0.04353434851174982\n",
      "5\n",
      "[0.3327848917302738, 0.6672151082697262] 0.05218102630703161\n",
      "[0.38175032075162424, 0.6182496792483758] 0.040764437508835794\n",
      "[0.3493048581407856, 0.6506951418592144] 0.039048638332244597\n",
      "[0.40553892335687614, 0.5944610766431239] 0.04121690974758922\n"
     ]
    }
   ],
   "source": [
    "hol_err =  np.empty((0, 2), dtype=float)\n",
    "hol_ave =  np.empty((0, 2), dtype=float)\n",
    "\n",
    "for i in range(len(mw_list)):\n",
    "    print(i)\n",
    "    rho_ave_phi_array =  np.empty((0, 2, 2), dtype=float)\n",
    "    eigen_phi_std_array = np.empty((0, 2), dtype=float)\n",
    "    eig_eta_array = np.empty((0, 2), dtype=float)\n",
    "    for j in range(len(phi1)):\n",
    "        nxnynz_array =  np.empty((0, 3), dtype=float)\n",
    "        for k in range(n_rounds):\n",
    "            nx, ny, nz = np.round(calculate_bloch_components(qt.Qobj(rho_mw_phi_n_array_s[i][j][k])), 5)\n",
    "            nxnynz_array =  np.vstack([nxnynz_array, [nx, ny, nz]])\n",
    "        mean_nxnynz = np.mean(nxnynz_array, axis =0)\n",
    "        std_nxnynz = np.std(nxnynz_array, axis =0)/np.sqrt(n_rounds)\n",
    "        std_eigen_eta = eigenvalue_uncertainty(mean_nxnynz, std_nxnynz)\n",
    "        eigen_eta = [(1/2)*(1 -np.sqrt(np.sum(mean_nxnynz**2))), (1/2)*(1 +np.sqrt(np.sum(mean_nxnynz**2)))]\n",
    "        print(eigen_eta, std_eigen_eta)\n",
    "\n",
    "        eig_eta_array = np.append(eig_eta_array, np.array([eigen_eta]))\n",
    "        # density state for a phi\n",
    "        rho_ave_phi = np.mean(rho_mw_phi_n_array_s[i][j], axis = 0)\n",
    "        rho_ave_phi_array = np.append(rho_ave_phi_array, [rho_ave_phi], axis = 0)\n",
    "        eigen_phi_std_array = np.append(eigen_phi_std_array, std_eigen_eta)\n",
    "\n",
    "    rho_ave_tot = np.mean(rho_ave_phi_array, axis = 0)\n",
    "    nxnynz = np.array([calculate_bloch_components(qt.Qobj(rho_ave_tot))])\n",
    "    nxnynz_std = np.sqrt(np.sum(eigen_phi_std_array**2))/len(eigen_phi_std_array)\n",
    "\n",
    "    # std of variability of eigenvalues of rho tot\n",
    "    std_eigen_eta = eigenvalue_uncertainty(nxnynz.ravel(), [nxnynz_std,nxnynz_std,nxnynz_std])\n",
    "    eigen_tot = np.abs(qt.Qobj(rho_ave_tot).eigenenergies())\n",
    "\n",
    "    hv_tot = qt.entropy_vn(qt.Qobj(rho_ave_tot)) - np.mean([qt.entropy_vn(qt.Qobj(rho)) for rho in rho_ave_phi_array])\n",
    "    rho_tot_sigma_lambdas = (std_eigen_eta, std_eigen_eta)\n",
    "    rho_tot_lambdas = (eigen_tot[0], eigen_tot[1])\n",
    "    rho_lambdas = [(eig_eta_array[i], eig_eta_array[i+1]) for i in range(0, len(eig_eta_array), 2)] \n",
    "    rho_sigma_lambdas =  [(value, value) for value in eigen_phi_std_array]\n",
    "    hv_std = holevo_bound_uncertainty_1q(rho_tot_lambdas, rho_tot_sigma_lambdas, rho_lambdas, rho_sigma_lambdas)\n",
    "    hol_ave = np.append(hol_ave, hv_tot)\n",
    "    hol_err = np.append(hol_err, hv_std)\n"
   ]
  },
  {
   "cell_type": "code",
   "execution_count": 238,
   "metadata": {},
   "outputs": [
    {
     "data": {
      "image/png": "[encoded data removed]",
      "text/plain": [
       "<Figure size 576x288 with 1 Axes>"
      ]
     },
     "metadata": {
      "needs_background": "light"
     },
     "output_type": "display_data"
    }
   ],
   "source": [
    "plt.figure(figsize=(8, 4))\n",
    "plt.plot(mw_list, hol_ave, color=c1)\n",
    "plt.errorbar(mw_list,  hol_ave, yerr= hol_err,  fmt='o', color=c1)\n",
    "\n",
    "#Add labels and title\n",
    "plt.xlabel('MW fid')\n",
    "plt.ylabel('Blindness')\n",
    "plt.title('Blindness of single qubit single rotation, init x+')\n",
    "plt.savefig('/Users/azizasuleymanzade/Lukin SiV Dropbox/Aziza azizasuleymanzade@g.harvard.edu/bqc_paper/Simulation/SimulationCode/OutputFiles/BlindComputing/Fig1/Figures/PaperFigs/Blind_xpinit_mu0002_vs_mw.pdf', format='pdf')   # Save as PDF\n",
    "\n",
    "\n",
    "# Show the plot\n",
    "plt.show()"
   ]
  },
  {
   "cell_type": "code",
   "execution_count": 39,
   "metadata": {},
   "outputs": [],
   "source": [
    "def blindness_singleRot(rho_array_cl):\n",
    "        \"\"\"\n",
    "        Calculate the Holevo bound and its uncertainty given an array of density matrices and their standard deviations.\n",
    "        \n",
    "        Parameters:\n",
    "        - rho_phi_array: List or array of density matrices corresponding to different phases.\n",
    "        - rho_std_phi_array: List or array of standard deviations for each element in the density matrices.\n",
    "        - delta: Small perturbation value for numerical derivative (default is 1e-6).\n",
    "        \n",
    "        Returns:\n",
    "        - holevo: The calculated Holevo bound.\n",
    "        - holevo_error: The uncertainty in the Holevo bound.\n",
    "        \"\"\"\n",
    "        \n",
    "        # Calculate the average density matrix\n",
    "        rho_all = np.mean(rho_phi_array, axis=0)\n",
    "        \n",
    "        # Calculate the mean entropy of the individual density matrices\n",
    "        mn = np.mean([qt.entropy_vn(qt.Qobj(rho)) for rho in rho_phi_array])\n",
    "\n",
    "        # Calculate the Holevo bound\n",
    "        holevo = qt.entropy_vn(qt.Qobj(rho_all)) - mn\n",
    "\n",
    "        # Initialize the error in the Holevo bound\n",
    "        holevo_error = 0\n",
    "        \n",
    "        for k, rho in enumerate(rho_phi_array):\n",
    "            partial_derivatives = np.zeros(rho.shape, dtype=complex)\n",
    "            chi = holevo\n",
    "            \n",
    "            # Calculate the partial derivatives numerically\n",
    "            for i in range(rho.shape[0]):\n",
    "                for j in range(rho.shape[1]):\n",
    "                    perturbed_rho = rho.copy()\n",
    "                    \n",
    "                    # Apply perturbation and ensure Hermiticity\n",
    "                    delta_rho = np.zeros(rho.shape, dtype=complex)\n",
    "                    delta_rho[i, j] = delta\n",
    "                    delta_rho[j, i] = np.conj(delta_rho[i, j])  # Ensure Hermiticity\n",
    "                    \n",
    "                    # Adjust diagonal elements to preserve trace\n",
    "                    trace_adjustment = np.trace(delta_rho)\n",
    "                    delta_rho[i, i] -= trace_adjustment / rho.shape[0]\n",
    "                    \n",
    "                    perturbed_rho += delta_rho\n",
    "                    \n",
    "                    # Calculate perturbed average density matrix\n",
    "                    perturbed_rho_all = np.mean(\n",
    "                        [perturbed_rho if idx == k else rho_phi_array[idx] for idx in range(len(rho_phi_array))],\n",
    "                        axis=0\n",
    "                    )\n",
    "                    \n",
    "                    # Recalculate mean entropy\n",
    "                    perturbed_mn = np.mean([qt.entropy_vn(qt.Qobj(rho_phi)) for rho_phi in rho_phi_array])\n",
    "                    \n",
    "                    # Calculate perturbed Holevo bound\n",
    "                    perturbed_chi = qt.entropy_vn(qt.Qobj(perturbed_rho_all)) - perturbed_mn\n",
    "                    \n",
    "                    # Calculate the partial derivative\n",
    "                    partial_derivatives[i, j] = (perturbed_chi - chi) / delta\n",
    "            \n",
    "            # Sum the squared errors propagated through each partial derivative\n",
    "            holevo_error += np.sum((np.abs(partial_derivatives) * rho_std_phi_array[k]) ** 2)\n",
    "        \n",
    "        # Take the square root to obtain the final uncertainty\n",
    "        holevo_error = np.abs(np.sqrt(holevo_error))\n",
    "        return holevo, holevo_error"
   ]
  },
  {
   "cell_type": "markdown",
   "metadata": {},
   "source": [
    "## Single gate fidelities and blindness as a function of contrast errors"
   ]
  },
  {
   "cell_type": "code",
   "execution_count": 262,
   "metadata": {},
   "outputs": [],
   "source": [
    "contrast_list = np.array([ 7., 12., 25, 40, 100])\n",
    "phi1 = [0, np.pi/4, np.pi/2, 3*np.pi/4]\n",
    "phi2 = 0\n",
    "phi3 = 0\n",
    "el_initial_xp  = qt.ket2dm((qt.basis(2,0)+ qt.basis(2,1)).unit())"
   ]
  },
  {
   "cell_type": "code",
   "execution_count": 269,
   "metadata": {},
   "outputs": [
    {
     "name": "stdout",
     "output_type": "stream",
     "text": [
      "7.0\n",
      "new contrast 9.981021888931672\n",
      "9.981021888931672\n",
      "Phi angle =  0\n",
      "Phi angle =  0.7853981633974483\n",
      "Phi angle =  1.5707963267948966\n",
      "Phi angle =  2.356194490192345\n",
      "12.0\n",
      "new contrast 9.981021888931672\n",
      "9.981021888931672\n",
      "Phi angle =  0\n",
      "Phi angle =  0.7853981633974483\n",
      "Phi angle =  1.5707963267948966\n",
      "Phi angle =  2.356194490192345\n",
      "25.0\n",
      "new contrast 22.03805164132863\n",
      "22.03805164132863\n",
      "Phi angle =  0\n",
      "Phi angle =  0.7853981633974483\n",
      "Phi angle =  1.5707963267948966\n",
      "Phi angle =  2.356194490192345\n",
      "40.0\n",
      "new contrast 37.18256904453955\n",
      "37.18256904453955\n",
      "Phi angle =  0\n",
      "Phi angle =  0.7853981633974483\n",
      "Phi angle =  1.5707963267948966\n",
      "Phi angle =  2.356194490192345\n",
      "100.0\n",
      "new contrast 97.72142048199245\n",
      "97.72142048199245\n",
      "Phi angle =  0\n",
      "Phi angle =  0.7853981633974483\n",
      "Phi angle =  1.5707963267948966\n",
      "Phi angle =  2.356194490192345\n"
     ]
    }
   ],
   "source": [
    "# redoing the structure to make calculations faster. Scan mw first, then phi then n rounds \n",
    "# do calculations on all of the matricies, don't save\n",
    "# do errors properly\n",
    "\n",
    "imperfections ={'contrast_noise': 0, #(0 not noisy or 1 noisy)\n",
    "                'contrast': 'real', #'real'\n",
    "                'tdinoise': 0, #np.pi/25, #'real'\n",
    "                'mw': 'perfect', # or perfect\n",
    "                'mw_noise': 0, #(0 is stable or 1 noisy/underotates overroates every experimental shot)\n",
    "                'mw_fid_num': [1, 1] # default fidelities\n",
    "               }\n",
    "\n",
    "cluster_state_length = 1\n",
    "\n",
    "n_rounds = 40\n",
    "n_col = 6\n",
    "mu = 0.0000001\n",
    "\n",
    "rates_apd1_apd2_angle = np.empty((0, 2), dtype=float)\n",
    "rho_contr_phi_n_array_s = np.empty((0, len(phi1), n_rounds, 2, 2), dtype=complex)\n",
    "rho_contr_phi_n_array_cl = np.empty((0, len(phi1), n_rounds, 2, 2), dtype=complex)\n",
    "\n",
    "#phi list\n",
    "for i in range(len(contrast_list)):\n",
    "    contrast = contrast_list[i]\n",
    "\n",
    "    print(contrast)\n",
    "    real_contrasts = np.empty((0, 2), dtype=float)\n",
    "\n",
    "    # move SiV in B16 to a new contrast location\n",
    "    siv_b.set_contrast(contrast)\n",
    "    actual_contrast = siv_b.get_best_contrast()\n",
    "    print(actual_contrast)\n",
    "    real_contrasts = np.append(real_contrasts, actual_contrast)\n",
    "\n",
    "    rates_apd1_apd2 = np.empty((0, 2), dtype=float)\n",
    "    rho_phi_n_array_s = np.empty((0, n_rounds, 2, 2), dtype=complex)\n",
    "    rho_phi_n_array_cl = np.empty((0, n_rounds, 2, 2), dtype=complex)\n",
    "\n",
    "    for j in range(len(phi1)):\n",
    "        rho_n_array_cl = np.empty((0, 2, 2), dtype=complex)\n",
    "        rho_n_array_s = np.empty((0, 2, 2), dtype=complex)\n",
    "        rho_click = np.empty((0, 1), dtype=int)\n",
    "        phi1e = phi1[j]\n",
    "        print(\"Phi angle = \", phi1e)\n",
    "        for i in range(n_rounds): \n",
    "            rho_init_xp = sim.single_node_electron_exp(el_initial_xp, imperfections, cluster_state_length, phi1e, phi1, phi3, mu)\n",
    "            rho_n_array_s = np.append(rho_n_array_s, [rho_init_xp[0]], axis = 0)\n",
    "            rho_n_array_cl = np.append(rho_n_array_cl, [(qt.sigmaz()**(rho_init_xp[1]))*rho_init_xp[0]*(qt.sigmaz()**(rho_init_xp[1]))], axis = 0)\n",
    "        rates_apd1_apd2 = np.append(rates_apd1_apd2, [rho_init_xp[2:4]])\n",
    "        \n",
    "        rho_phi_n_array_s = np.vstack([rho_phi_n_array_s, [rho_n_array_s]])\n",
    "        rho_phi_n_array_cl = np.vstack([rho_phi_n_array_cl, [rho_n_array_cl]])\n",
    "    \n",
    "    rho_contr_phi_n_array_s= np.vstack([rho_contr_phi_n_array_s, [rho_phi_n_array_s]])\n",
    "    rho_contr_phi_n_array_cl= np.vstack([rho_contr_phi_n_array_cl, [rho_phi_n_array_cl]])\n",
    "\n"
   ]
  },
  {
   "cell_type": "markdown",
   "metadata": {},
   "source": [
    "#### Fidelity of the gates"
   ]
  },
  {
   "cell_type": "code",
   "execution_count": 270,
   "metadata": {},
   "outputs": [],
   "source": [
    "## compare to ideal results\n",
    "\n",
    "fid_err =  np.empty((0, 2), dtype=float)\n",
    "fid_ave =  np.empty((0, 2), dtype=float)\n",
    "\n",
    "for i in range(len(contrast_list)):\n",
    "    fid_err_phi_contr =  np.empty((0, 2), dtype=float)\n",
    "    fid_ave_phi_contr =  np.empty((0, 2), dtype=float)\n",
    "    for j in range(len(phi1)):\n",
    "        U = rz(phi1[j])\n",
    "        el_rho_final_ideal = U*el_initial_xp*U.dag()\n",
    "        fid_contr =  np.empty((0, 2), dtype=float)\n",
    "        for k in range(n_rounds):\n",
    "            fid = (qt.fidelity(qt.Qobj(rho_contr_phi_n_array_cl[i][j][k]), el_rho_final_ideal))**2\n",
    "            fid_contr = np.append(fid_contr, fid)\n",
    "        fid_ave_contr = np.mean(fid_contr, axis = 0)\n",
    "        # this is only the variability of the measurement\n",
    "        fid_ave_std = np.std(fid_contr, axis = 0)/(np.sqrt(n_rounds))\n",
    "\n",
    "        fid_err_phi_contr = np.append(fid_err_phi_contr, fid_ave_std)\n",
    "        fid_ave_phi_contr = np.append(fid_ave_phi_contr, fid_ave_contr)\n",
    "    \n",
    "    fid_ave = np.append(fid_ave, fid_ave_phi_contr)\n",
    "    fid_err = np.append(fid_err, fid_err_phi_contr)\n",
    "    "
   ]
  },
  {
   "cell_type": "code",
   "execution_count": 273,
   "metadata": {},
   "outputs": [
    {
     "data": {
      "image/png": "[encoded data removed]",
      "text/plain": [
       "<Figure size 576x288 with 1 Axes>"
      ]
     },
     "metadata": {
      "needs_background": "light"
     },
     "output_type": "display_data"
    }
   ],
   "source": [
    "\n",
    "plt.figure(figsize=(8, 4))\n",
    "plt.plot(contrast_list[:-1], fid_ave[::len(phi1)][:-1], color=c1)\n",
    "plt.errorbar(contrast_list[:-1],  fid_ave[::len(phi1)][:-1], yerr= fid_err[::len(phi1)][:-1],  fmt='o', color=c1, label='phi=0')\n",
    "plt.plot(contrast_list[:-1], fid_ave[1::len(phi1)][:-1], color=c2)\n",
    "plt.errorbar(contrast_list[:-1],  fid_ave[1::len(phi1)][:-1], yerr= fid_err[1::len(phi1)][:-1],  fmt='o', color=c2, label='phi=pi/4')\n",
    "plt.plot(contrast_list[:-1], fid_ave[2::len(phi1)][:-1], color=c3)\n",
    "plt.errorbar(contrast_list[:-1],  fid_ave[2::len(phi1)][:-1], yerr= fid_err[2::len(phi1)][:-1],  fmt='o', color=c3, label='phi=pi/2')\n",
    "plt.plot(contrast_list[:-1], fid_ave[3::len(phi1)][:-1], color=c4)\n",
    "plt.errorbar(contrast_list[:-1],  fid_ave[3::len(phi1)][:-1], yerr= fid_err[3::len(phi1)][:-1],  fmt='o', color=c4, label='phi=3pi/4')\n",
    "\n",
    "#Add labels and title\n",
    "plt.xlabel('Contrast')\n",
    "plt.ylabel('fidelity')\n",
    "plt.ylim(0.8,1.01)\n",
    "plt.title('fidelity of single qubit rotation init xp')\n",
    "plt.legend()\n",
    "plt.savefig('/Users/azizasuleymanzade/Lukin SiV Dropbox/Aziza azizasuleymanzade@g.harvard.edu/bqc_paper/Simulation/SimulationCode/OutputFiles/BlindComputing/Fig1/Figures/PaperFigs/Fid_xpinit_vs_contr_perfect.png', format='pdf')   # Save as PDF\n",
    "\n",
    "# Show the plot\n",
    "plt.show()"
   ]
  },
  {
   "cell_type": "markdown",
   "metadata": {},
   "source": [
    "#### Blindness of the gates"
   ]
  },
  {
   "cell_type": "code",
   "execution_count": 53,
   "metadata": {},
   "outputs": [
    {
     "name": "stdout",
     "output_type": "stream",
     "text": [
      "0\n",
      "(0.19923893570384, 0.80076106429616)\n",
      "(0.007599210177062265, 0.007599210177062265)\n",
      "[(0.011910840610884488, 0.9880891593891155), (0.03639949337378273, 0.9636005066262172), (0.0962584552928678, 0.9037415447071322), (0.06033025003009296, 0.939669749969907)]\n",
      "[(0.004224512461996314, 0.004224512461996314), (0.03595066031754395, 0.03595066031754395), (0.008391781826283687, 0.008391781826283687), (0.048116039063307504, 0.048116039063307504)]\n",
      "1\n",
      "(0.21210355895591182, 0.7878964410440882)\n",
      "(0.00830869513281823, 0.00830869513281823)\n",
      "[(0.011910840610884488, 0.9880891593891155), (0.046673518592725394, 0.9533264814072746), (0.09590244791941516, 0.9040975520805848), (0.06033025003009285, 0.9396697499699072)]\n",
      "[(0.004224512461996314, 0.004224512461996314), (0.04096019814357704, 0.04096019814357704), (0.02018576219029448, 0.02018576219029448), (0.048116039063307504, 0.048116039063307504)]\n"
     ]
    }
   ],
   "source": [
    "hol_err =  np.empty((0, 2), dtype=float)\n",
    "hol_ave =  np.empty((0, 2), dtype=float)\n",
    "\n",
    "for i in range(len(contrast_list)):\n",
    "    print(i)\n",
    "    rho_ave_phi_array =  np.empty((0, 2, 2), dtype=float)\n",
    "    eigen_phi_std_array = np.empty((0, 2), dtype=float)\n",
    "    eig_eta_array = np.empty((0, 2), dtype=float)\n",
    "    for j in range(len(phi1)):\n",
    "        nxnynz_array =  np.empty((0, 3), dtype=float)\n",
    "        for k in range(n_rounds):\n",
    "            nx, ny, nz = calculate_bloch_components(qt.Qobj(rho_contr_phi_n_array_cl[i][j][k]))\n",
    "            nxnynz_array =  np.vstack([nxnynz_array, [nx, ny, nz]])\n",
    "        mean_nxnynz = np.mean(nxnynz_array, axis =0)\n",
    "        std_nxnynz = np.std(nxnynz_array, axis =0)/np.sqrt(n_rounds)\n",
    "        std_eigen_eta = eigenvalue_uncertainty(mean_nxnynz, std_nxnynz)\n",
    "        eigen_eta = [(1/2)*(1 -np.sqrt(np.sum(mean_nxnynz**2))), (1/2)*(1 +np.sqrt(np.sum(mean_nxnynz**2)))]\n",
    "        # print(eigen_eta, std_eigen_eta)\n",
    "\n",
    "        eig_eta_array = np.append(eig_eta_array, np.array([eigen_eta]))\n",
    "        # density state for a phi\n",
    "        rho_ave_phi = np.mean(rho_contr_phi_n_array_s[i][j], axis = 0)\n",
    "        rho_ave_phi_array = np.append(rho_ave_phi_array, [rho_ave_phi], axis = 0)\n",
    "        eigen_phi_std_array = np.append(eigen_phi_std_array, std_eigen_eta)\n",
    "\n",
    "    rho_ave_tot = np.mean(rho_ave_phi_array, axis = 0)\n",
    "    nxnynz = np.array([calculate_bloch_components(qt.Qobj(rho_ave_tot))])\n",
    "    nxnynz_std = np.sqrt(np.sum(eigen_phi_std_array**2))/len(eigen_phi_std_array)\n",
    "\n",
    "    # std of variability of eigenvalues of rho tot\n",
    "    std_eigen_eta = eigenvalue_uncertainty(nxnynz.ravel(), [nxnynz_std,nxnynz_std,nxnynz_std])\n",
    "    eigen_tot = np.abs(qt.Qobj(rho_ave_tot).eigenenergies())\n",
    "\n",
    "    hv_tot = qt.entropy_vn(qt.Qobj(rho_ave_tot)) - np.mean([qt.entropy_vn(qt.Qobj(rho)) for rho in rho_ave_phi_array])\n",
    "    rho_tot_sigma_lambdas = (std_eigen_eta, std_eigen_eta)\n",
    "    rho_tot_lambdas = (eigen_tot[0], eigen_tot[1])\n",
    "    rho_lambdas = [(eig_eta_array[i], eig_eta_array[i+1]) for i in range(0, len(eig_eta_array), 2)] \n",
    "    rho_sigma_lambdas =  [(value, value) for value in eigen_phi_std_array]\n",
    "    print(rho_tot_lambdas)\n",
    "    print(rho_tot_sigma_lambdas)\n",
    "    print(rho_lambdas)\n",
    "    print(rho_sigma_lambdas)\n",
    "\n",
    "    hv_std = holevo_bound_uncertainty_1q(rho_tot_lambdas, rho_tot_sigma_lambdas, rho_lambdas, rho_sigma_lambdas)\n",
    "    hol_ave = np.append(hol_ave, hv_tot)\n",
    "    hol_err = np.append(hol_err, hv_std)\n"
   ]
  },
  {
   "cell_type": "code",
   "execution_count": 54,
   "metadata": {},
   "outputs": [
    {
     "data": {
      "image/png": "[encoded data removed]",
      "text/plain": [
       "<Figure size 576x288 with 1 Axes>"
      ]
     },
     "metadata": {
      "needs_background": "light"
     },
     "output_type": "display_data"
    }
   ],
   "source": [
    "plt.figure(figsize=(8, 4))\n",
    "plt.plot(contrast_list, hol_ave, color=c1)\n",
    "plt.errorbar(contrast_list,  hol_ave, yerr= hol_err,  fmt='o', color=c1)\n",
    "\n",
    "#Add labels and title\n",
    "plt.xlabel('contrast fid')\n",
    "plt.xscale('log')\n",
    "plt.ylabel('Blindness')\n",
    "plt.title('Blindness of single qubit single rotation, init x+')\n",
    "plt.savefig('/Users/azizasuleymanzade/Lukin SiV Dropbox/Aziza azizasuleymanzade@g.harvard.edu/bqc_paper/Simulation/SimulationCode/OutputFiles/BlindComputing/Fig1/Figures/PaperFigs/Blind_xpinit_mu0002_vs_contrast.pdf', format='pdf')   # Save as PDF\n",
    "\n",
    "\n",
    "# Show the plot\n",
    "plt.show()"
   ]
  },
  {
   "cell_type": "markdown",
   "metadata": {},
   "source": [
    "## Single gate fidelities and blindness as a function of mu errors"
   ]
  },
  {
   "cell_type": "code",
   "execution_count": 184,
   "metadata": {},
   "outputs": [],
   "source": [
    "mu_list = np.linspace(0.0001, 0.5, 10)\n",
    "\n",
    "phi1 = [0, np.pi/4, np.pi/2, 3*np.pi/4]\n",
    "phi2 = 0\n",
    "phi3 = 0\n",
    "el_initial_xp  = qt.ket2dm((qt.basis(2,0)+ qt.basis(2,1)).unit())"
   ]
  },
  {
   "cell_type": "code",
   "execution_count": 185,
   "metadata": {},
   "outputs": [
    {
     "name": "stdout",
     "output_type": "stream",
     "text": [
      "new contrast 22.03805164132863\n",
      "B16 contrast is set to =  22.03805164132863\n"
     ]
    }
   ],
   "source": [
    "b16_contrast = 25 # range 18 - 30\n",
    "g12_contrast = 20 # range 12 - 20\n",
    "\n",
    "siv_b.set_contrast(b16_contrast)\n",
    "actual_contrast_b16 = siv_b.get_best_contrast()\n",
    "print(\"B16 contrast is set to = \", actual_contrast_b16)"
   ]
  },
  {
   "cell_type": "code",
   "execution_count": 194,
   "metadata": {},
   "outputs": [
    {
     "name": "stdout",
     "output_type": "stream",
     "text": [
      "0.0001\n",
      "Phi angle =  0\n",
      "Phi angle =  0.7853981633974483\n",
      "Phi angle =  1.5707963267948966\n",
      "Phi angle =  2.356194490192345\n",
      "0.05564444444444445\n",
      "Phi angle =  0\n",
      "Phi angle =  0.7853981633974483\n",
      "Phi angle =  1.5707963267948966\n",
      "Phi angle =  2.356194490192345\n",
      "0.11118888888888889\n",
      "Phi angle =  0\n",
      "Phi angle =  0.7853981633974483\n",
      "Phi angle =  1.5707963267948966\n",
      "Phi angle =  2.356194490192345\n",
      "0.16673333333333332\n",
      "Phi angle =  0\n",
      "Phi angle =  0.7853981633974483\n",
      "Phi angle =  1.5707963267948966\n",
      "Phi angle =  2.356194490192345\n",
      "0.22227777777777777\n",
      "Phi angle =  0\n",
      "Phi angle =  0.7853981633974483\n",
      "Phi angle =  1.5707963267948966\n",
      "Phi angle =  2.356194490192345\n",
      "0.2778222222222222\n",
      "Phi angle =  0\n",
      "Phi angle =  0.7853981633974483\n",
      "Phi angle =  1.5707963267948966\n",
      "Phi angle =  2.356194490192345\n",
      "0.33336666666666664\n",
      "Phi angle =  0\n",
      "Phi angle =  0.7853981633974483\n",
      "Phi angle =  1.5707963267948966\n",
      "Phi angle =  2.356194490192345\n",
      "0.3889111111111111\n",
      "Phi angle =  0\n",
      "Phi angle =  0.7853981633974483\n",
      "Phi angle =  1.5707963267948966\n",
      "Phi angle =  2.356194490192345\n",
      "0.44445555555555555\n",
      "Phi angle =  0\n",
      "Phi angle =  0.7853981633974483\n",
      "Phi angle =  1.5707963267948966\n",
      "Phi angle =  2.356194490192345\n",
      "0.5\n",
      "Phi angle =  0\n",
      "Phi angle =  0.7853981633974483\n",
      "Phi angle =  1.5707963267948966\n",
      "Phi angle =  2.356194490192345\n"
     ]
    }
   ],
   "source": [
    "imperfections ={'contrast_noise': 0, #(0 not noisy or 1 noisy)\n",
    "                'contrast': 'real', #'real' set by the cavity-QED parameters\n",
    "                'tdinoise': - 0.1, #np.pi/25, #'real'\n",
    "                'mw': 'real', # or perfect\n",
    "                'mw_noise': 1, #(0 is stable or 1 noisy/underotates overroates every experimental shot)\n",
    "                'mw_fid_num': [0.99, 0.99] # default fidelities\n",
    "               }\n",
    "cluster_state_length = 1\n",
    "\n",
    "n_rounds = 40\n",
    "n_col = 6\n",
    "\n",
    "rates_apd1_apd2_angle = np.empty((0, 2), dtype=float)\n",
    "rho_mu_phi_n_array_s = np.empty((0, len(phi1), n_rounds, 2, 2), dtype=complex)\n",
    "rho_mu_phi_n_array_cl = np.empty((0, len(phi1), n_rounds, 2, 2), dtype=complex)\n",
    "\n",
    "#phi list\n",
    "for i in range(len(mu_list)):\n",
    "    mu = mu_list[i]\n",
    "\n",
    "    print(mu)\n",
    "\n",
    "    rates_apd1_apd2 = np.empty((0, 2), dtype=float)\n",
    "    rho_phi_n_array_s = np.empty((0, n_rounds, 2, 2), dtype=complex)\n",
    "    rho_phi_n_array_cl = np.empty((0, n_rounds, 2, 2), dtype=complex)\n",
    "\n",
    "    for j in range(len(phi1)):\n",
    "        rho_n_array_cl = np.empty((0, 2, 2), dtype=complex)\n",
    "        rho_n_array_s = np.empty((0, 2, 2), dtype=complex)\n",
    "        rho_click = np.empty((0, 1), dtype=int)\n",
    "        phi1e = phi1[j]\n",
    "        print(\"Phi angle = \", phi1e)\n",
    "        for i in range(n_rounds): \n",
    "            rho_init_xp = sim.single_node_electron_exp(el_initial_xp, imperfections, cluster_state_length, phi1e, phi1, phi3, mu)\n",
    "            rho_n_array_s = np.append(rho_n_array_s, [rho_init_xp[0]], axis = 0)\n",
    "            rho_n_array_cl = np.append(rho_n_array_cl, [(qt.sigmaz()**(rho_init_xp[1]))*rho_init_xp[0]*(qt.sigmaz()**(rho_init_xp[1]))], axis = 0)\n",
    "        rates_apd1_apd2 = np.append(rates_apd1_apd2, [rho_init_xp[2:4]])\n",
    "        \n",
    "        rho_phi_n_array_s = np.vstack([rho_phi_n_array_s, [rho_n_array_s]])\n",
    "        rho_phi_n_array_cl = np.vstack([rho_phi_n_array_cl, [rho_n_array_cl]])\n",
    "    \n",
    "    rho_mu_phi_n_array_s= np.vstack([rho_mu_phi_n_array_s, [rho_phi_n_array_s]])\n",
    "    rho_mu_phi_n_array_cl= np.vstack([rho_mu_phi_n_array_cl, [rho_phi_n_array_cl]])\n",
    "\n"
   ]
  },
  {
   "cell_type": "markdown",
   "metadata": {},
   "source": [
    "#### Fidelity of the gates"
   ]
  },
  {
   "cell_type": "code",
   "execution_count": 195,
   "metadata": {},
   "outputs": [],
   "source": [
    "## compare to ideal results\n",
    "\n",
    "fid_err =  np.empty((0, 2), dtype=float)\n",
    "fid_ave =  np.empty((0, 2), dtype=float)\n",
    "\n",
    "for i in range(len(mu_list)):\n",
    "    fid_err_phi_mu =  np.empty((0, 2), dtype=float)\n",
    "    fid_ave_phi_mu =  np.empty((0, 2), dtype=float)\n",
    "    for j in range(len(phi1)):\n",
    "        U = rz(phi1[j])\n",
    "        el_rho_final_ideal = U*el_initial_xp*U.dag()\n",
    "        fid_mu =  np.empty((0, 2), dtype=float)\n",
    "        for k in range(n_rounds):\n",
    "            fid = (qt.fidelity(qt.Qobj(rho_mu_phi_n_array_cl[i][j][k]), el_rho_final_ideal))**2\n",
    "            fid_mu = np.append(fid_mu, fid)\n",
    "        fid_ave_mu = np.mean(fid_mu, axis = 0)\n",
    "        # this is only the variability of the measurement\n",
    "        fid_ave_std = np.std(fid_mu, axis = 0)/(np.sqrt(n_rounds))\n",
    "        fid_err_phi_mu = np.append(fid_err_phi_mu, fid_ave_std)\n",
    "        fid_ave_phi_mu = np.append(fid_ave_phi_mu, fid_ave_mu)\n",
    "    \n",
    "    fid_ave = np.append(fid_ave, fid_ave_phi_mu)\n",
    "    fid_err = np.append(fid_err, fid_err_phi_mu)\n",
    "    "
   ]
  },
  {
   "cell_type": "code",
   "execution_count": 196,
   "metadata": {},
   "outputs": [
    {
     "data": {
      "image/png": "[encoded data removed]",
      "text/plain": [
       "<Figure size 576x288 with 1 Axes>"
      ]
     },
     "metadata": {
      "needs_background": "light"
     },
     "output_type": "display_data"
    }
   ],
   "source": [
    "plt.figure(figsize=(8, 4))\n",
    "plt.plot(mu_list, fid_ave[::len(phi1)], color=c1)\n",
    "plt.errorbar(mu_list,  fid_ave[::len(phi1)], yerr= fid_err[::len(phi1)],  fmt='o', color=c1, label='phi=0')\n",
    "plt.plot(mu_list, fid_ave[1::len(phi1)], color=c2)\n",
    "plt.errorbar(mu_list,  fid_ave[1::len(phi1)], yerr= fid_err[1::len(phi1)],  fmt='o', color=c2, label='phi=pi/4')\n",
    "plt.plot(mu_list, fid_ave[2::len(phi1)], color=c3)\n",
    "plt.errorbar(mu_list,  fid_ave[2::len(phi1)], yerr= fid_err[2::len(phi1)],  fmt='o', color=c3, label='phi=pi/2')\n",
    "plt.plot(mu_list, fid_ave[3::len(phi1)], color=c4)\n",
    "plt.errorbar(mu_list,  fid_ave[3::len(phi1)], yerr= fid_err[3::len(phi1)],  fmt='o', color=c4, label='phi=3pi/4')\n",
    "\n",
    "#Add labels and title\n",
    "plt.xlabel('Average number of photons per qubit')\n",
    "plt.ylabel('fidelity')\n",
    "plt.title('fidelity of single qubit rotation init xp')\n",
    "plt.legend()\n",
    "plt.savefig('/Users/azizasuleymanzade/Lukin SiV Dropbox/Aziza azizasuleymanzade@g.harvard.edu/bqc_paper/Simulation/SimulationCode/OutputFiles/BlindComputing/Fig1/Figures/PaperFigs/Fid_xpinit_vs_mu_exp.png', format='pdf')   # Save as PDF\n",
    "\n",
    "\n",
    "# Show the plot\n",
    "plt.show()"
   ]
  },
  {
   "cell_type": "markdown",
   "metadata": {},
   "source": [
    "#### Blindness of the gates"
   ]
  },
  {
   "cell_type": "code",
   "execution_count": 197,
   "metadata": {},
   "outputs": [],
   "source": [
    "## compare to ideal results\n",
    "\n",
    "fid_err =  np.empty((0, 2), dtype=float)\n",
    "fid_ave =  np.empty((0, 2), dtype=float)\n",
    "\n",
    "for i in range(len(mu_list)):\n",
    "    fid_err_phi_mu =  np.empty((0, 2), dtype=float)\n",
    "    fid_ave_phi_mu=  np.empty((0, 2), dtype=float)\n",
    "    for j in range(len(phi1)):\n",
    "        U = rz(phi1[j])\n",
    "        el_rho_final_ideal = U*el_initial_xp*U.dag()\n",
    "        fid_mw =  np.empty((0, 2), dtype=float)\n",
    "        for k in range(n_rounds):\n",
    "            fid = (qt.fidelity(qt.Qobj(rho_mu_phi_n_array_cl[i][j][k]), el_rho_final_ideal))**2\n",
    "            fid_mu = np.append(fid_mu, fid)\n",
    "        fid_ave_mu = np.mean(fid_mu, axis = 0)\n",
    "        # this is only the variability of the measurement\n",
    "        fid_ave_std = np.std(fid_mu, axis = 0)/(np.sqrt(n_rounds))\n",
    "        fid_ave_phi_mu = np.append(fid_ave_phi_mu, fid_ave_mu)\n",
    "        fid_err_phi_mu = np.append(fid_err_phi_mu, fid_ave_std)\n",
    "    \n",
    "    fid_ave = np.append(fid_ave, fid_ave_phi_mu)\n",
    "    fid_err = np.append(fid_err, fid_err_phi_mu)\n",
    "    "
   ]
  },
  {
   "cell_type": "code",
   "execution_count": 198,
   "metadata": {},
   "outputs": [
    {
     "name": "stdout",
     "output_type": "stream",
     "text": [
      "0\n",
      "1\n",
      "2\n",
      "3\n",
      "4\n",
      "5\n",
      "6\n",
      "7\n",
      "8\n",
      "9\n"
     ]
    }
   ],
   "source": [
    "hol_err =  np.empty((0, 2), dtype=float)\n",
    "hol_ave =  np.empty((0, 2), dtype=float)\n",
    "\n",
    "for i in range(len(mu_list)):\n",
    "    print(i)\n",
    "    rho_ave_phi_array =  np.empty((0, 2, 2), dtype=float)\n",
    "    eigen_phi_std_array = np.empty((0, 2), dtype=float)\n",
    "    eig_eta_array = np.empty((0, 2), dtype=float)\n",
    "    for j in range(len(phi1)):\n",
    "        nxnynz_array =  np.empty((0, 3), dtype=float)\n",
    "        for k in range(n_rounds):\n",
    "            nx, ny, nz = np.round(calculate_bloch_components(qt.Qobj(rho_mu_phi_n_array_s[i][j][k])), 2)\n",
    "            nxnynz_array =  np.vstack([nxnynz_array, [nx, ny, nz]])\n",
    "        mean_nxnynz = np.mean(nxnynz_array, axis =0)\n",
    "        std_nxnynz = np.std(nxnynz_array, axis =0)/np.sqrt(n_rounds)\n",
    "        std_eigen_eta = eigenvalue_uncertainty(mean_nxnynz, std_nxnynz)\n",
    "        eigen_eta = [(1/2)*(1 -np.sqrt(np.sum(mean_nxnynz**2))), (1/2)*(1 +np.sqrt(np.sum(mean_nxnynz**2)))]\n",
    "        eig_eta_array = np.append(eig_eta_array, np.array([eigen_eta]))\n",
    "        # density state for a phi\n",
    "        rho_ave_phi = np.mean(rho_mu_phi_n_array_s[i][j], axis = 0)\n",
    "        rho_ave_phi_array = np.append(rho_ave_phi_array, [rho_ave_phi], axis = 0)\n",
    "        eigen_phi_std_array = np.append(eigen_phi_std_array, std_eigen_eta)\n",
    "\n",
    "    rho_ave_tot = np.mean(rho_ave_phi_array, axis = 0)\n",
    "    nxnynz = np.array([calculate_bloch_components(qt.Qobj(rho_ave_tot))])\n",
    "    nxnynz_std = np.sqrt(np.sum(eigen_phi_std_array**2))/len(eigen_phi_std_array)\n",
    "\n",
    "    # std of variability of eigenvalues of rho tot\n",
    "    std_eigen_eta = eigenvalue_uncertainty(nxnynz.ravel(), [nxnynz_std,nxnynz_std,nxnynz_std])\n",
    "    eigen_tot = np.abs(qt.Qobj(rho_ave_tot).eigenenergies())\n",
    "\n",
    "    hv_tot = qt.entropy_vn(qt.Qobj(rho_ave_tot)) - np.mean([qt.entropy_vn(qt.Qobj(rho)) for rho in rho_ave_phi_array])\n",
    "    rho_tot_sigma_lambdas = (std_eigen_eta, std_eigen_eta)\n",
    "    rho_tot_lambdas = (eigen_tot[0], eigen_tot[1])\n",
    "    rho_lambdas = [(eig_eta_array[i], eig_eta_array[i+1]) for i in range(0, len(eig_eta_array), 2)] \n",
    "    rho_sigma_lambdas =  [(value, value) for value in eigen_phi_std_array]\n",
    "    hv_std = holevo_bound_uncertainty_1q(rho_tot_lambdas, rho_tot_sigma_lambdas, rho_lambdas, rho_sigma_lambdas)\n",
    "    hol_ave = np.append(hol_ave, hv_tot)\n",
    "    hol_err = np.append(hol_err, hv_std)\n"
   ]
  },
  {
   "cell_type": "code",
   "execution_count": 199,
   "metadata": {},
   "outputs": [
    {
     "data": {
      "image/png": "[encoded data removed]",
      "text/plain": [
       "<Figure size 576x288 with 1 Axes>"
      ]
     },
     "metadata": {
      "needs_background": "light"
     },
     "output_type": "display_data"
    }
   ],
   "source": [
    "plt.figure(figsize=(8, 4))\n",
    "plt.plot(mu_list, hol_ave, color=c1)\n",
    "plt.errorbar(mu_list,  hol_ave, yerr= hol_err,  fmt='o', color=c1)\n",
    "\n",
    "#Add labels and title\n",
    "plt.xlabel('mu')\n",
    "plt.ylabel('Blindness')\n",
    "plt.title('Blindness of single qubit single rotation, init x+')\n",
    "plt.savefig('/Users/azizasuleymanzade/Lukin SiV Dropbox/Aziza azizasuleymanzade@g.harvard.edu/bqc_paper/Simulation/SimulationCode/OutputFiles/BlindComputing/Fig1/Figures/PaperFigs/Blind_xpinit_vs_mu_exp.png', format='pdf')   # Save as PDF\n",
    "\n",
    "# Show the plot\n",
    "plt.show()"
   ]
  },
  {
   "cell_type": "markdown",
   "metadata": {},
   "source": [
    "## Single gate fidelities and blindness as a function of TDI errors"
   ]
  },
  {
   "cell_type": "markdown",
   "metadata": {},
   "source": [
    "#### No other error sources"
   ]
  },
  {
   "cell_type": "code",
   "execution_count": 176,
   "metadata": {},
   "outputs": [],
   "source": [
    "tdi_list = np.linspace(-1, 1, 10)\n",
    "\n",
    "phi1 = [0, np.pi/4, np.pi/2, 3*np.pi/4]\n",
    "phi2 = 0\n",
    "phi3 = 0\n",
    "el_initial_xp  = qt.ket2dm((qt.basis(2,0)+ qt.basis(2,1)).unit())"
   ]
  },
  {
   "cell_type": "code",
   "execution_count": 159,
   "metadata": {},
   "outputs": [
    {
     "name": "stdout",
     "output_type": "stream",
     "text": [
      "-1.0\n",
      "Phi angle =  0\n",
      "Phi angle =  0.7853981633974483\n",
      "Phi angle =  1.5707963267948966\n",
      "Phi angle =  2.356194490192345\n",
      "-0.7777777777777778\n",
      "Phi angle =  0\n",
      "Phi angle =  0.7853981633974483\n",
      "Phi angle =  1.5707963267948966\n",
      "Phi angle =  2.356194490192345\n",
      "-0.5555555555555556\n",
      "Phi angle =  0\n",
      "Phi angle =  0.7853981633974483\n",
      "Phi angle =  1.5707963267948966\n",
      "Phi angle =  2.356194490192345\n",
      "-0.33333333333333337\n",
      "Phi angle =  0\n",
      "Phi angle =  0.7853981633974483\n",
      "Phi angle =  1.5707963267948966\n",
      "Phi angle =  2.356194490192345\n",
      "-0.11111111111111116\n",
      "Phi angle =  0\n",
      "Phi angle =  0.7853981633974483\n",
      "Phi angle =  1.5707963267948966\n",
      "Phi angle =  2.356194490192345\n",
      "0.11111111111111116\n",
      "Phi angle =  0\n",
      "Phi angle =  0.7853981633974483\n",
      "Phi angle =  1.5707963267948966\n",
      "Phi angle =  2.356194490192345\n",
      "0.33333333333333326\n",
      "Phi angle =  0\n",
      "Phi angle =  0.7853981633974483\n",
      "Phi angle =  1.5707963267948966\n",
      "Phi angle =  2.356194490192345\n",
      "0.5555555555555554\n",
      "Phi angle =  0\n",
      "Phi angle =  0.7853981633974483\n",
      "Phi angle =  1.5707963267948966\n",
      "Phi angle =  2.356194490192345\n",
      "0.7777777777777777\n",
      "Phi angle =  0\n",
      "Phi angle =  0.7853981633974483\n",
      "Phi angle =  1.5707963267948966\n",
      "Phi angle =  2.356194490192345\n",
      "1.0\n",
      "Phi angle =  0\n",
      "Phi angle =  0.7853981633974483\n",
      "Phi angle =  1.5707963267948966\n",
      "Phi angle =  2.356194490192345\n"
     ]
    }
   ],
   "source": [
    "# redoing the structure to make calculations faster. Scan mw first, then phi then n rounds \n",
    "# do calculations on all of the matricies, don't save\n",
    "# do errors properly\n",
    "\n",
    "imperfections ={'contrast_noise': 0, #(0 not noisy or 1 noisy)\n",
    "                'contrast': 'perfect', #'real'\n",
    "                'tdinoise': 0, #np.pi/25, #'real'\n",
    "                'mw': 'perfect', # or perfect\n",
    "                'mw_noise': 0, #(0 is stable or 1 noisy/underotates overroates every experimental shot)\n",
    "                'mw_fid_num': [1, 1] # default fidelities\n",
    "               }\n",
    "cluster_state_length = 1\n",
    "mu = 0.00001\n",
    "n_rounds = 20\n",
    "n_col = 6\n",
    "\n",
    "rates_apd1_apd2_angle = np.empty((0, 2), dtype=float)\n",
    "rho_tdi_phi_n_array_s = np.empty((0, len(phi1), n_rounds, 2, 2), dtype=complex)\n",
    "rho_tdi_phi_n_array_cl = np.empty((0, len(phi1), n_rounds, 2, 2), dtype=complex)\n",
    "\n",
    "#phi list\n",
    "for i in range(len(tdi_list)):\n",
    "    tdi = tdi_list[i]\n",
    "\n",
    "    print(tdi)\n",
    "    imperfections['tdinoise'] = tdi\n",
    "    rates_apd1_apd2 = np.empty((0, 2), dtype=float)\n",
    "    rho_phi_n_array_s = np.empty((0, n_rounds, 2, 2), dtype=complex)\n",
    "    rho_phi_n_array_cl = np.empty((0, n_rounds, 2, 2), dtype=complex)\n",
    "\n",
    "    for j in range(len(phi1)):\n",
    "        rho_n_array_cl = np.empty((0, 2, 2), dtype=complex)\n",
    "        rho_n_array_s = np.empty((0, 2, 2), dtype=complex)\n",
    "        rho_click = np.empty((0, 1), dtype=int)\n",
    "        phi1e = phi1[j]\n",
    "        print(\"Phi angle = \", phi1e)\n",
    "        for i in range(n_rounds): \n",
    "            rho_init_xp = sim.single_node_electron_exp(el_initial_xp, imperfections, cluster_state_length, phi1e, phi1, phi3, mu)\n",
    "            rho_n_array_s = np.append(rho_n_array_s, [rho_init_xp[0]], axis = 0)\n",
    "            rho_n_array_cl = np.append(rho_n_array_cl, [(qt.sigmaz()**(rho_init_xp[1]))*rho_init_xp[0]*(qt.sigmaz()**(rho_init_xp[1]))], axis = 0)\n",
    "        rates_apd1_apd2 = np.append(rates_apd1_apd2, [rho_init_xp[2:4]])\n",
    "        \n",
    "        rho_phi_n_array_s = np.vstack([rho_phi_n_array_s, [rho_n_array_s]])\n",
    "        rho_phi_n_array_cl = np.vstack([rho_phi_n_array_cl, [rho_n_array_cl]])\n",
    "    \n",
    "    rho_tdi_phi_n_array_s= np.vstack([rho_tdi_phi_n_array_s, [rho_phi_n_array_s]])\n",
    "    rho_tdi_phi_n_array_cl= np.vstack([rho_tdi_phi_n_array_cl, [rho_phi_n_array_cl]])\n",
    "\n"
   ]
  },
  {
   "cell_type": "markdown",
   "metadata": {},
   "source": [
    "#### Fidelity of the gates"
   ]
  },
  {
   "cell_type": "code",
   "execution_count": 178,
   "metadata": {},
   "outputs": [],
   "source": [
    "## compare to ideal results\n",
    "\n",
    "fid_err =  np.empty((0, 2), dtype=float)\n",
    "fid_ave =  np.empty((0, 2), dtype=float)\n",
    "\n",
    "for i in range(len(tdi_list)):\n",
    "    fid_err_phi_mu =  np.empty((0, 2), dtype=float)\n",
    "    fid_ave_phi_mu =  np.empty((0, 2), dtype=float)\n",
    "    for j in range(len(phi1)):\n",
    "        U = rz(phi1[j])\n",
    "        el_rho_final_ideal = U*el_initial_xp*U.dag()\n",
    "        fid_mu =  np.empty((0, 2), dtype=float)\n",
    "        for k in range(n_rounds):\n",
    "            fid = (qt.fidelity(qt.Qobj(rho_tdi_phi_n_array_cl[i][j][k]), el_rho_final_ideal))**2\n",
    "            fid_mu = np.append(fid_mu, fid)\n",
    "        fid_ave_mu = np.mean(fid_mu, axis = 0)\n",
    "        # this is only the variability of the measurement\n",
    "        fid_ave_std = np.std(fid_mu, axis = 0)/(np.sqrt(n_rounds))\n",
    "        fid_err_phi_mu = np.append(fid_err_phi_mu, fid_ave_std)\n",
    "        fid_ave_phi_mu = np.append(fid_ave_phi_mu, fid_ave_mu)\n",
    "    \n",
    "    fid_ave = np.append(fid_ave, fid_ave_phi_mu)\n",
    "    fid_err = np.append(fid_err, fid_err_phi_mu)\n",
    "    "
   ]
  },
  {
   "cell_type": "code",
   "execution_count": 180,
   "metadata": {},
   "outputs": [
    {
     "data": {
      "image/png": "[encoded data removed]",
      "text/plain": [
       "<Figure size 576x288 with 1 Axes>"
      ]
     },
     "metadata": {
      "needs_background": "light"
     },
     "output_type": "display_data"
    }
   ],
   "source": [
    "tdi_list = np.linspace(-1, 1, 10)\n",
    "tdi_list = tdi_list/(2*np.pi)\n",
    "plt.figure(figsize=(8, 4))\n",
    "plt.plot(tdi_list, fid_ave[::len(phi1)], color=c1)\n",
    "plt.errorbar(tdi_list,  fid_ave[::len(phi1)], yerr= fid_err[::len(phi1)],  fmt='o', color=c1, label='phi=0')\n",
    "plt.plot(tdi_list, fid_ave[1::len(phi1)], color=c2)\n",
    "plt.errorbar(tdi_list,  fid_ave[1::len(phi1)], yerr= fid_err[1::len(phi1)],  fmt='o', color=c2, label='phi=pi/4')\n",
    "plt.plot(tdi_list, fid_ave[2::len(phi1)], color=c3)\n",
    "plt.errorbar(tdi_list,  fid_ave[2::len(phi1)], yerr= fid_err[2::len(phi1)],  fmt='o', color=c3, label='phi=pi/2')\n",
    "plt.plot(tdi_list, fid_ave[3::len(phi1)], color=c4)\n",
    "plt.errorbar(tdi_list,  fid_ave[3::len(phi1)], yerr= fid_err[3::len(phi1)],  fmt='o', color=c4, label='phi=3pi/4')\n",
    "\n",
    "#Add labels and title\n",
    "plt.xlabel('TDI error')\n",
    "plt.ylabel('fidelity')\n",
    "plt.title('fidelity of single qubit rotation init xp')\n",
    "plt.legend()\n",
    "plt.savefig('/Users/azizasuleymanzade/Lukin SiV Dropbox/Aziza azizasuleymanzade@g.harvard.edu/bqc_paper/Simulation/SimulationCode/OutputFiles/BlindComputing/Fig1/Figures/PaperFigs/Fid_xpinit_vs_tdi_exp.png', format='pdf')   # Save as PDF\n",
    "\n",
    "\n",
    "# Show the plot\n",
    "plt.show()"
   ]
  },
  {
   "cell_type": "markdown",
   "metadata": {},
   "source": [
    "#### Blindness of the gates"
   ]
  },
  {
   "cell_type": "code",
   "execution_count": 181,
   "metadata": {},
   "outputs": [],
   "source": [
    "## compare to ideal results\n",
    "\n",
    "fid_err =  np.empty((0, 2), dtype=float)\n",
    "fid_ave =  np.empty((0, 2), dtype=float)\n",
    "\n",
    "for i in range(len(mw_list)):\n",
    "    fid_err_phi_mu =  np.empty((0, 2), dtype=float)\n",
    "    fid_ave_phi_mu=  np.empty((0, 2), dtype=float)\n",
    "    for j in range(len(phi1)):\n",
    "        U = rz(phi1[j])\n",
    "        el_rho_final_ideal = U*el_initial_xp*U.dag()\n",
    "        fid_mw =  np.empty((0, 2), dtype=float)\n",
    "        for k in range(n_rounds):\n",
    "            fid = (qt.fidelity(qt.Qobj(rho_tdi_phi_n_array_cl[i][j][k]), el_rho_final_ideal))**2\n",
    "            fid_mu = np.append(fid_mu, fid)\n",
    "        fid_ave_mu = np.mean(fid_mu, axis = 0)\n",
    "        # this is only the variability of the measurement\n",
    "        fid_ave_std = np.std(fid_mu, axis = 0)/(np.sqrt(n_rounds))\n",
    "        fid_ave_phi_mu = np.append(fid_ave_phi_mu, fid_ave_mu)\n",
    "        fid_err_phi_mu = np.append(fid_err_phi_mu, fid_ave_std)\n",
    "    \n",
    "    fid_ave = np.append(fid_ave, fid_ave_phi_mu)\n",
    "    fid_err = np.append(fid_err, fid_err_phi_mu)\n",
    "    "
   ]
  },
  {
   "cell_type": "code",
   "execution_count": 182,
   "metadata": {},
   "outputs": [
    {
     "name": "stdout",
     "output_type": "stream",
     "text": [
      "0\n",
      "[0.25910576045233036, 0.7408942395476696] 0.04573751847346136\n",
      "[0.4172352257286501, 0.5827647742713499] 0.055622214131990436\n",
      "[0.3506161549196165, 0.6493838450803835] 0.06449147676548196\n",
      "[0.3213058089657781, 0.6786941910342219] 0.04266227531476474\n",
      "1\n",
      "[0.3063239403586816, 0.6936760596413184] 0.0545380136117795\n",
      "[0.3403952504282062, 0.6596047495717938] 0.0794109652185247\n",
      "[0.36307040887740877, 0.6369295911225912] 0.05659921177457784\n",
      "[0.3023431705682801, 0.6976568294317199] 0.042935208277871575\n",
      "2\n",
      "[0.356917000912058, 0.643082999087942] 0.06518846159569895\n",
      "[0.24460350955878912, 0.7553964904412109] 0.07589275618156562\n",
      "[0.3438855992188741, 0.6561144007811259] 0.05102399551244798\n",
      "[0.30701381778479575, 0.6929861822152042] 0.06565348100971867\n",
      "3\n",
      "[0.1505010852669747, 0.8494989147330253] 0.059877128113838704\n",
      "[0.3605687844777935, 0.6394312155222065] 0.06766905293815842\n",
      "[0.3247037882507868, 0.6752962117492132] 0.02685935611953445\n",
      "[0.28769451142957936, 0.7123054885704206] 0.03949704884031329\n",
      "4\n",
      "[0.3838827142110185, 0.6161172857889815] 0.07303713907129611\n",
      "[0.34193898650837395, 0.658061013491626] 0.0607178683342206\n",
      "[0.3193526724931282, 0.6806473275068718] 0.033393918032880776\n",
      "[0.299085359551469, 0.700914640448531] 0.047857547297793034\n",
      "5\n",
      "[0.38223535629485395, 0.617764643705146] 0.07251541298981413\n",
      "[0.3533812261338951, 0.6466187738661049] 0.05551300051242599\n",
      "[0.32609233998325426, 0.6739076600167457] 0.015693204439718052\n",
      "[0.2741700072969714, 0.7258299927030286] 0.05913601708125905\n",
      "6\n",
      "[0.4018709412450879, 0.5981290587549122] 0.05416530623202837\n",
      "[0.3311792126597335, 0.6688207873402665] 0.059129075960850666\n",
      "[0.2831762389078978, 0.7168237610921022] 0.03993310039086945\n",
      "[0.3268164295463843, 0.6731835704536158] 0.07073411682283991\n",
      "7\n",
      "[0.35190502731017503, 0.648094972689825] 0.06496500959309115\n",
      "[0.32748009589470556, 0.6725199041052945] 0.025272356991507147\n",
      "[0.3210345110950158, 0.6789654889049842] 0.03971750403511473\n",
      "[0.3371281235706268, 0.6628718764293732] 0.07713085765484844\n",
      "8\n",
      "[0.3645998493815461, 0.6354001506184539] 0.05652088767323177\n",
      "[0.2775271678157927, 0.7224728321842073] 0.05774613173578323\n",
      "[0.340981763426329, 0.659018236573671] 0.07242491187593642\n",
      "[0.20004924950418945, 0.7999507504958105] 0.0732218012954948\n",
      "9\n",
      "[0.29047971498772485, 0.7095202850122752] 0.046964769873150916\n",
      "[0.2814010317017427, 0.7185989682982573] 0.0747322228713159\n",
      "[0.3556371850994862, 0.6443628149005138] 0.06464591068028698\n",
      "[0.43029588220556836, 0.5697041177944316] 0.029765936562121002\n"
     ]
    }
   ],
   "source": [
    "hol_err =  np.empty((0, 2), dtype=float)\n",
    "hol_ave =  np.empty((0, 2), dtype=float)\n",
    "\n",
    "for i in range(len(tdi_list)):\n",
    "    print(i)\n",
    "    rho_ave_phi_array =  np.empty((0, 2, 2), dtype=float)\n",
    "    eigen_phi_std_array = np.empty((0, 2), dtype=float)\n",
    "    eig_eta_array = np.empty((0, 2), dtype=float)\n",
    "    for j in range(len(phi1)):\n",
    "        nxnynz_array =  np.empty((0, 3), dtype=float)\n",
    "        for k in range(n_rounds):\n",
    "            nx, ny, nz = np.round(calculate_bloch_components(qt.Qobj(rho_tdi_phi_n_array_s[i][j][k])), 5)\n",
    "            nxnynz_array =  np.vstack([nxnynz_array, [nx, ny, nz]])\n",
    "        mean_nxnynz = np.mean(nxnynz_array, axis =0)\n",
    "        std_nxnynz = np.std(nxnynz_array, axis =0)/np.sqrt(n_rounds)\n",
    "        std_eigen_eta = eigenvalue_uncertainty(mean_nxnynz, std_nxnynz)\n",
    "        eigen_eta = [(1/2)*(1 -np.sqrt(np.sum(mean_nxnynz**2))), (1/2)*(1 +np.sqrt(np.sum(mean_nxnynz**2)))]\n",
    "        print(eigen_eta, std_eigen_eta)\n",
    "\n",
    "        eig_eta_array = np.append(eig_eta_array, np.array([eigen_eta]))\n",
    "        # density state for a phi\n",
    "        rho_ave_phi = np.mean(rho_tdi_phi_n_array_s[i][j], axis = 0)\n",
    "        rho_ave_phi_array = np.append(rho_ave_phi_array, [rho_ave_phi], axis = 0)\n",
    "        eigen_phi_std_array = np.append(eigen_phi_std_array, std_eigen_eta)\n",
    "\n",
    "    rho_ave_tot = np.mean(rho_ave_phi_array, axis = 0)\n",
    "    nxnynz = np.array([calculate_bloch_components(qt.Qobj(rho_ave_tot))])\n",
    "    nxnynz_std = np.sqrt(np.sum(eigen_phi_std_array**2))/len(eigen_phi_std_array)\n",
    "\n",
    "    # std of variability of eigenvalues of rho tot\n",
    "    std_eigen_eta = eigenvalue_uncertainty(nxnynz.ravel(), [nxnynz_std,nxnynz_std,nxnynz_std])\n",
    "    eigen_tot = np.abs(qt.Qobj(rho_ave_tot).eigenenergies())\n",
    "\n",
    "    hv_tot = qt.entropy_vn(qt.Qobj(rho_ave_tot)) - np.mean([qt.entropy_vn(qt.Qobj(rho)) for rho in rho_ave_phi_array])\n",
    "    rho_tot_sigma_lambdas = (std_eigen_eta, std_eigen_eta)\n",
    "    rho_tot_lambdas = (eigen_tot[0], eigen_tot[1])\n",
    "    rho_lambdas = [(eig_eta_array[i], eig_eta_array[i+1]) for i in range(0, len(eig_eta_array), 2)] \n",
    "    rho_sigma_lambdas =  [(value, value) for value in eigen_phi_std_array]\n",
    "    hv_std = holevo_bound_uncertainty_1q(rho_tot_lambdas, rho_tot_sigma_lambdas, rho_lambdas, rho_sigma_lambdas)\n",
    "    hol_ave = np.append(hol_ave, hv_tot)\n",
    "    hol_err = np.append(hol_err, hv_std)\n"
   ]
  },
  {
   "cell_type": "code",
   "execution_count": 183,
   "metadata": {},
   "outputs": [
    {
     "data": {
      "image/png": "[encoded data removed]",
      "text/plain": [
       "<Figure size 576x288 with 1 Axes>"
      ]
     },
     "metadata": {
      "needs_background": "light"
     },
     "output_type": "display_data"
    }
   ],
   "source": [
    "plt.figure(figsize=(8, 4))\n",
    "plt.plot(tdi_list, hol_ave, color=c1)\n",
    "plt.errorbar(tdi_list,  hol_ave, yerr= hol_err,  fmt='o', color=c1)\n",
    "\n",
    "#Add labels and title\n",
    "plt.xlabel('tdi')\n",
    "plt.ylabel('Blindness')\n",
    "plt.title('Blindness of single qubit single rotation, init x+')\n",
    "plt.savefig('/Users/azizasuleymanzade/Lukin SiV Dropbox/Aziza azizasuleymanzade@g.harvard.edu/bqc_paper/Simulation/SimulationCode/OutputFiles/BlindComputing/Fig1/Figures/PaperFigs/Blind_xpinit_vs_tdi_exp.png', format='pdf')   # Save as PDF\n",
    "\n",
    "\n",
    "# Show the plot\n",
    "plt.show()"
   ]
  },
  {
   "cell_type": "markdown",
   "metadata": {},
   "source": [
    "##### Real other parameters"
   ]
  },
  {
   "cell_type": "code",
   "execution_count": 177,
   "metadata": {},
   "outputs": [
    {
     "name": "stdout",
     "output_type": "stream",
     "text": [
      "-1.0\n",
      "Phi angle =  0\n",
      "Phi angle =  0.7853981633974483\n",
      "Phi angle =  1.5707963267948966\n",
      "Phi angle =  2.356194490192345\n",
      "-0.7777777777777778\n",
      "Phi angle =  0\n",
      "Phi angle =  0.7853981633974483\n",
      "Phi angle =  1.5707963267948966\n",
      "Phi angle =  2.356194490192345\n",
      "-0.5555555555555556\n",
      "Phi angle =  0\n",
      "Phi angle =  0.7853981633974483\n",
      "Phi angle =  1.5707963267948966\n",
      "Phi angle =  2.356194490192345\n",
      "-0.33333333333333337\n",
      "Phi angle =  0\n",
      "Phi angle =  0.7853981633974483\n",
      "Phi angle =  1.5707963267948966\n",
      "Phi angle =  2.356194490192345\n",
      "-0.11111111111111116\n",
      "Phi angle =  0\n",
      "Phi angle =  0.7853981633974483\n",
      "Phi angle =  1.5707963267948966\n",
      "Phi angle =  2.356194490192345\n",
      "0.11111111111111116\n",
      "Phi angle =  0\n",
      "Phi angle =  0.7853981633974483\n",
      "Phi angle =  1.5707963267948966\n",
      "Phi angle =  2.356194490192345\n",
      "0.33333333333333326\n",
      "Phi angle =  0\n",
      "Phi angle =  0.7853981633974483\n",
      "Phi angle =  1.5707963267948966\n",
      "Phi angle =  2.356194490192345\n",
      "0.5555555555555554\n",
      "Phi angle =  0\n",
      "Phi angle =  0.7853981633974483\n",
      "Phi angle =  1.5707963267948966\n",
      "Phi angle =  2.356194490192345\n",
      "0.7777777777777777\n",
      "Phi angle =  0\n",
      "Phi angle =  0.7853981633974483\n",
      "Phi angle =  1.5707963267948966\n",
      "Phi angle =  2.356194490192345\n",
      "1.0\n",
      "Phi angle =  0\n",
      "Phi angle =  0.7853981633974483\n",
      "Phi angle =  1.5707963267948966\n",
      "Phi angle =  2.356194490192345\n"
     ]
    }
   ],
   "source": [
    "# redoing the structure to make calculations faster. Scan mw first, then phi then n rounds \n",
    "# do calculations on all of the matricies, don't save\n",
    "# do errors properly\n",
    "\n",
    "imperfections ={'contrast_noise': 0, #(0 not noisy or 1 noisy)\n",
    "                'contrast': 'real', #'real'\n",
    "                'tdinoise': 0, #np.pi/25, #'real'\n",
    "                'mw': 'real', # or perfect\n",
    "                'mw_noise': 0, #(0 is stable or 1 noisy/underotates overroates every experimental shot)\n",
    "                'mw_fid_num': [0.99, 0.99] # default fidelities\n",
    "               }\n",
    "cluster_state_length = 1\n",
    "mu = 0.05\n",
    "n_rounds = 20\n",
    "n_col = 6\n",
    "\n",
    "rates_apd1_apd2_angle = np.empty((0, 2), dtype=float)\n",
    "rho_tdi_phi_n_array_s = np.empty((0, len(phi1), n_rounds, 2, 2), dtype=complex)\n",
    "rho_tdi_phi_n_array_cl = np.empty((0, len(phi1), n_rounds, 2, 2), dtype=complex)\n",
    "\n",
    "#phi list\n",
    "for i in range(len(tdi_list)):\n",
    "    tdi = tdi_list[i]\n",
    "\n",
    "    print(tdi)\n",
    "    imperfections['tdinoise'] = tdi\n",
    "    rates_apd1_apd2 = np.empty((0, 2), dtype=float)\n",
    "    rho_phi_n_array_s = np.empty((0, n_rounds, 2, 2), dtype=complex)\n",
    "    rho_phi_n_array_cl = np.empty((0, n_rounds, 2, 2), dtype=complex)\n",
    "\n",
    "    for j in range(len(phi1)):\n",
    "        rho_n_array_cl = np.empty((0, 2, 2), dtype=complex)\n",
    "        rho_n_array_s = np.empty((0, 2, 2), dtype=complex)\n",
    "        rho_click = np.empty((0, 1), dtype=int)\n",
    "        phi1e = phi1[j]\n",
    "        print(\"Phi angle = \", phi1e)\n",
    "        for i in range(n_rounds): \n",
    "            rho_init_xp = sim.single_node_electron_exp(el_initial_xp, imperfections, cluster_state_length, phi1e, phi1, phi3, mu)\n",
    "            rho_n_array_s = np.append(rho_n_array_s, [rho_init_xp[0]], axis = 0)\n",
    "            rho_n_array_cl = np.append(rho_n_array_cl, [(qt.sigmaz()**(rho_init_xp[1]))*rho_init_xp[0]*(qt.sigmaz()**(rho_init_xp[1]))], axis = 0)\n",
    "        rates_apd1_apd2 = np.append(rates_apd1_apd2, [rho_init_xp[2:4]])\n",
    "        \n",
    "        rho_phi_n_array_s = np.vstack([rho_phi_n_array_s, [rho_n_array_s]])\n",
    "        rho_phi_n_array_cl = np.vstack([rho_phi_n_array_cl, [rho_n_array_cl]])\n",
    "    \n",
    "    rho_tdi_phi_n_array_s= np.vstack([rho_tdi_phi_n_array_s, [rho_phi_n_array_s]])\n",
    "    rho_tdi_phi_n_array_cl= np.vstack([rho_tdi_phi_n_array_cl, [rho_phi_n_array_cl]])\n",
    "\n"
   ]
  },
  {
   "cell_type": "code",
   "execution_count": null,
   "metadata": {},
   "outputs": [],
   "source": []
  }
 ],
 "metadata": {
  "kernelspec": {
   "display_name": "base",
   "language": "python",
   "name": "python3"
  },
  "language_info": {
   "codemirror_mode": {
    "name": "ipython",
    "version": 3
   },
   "file_extension": ".py",
   "mimetype": "text/x-python",
   "name": "python",
   "nbconvert_exporter": "python",
   "pygments_lexer": "ipython3",
   "version": "3.9.7"
  }
 },
 "nbformat": 4,
 "nbformat_minor": 2
}
