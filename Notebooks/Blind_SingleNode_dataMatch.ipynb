{
 "cells": [
  {
   "cell_type": "markdown",
   "metadata": {},
   "source": [
    "## Setup"
   ]
  },
  {
   "cell_type": "code",
   "execution_count": 2,
   "metadata": {},
   "outputs": [],
   "source": [
    "import matplotlib.pyplot as plt\n",
    "import numpy as np\n",
    "import qutip as qt\n",
    "from qutip.qip.operations import *\n",
    "from qutip.qip.circuit import *\n",
    "import sys\n",
    "sys.path.append('../SimulationCode/')\n",
    "from BlindGatesSimulation import *\n",
    "from fiber_network import FiberNetwork\n",
    "from SiVnodes import SiV\n",
    "from SiVgates import *\n",
    "from Plots import *\n",
    "import pandas as pd\n",
    "import glob\n"
   ]
  },
  {
   "cell_type": "code",
   "execution_count": 3,
   "metadata": {},
   "outputs": [],
   "source": [
    "# colors for plots\n",
    "c1 = '#F15F57'\n",
    "c2 = '#F6851F'\n",
    "c3 = '#FDB913'\n",
    "c4 = '#743062'\n",
    "c5 = '#C87EB5'\n",
    "c6 = '#4CC0B3'\n",
    "c7 = '#1C9AAA'"
   ]
  },
  {
   "cell_type": "markdown",
   "metadata": {},
   "source": [
    "#### Define SiVs "
   ]
  },
  {
   "cell_type": "code",
   "execution_count": 4,
   "metadata": {},
   "outputs": [],
   "source": [
    "# Create SiVs:\n",
    "\n",
    "#Server A, G12\n",
    "siv_a = SiV(kappa_in= (74.9 - 54.5)*(10**3), kappa_w= (54.5)*(10**3), g=5.6*(10**3), wCav = (0)*(10**3), \n",
    "             wSiv = -(479.8 -639.6)*(10**3), dwEl = 0.5*(10**3)) # G12\n",
    "#Server B, B16\n",
    "siv_b = SiV(kappa_in= (43.5 - 26.0)*(10**3), kappa_w= (26.0)*(10**3), g=8.5*(10**3), wCav = (0)*(10**3), \n",
    "             wSiv = -(804.9 -657.6)*(10**3), dwEl = -0.5*(10**3)) # B16"
   ]
  },
  {
   "cell_type": "markdown",
   "metadata": {},
   "source": [
    "### Setup single Node experiments in B16"
   ]
  },
  {
   "cell_type": "code",
   "execution_count": 5,
   "metadata": {},
   "outputs": [],
   "source": [
    "# Create Networks:\n",
    "b16_network = FiberNetwork(siv_b) # this device is now in B16 fridge\n",
    "\n",
    "# Create Simulation:\n",
    "sim = BlindComputing(b16_network)"
   ]
  },
  {
   "cell_type": "code",
   "execution_count": 6,
   "metadata": {},
   "outputs": [
    {
     "name": "stdout",
     "output_type": "stream",
     "text": [
      "Detection efficientvy is =  0.0567\n"
     ]
    }
   ],
   "source": [
    "# Setup efficiencies\n",
    "fudge = 1\n",
    "\n",
    "b16_network.fibercoupling_eff = 0.6*fudge\n",
    "b16_network.tdi_eff = 0.35*0.3\n",
    "b16_network.snspd_eff = 0.9\n",
    "b16_network.detection_eff\n",
    "b16_network.detection_eff_reset()\n",
    "\n",
    "print('Detection efficientvy is = ', b16_network.detection_eff)"
   ]
  },
  {
   "cell_type": "markdown",
   "metadata": {},
   "source": [
    "#### MW gates"
   ]
  },
  {
   "cell_type": "code",
   "execution_count": 7,
   "metadata": {},
   "outputs": [],
   "source": [
    "# gate fidelities\n",
    "\n",
    "b16_mwfid = 0.99\n",
    "g12_mwfid = 1"
   ]
  },
  {
   "cell_type": "markdown",
   "metadata": {},
   "source": [
    "#### Move the SiV to the desired contrast point"
   ]
  },
  {
   "cell_type": "code",
   "execution_count": 8,
   "metadata": {},
   "outputs": [
    {
     "name": "stdout",
     "output_type": "stream",
     "text": [
      "new contrast 27.979731852612378\n",
      "B16 contrast is set to =  27.979731852612378\n"
     ]
    }
   ],
   "source": [
    "b16_contrast = 25 # range 18 - 30\n",
    "g12_contrast = 20 # range 12 - 20\n",
    "\n",
    "siv_b.set_contrast(b16_contrast)\n",
    "actual_contrast_b16 = siv_b.get_best_contrast()\n",
    "print(\"B16 contrast is set to = \", actual_contrast_b16)"
   ]
  },
  {
   "cell_type": "markdown",
   "metadata": {},
   "source": [
    "## B16 single qubit rotations"
   ]
  },
  {
   "cell_type": "code",
   "execution_count": 108,
   "metadata": {},
   "outputs": [],
   "source": [
    "imperfections ={'contrast_noise': 0, #(0 not noisy or 1 noisy)\n",
    "                'contrast': 'real', #'real'\n",
    "                'tdinoise': - 0.1, #np.pi/25, #'real'\n",
    "                'mw': 'real', # or perfect\n",
    "                'mw_noise': 1, #(0 is stable or 1 noisy/underotates overroates every experimental shot)\n",
    "                'mw_fid_num': [b16_mwfid, b16_mwfid] # default fidelities\n",
    "               }\n",
    "mu = 0.05"
   ]
  },
  {
   "cell_type": "code",
   "execution_count": 109,
   "metadata": {},
   "outputs": [],
   "source": [
    "phi1 = [0, np.pi/4, np.pi/2, 3*np.pi/4]\n",
    "phi2 = 0\n",
    "phi3 = 0\n",
    "el_initial_xp  = qt.ket2dm((qt.basis(2,0)+ qt.basis(2,1)).unit())"
   ]
  },
  {
   "cell_type": "code",
   "execution_count": null,
   "metadata": {},
   "outputs": [],
   "source": [
    "cluster_state_length = 1\n",
    "n_rounds = 10000\n",
    "\n",
    "rates_apd1_apd2 = np.empty((0, 2), dtype=float)\n",
    "rho_phi_n_array_s = np.empty((0, n_rounds, 2, 2), dtype=complex)\n",
    "rho_phi_n_array_cl = np.empty((0, n_rounds, 2, 2), dtype=complex)\n",
    "nxnynz_cl_phi_array =  np.empty((0, n_rounds, 3), dtype=float)\n",
    "nxnynz_s_phi_array =  np.empty((0, n_rounds, 3), dtype=float)\n",
    "for j in range(len(phi1)):\n",
    "    rho_n_array_cl = np.empty((0, 2, 2), dtype=complex)\n",
    "    rho_n_array_s = np.empty((0, 2, 2), dtype=complex)\n",
    "    rho_click = np.empty((0, 1), dtype=int)\n",
    "    phi1e = phi1[j]\n",
    "    print(\"Phi angle = \", phi1e)\n",
    "    nxnynz_cl_array =  np.empty((0, 3), dtype=float)\n",
    "    nxnynz_s_array =  np.empty((0, 3), dtype=float)\n",
    "    for i in range(n_rounds): \n",
    "        if i%100 == 0:\n",
    "            print(i)\n",
    "        rho_init_xp = sim.single_node_electron_exp(el_initial_xp, imperfections, cluster_state_length, phi1e, phi1, phi3, mu)\n",
    "        rho_n_item_s = rho_init_xp[0]\n",
    "        rho_n_item_cl = (qt.sigmaz()**(rho_init_xp[1]))*rho_init_xp[0]*(qt.sigmaz()**(rho_init_xp[1]))\n",
    "        rho_n_array_s = np.vstack([rho_n_array_s, [rho_n_item_s]])\n",
    "        rho_n_array_cl = np.vstack([rho_n_array_cl, [rho_n_item_cl]])\n",
    "        nxnynz_cl = calculate_bloch_components(rho_n_item_cl)\n",
    "        nxnynz_s = calculate_bloch_components(rho_n_item_s)\n",
    "        nxnynz_cl_array =  np.vstack([nxnynz_cl_array, [nxnynz_cl]])\n",
    "        nxnynz_s_array =  np.vstack([nxnynz_s_array, [nxnynz_s]])\n",
    "    nxnynz_cl_phi_array =  np.vstack([nxnynz_cl_phi_array, [nxnynz_cl_array]])\n",
    "    nxnynz_s_phi_array =  np.vstack([nxnynz_s_phi_array, [nxnynz_s_array]])\n",
    "    mean_cl_nxnynz = np.mean(nxnynz_cl_array, axis =0)\n",
    "    std_cl_nxnynz = np.std(nxnynz_cl_array, axis =0)/np.sqrt(n_rounds)\n",
    "    mean_s_nxnynz = np.mean(nxnynz_s_array, axis =0)\n",
    "    std_s_nxnynz = np.std(nxnynz_s_array, axis =0)/np.sqrt(n_rounds)\n",
    "    print(mean_cl_nxnynz, std_cl_nxnynz)\n",
    "    print(mean_s_nxnynz, std_s_nxnynz)\n",
    "    rates_apd1_apd2 = np.append(rates_apd1_apd2, [rho_init_xp[2:4]])\n",
    "\n",
    "    rho_phi_n_array_s = np.vstack([rho_phi_n_array_s, [rho_n_array_s]])\n",
    "    rho_phi_n_array_cl = np.vstack([rho_phi_n_array_cl, [rho_n_array_cl]])"
   ]
  },
  {
   "cell_type": "code",
   "execution_count": 118,
   "metadata": {},
   "outputs": [],
   "source": [
    "fid_err_phi =  np.empty((0, 2), dtype=float)\n",
    "fid_ave_phi =  np.empty((0, 2), dtype=float)\n",
    "for j in range(len(phi1)):\n",
    "    U = rz(phi1[j])\n",
    "    el_rho_final_ideal = U*el_initial_xp*U.dag()\n",
    "    fid_n =  np.empty((0, 2), dtype=float)\n",
    "    for k in range(n_rounds):\n",
    "        fid = (qt.fidelity(qt.Qobj(rho_phi_n_array_cl[j][k]), el_rho_final_ideal))**2\n",
    "        fid_n = np.append(fid_n, fid)\n",
    "    fid_ave = np.mean(fid_n, axis = 0)\n",
    "    # this is only the variability of the measurement\n",
    "    fid_ave_std = np.std(fid_n, axis = 0)/(np.sqrt(n_rounds))\n",
    "    fid_ave_phi = np.append(fid_ave_phi, fid_ave)\n",
    "    fid_err_phi = np.append(fid_err_phi, fid_ave_std)"
   ]
  },
  {
   "cell_type": "code",
   "execution_count": 136,
   "metadata": {},
   "outputs": [
    {
     "name": "stdout",
     "output_type": "stream",
     "text": [
      "[[ 0.91115257 -0.09011496 -0.0069548 ]\n",
      " [ 0.71044618  0.56911975 -0.01335258]\n",
      " [ 0.09455779  0.89694037 -0.00762512]\n",
      " [-0.58053426  0.69644991 -0.00639887]]\n",
      "[[0.00095105 0.0003485  0.00325048]\n",
      " [0.00148431 0.00166445 0.00276787]\n",
      " [0.00318744 0.00040197 0.0019758 ]\n",
      " [0.00204214 0.00163996 0.00254271]]\n",
      "[[ 0.3057609   0.00047353 -0.0069548 ]\n",
      " [ 0.31610002  0.00475654 -0.01335258]\n",
      " [ 0.30978769  0.0088627  -0.00762512]\n",
      " [ 0.315204   -0.00804258 -0.00639887]]\n",
      "[[0.00863571 0.00096618 0.00325048]\n",
      " [0.00653335 0.00592941 0.00276787]\n",
      " [0.00120707 0.00897797 0.0019758 ]\n",
      " [0.00528554 0.00715453 0.00254271]]\n"
     ]
    }
   ],
   "source": [
    "print(np.mean(nxnynz_cl_phi_array, axis = 1))\n",
    "print(np.std(nxnynz_cl_phi_array, axis = 1)/np.sqrt(n_rounds))\n",
    "print(np.mean(nxnynz_s_phi_array, axis = 1))\n",
    "print(np.std(nxnynz_s_phi_array, axis = 1)/np.sqrt(n_rounds))"
   ]
  },
  {
   "cell_type": "code",
   "execution_count": 120,
   "metadata": {},
   "outputs": [
    {
     "name": "stdout",
     "output_type": "stream",
     "text": [
      "Fidelity over phi =  0.9519808652203994 +- 0.00034877246933622664\n"
     ]
    }
   ],
   "source": [
    "fid = np.mean(fid_ave_phi, axis = 0)\n",
    "fiderr = np.sqrt(np.sum(fid_err_phi**2)/len(fid_err_phi))\n",
    "print('Fidelity over phi = ', fid, \"+-\",  fiderr)"
   ]
  },
  {
   "cell_type": "code",
   "execution_count": 121,
   "metadata": {},
   "outputs": [
    {
     "name": "stdout",
     "output_type": "stream",
     "text": [
      "Holevo bound is =  3.4100408453419107e-05 0.000983889713131907\n"
     ]
    }
   ],
   "source": [
    "rho_ave_phi_array =  np.empty((0, 2, 2), dtype=float)\n",
    "eigen_phi_std_array = np.empty((0, 2), dtype=float)\n",
    "eig_eta_array = np.empty((0, 2), dtype=float)\n",
    "\n",
    "mean_nxnynz = np.mean(nxnynz_s_phi_array, axis =1)\n",
    "std_nxnynz = np.std(nxnynz_s_phi_array, axis =1)/np.sqrt(n_rounds)\n",
    "\n",
    "# eigen ebnergies and uncertainties of rho of phis\n",
    "eigen_phis = [(1/2)*(1 -np.sqrt(np.sum(mean_nxnynz**2, axis = 1))), (1/2)*(1 +np.sqrt(np.sum(mean_nxnynz**2, axis = 1)))]\n",
    "eigen_phis_std = np.array([eigenvalue_uncertainty(mean_nxnynz[i], std_nxnynz[i]) for i in range(len(mean_nxnynz))])\n",
    "\n",
    "rho_ave_phi_array = np.mean(rho_phi_n_array_s, axis = 1)\n",
    "rho_ave_tot = np.mean(rho_ave_phi_array, axis = 0)\n",
    "nxnynz_tot = np.array([calculate_bloch_components(qt.Qobj(rho_ave_tot))])\n",
    "nxnynz_tot_std = np.sqrt(np.sum(eigen_phis_std**2))/len(eigen_phis_std)\n",
    "\n",
    "# std of variability of eigenvalues of rho tot\n",
    "std_eigen_tot = eigenvalue_uncertainty(nxnynz_tot.ravel(), [nxnynz_tot_std,nxnynz_tot_std,nxnynz_tot_std])\n",
    "eigen_tot = np.abs(qt.Qobj(rho_ave_tot).eigenenergies())\n",
    "\n",
    "hv_tot = qt.entropy_vn(qt.Qobj(rho_ave_tot)) - np.mean([qt.entropy_vn(qt.Qobj(rho)) for rho in rho_ave_phi_array])\n",
    "rho_tot_sigma_lambdas = (std_eigen_tot, std_eigen_tot)\n",
    "rho_tot_lambdas = (eigen_tot[0], eigen_tot[1])\n",
    "rho_lambdas = list(zip(eigen_phis[0], eigen_phis[1]))\n",
    "rho_sigma_lambdas =  [(value, value) for value in eigen_phis_std]\n",
    "\n",
    "hv_std = holevo_bound_uncertainty(rho_tot_lambdas, rho_tot_sigma_lambdas, rho_lambdas, rho_sigma_lambdas)\n",
    "\n",
    "print('Holevo bound is = ', hv_tot, hv_std)\n"
   ]
  },
  {
   "cell_type": "markdown",
   "metadata": {},
   "source": [
    "## B16 universal single qubit rotations"
   ]
  },
  {
   "cell_type": "code",
   "execution_count": 11,
   "metadata": {},
   "outputs": [],
   "source": [
    "imperfections ={'contrast_noise': 0, #(0 not noisy or 1 noisy)\n",
    "                'contrast': 'real', #'real'\n",
    "                'tdinoise': - 0.1, #np.pi/25, #'real'\n",
    "                'mw': 'real', # or perfect\n",
    "                'mw_noise': 1, #(0 is stable or 1 noisy/underotates overroates every experimental shot)\n",
    "                'mw_fid_num': [b16_mwfid, b16_mwfid] # default fidelities\n",
    "               }\n",
    "mu = 0.05\n",
    "phi1 = [0]\n",
    "phi2 = [0]\n",
    "phi3 = [0]\n",
    "el_initial_xp  = qt.ket2dm((qt.basis(2,0)+ qt.basis(2,1)).unit())\n",
    "cluster_state_length = 2\n",
    "n_rounds = 1\n"
   ]
  },
  {
   "cell_type": "code",
   "execution_count": null,
   "metadata": {},
   "outputs": [],
   "source": [
    "def single_qubit_universal_blind_gate(el_initial, imperfections, cluster_state_length, phi_array, mu):\n",
    "    # define hadamart\n",
    "    Had = ry(-np.pi/2) # Ry for hadamard\n",
    "\n",
    "    measurement_outputs = np.empty((0, 2), dtype=float)\n",
    "\n",
    "    rho = el_initial\n",
    "    for i in range(cluster_state_length): \n",
    "        rho_after_SPG = single_rotation_electron(self, rho, imperfections, phi_array[i], mu)\n",
    "        rho = Had*rho_after_SPG[0]*Had.dag()\n",
    "        measurement_outputs = np.append(measurement_outputs, [rho_after_SPG[2::]])\n",
    "\n",
    "    return rho, measurement_outputs"
   ]
  },
  {
   "cell_type": "code",
   "execution_count": null,
   "metadata": {},
   "outputs": [],
   "source": [
    "# final correction: Z gate\n",
    "el_rho_semifinal1 = (sigmaz()**(m1))*el_rho_3*(sigmaz()**(m1))\n",
    "el_rho_semifinal2 = (sigmax()**m2)*el_rho_semifinal1*(sigmax()**m2)\n",
    "el_rho_final = (sigmaz()**(m3))*el_rho_semifinal2*(sigmaz()**(m3))"
   ]
  },
  {
   "cell_type": "markdown",
   "metadata": {},
   "source": [
    "## New structure: Single gate fidelities and blindness as a function of MW errors"
   ]
  },
  {
   "cell_type": "code",
   "execution_count": null,
   "metadata": {},
   "outputs": [],
   "source": [
    "mw_list = np.linspace(1, 0.7, 12)\n",
    "phi1 = [0, np.pi/4, np.pi/2, 3*np.pi/4]\n",
    "phi2 = 0\n",
    "phi3 = 0\n",
    "el_initial_xp  = qt.ket2dm((qt.basis(2,0)+ qt.basis(2,1)).unit())\n",
    "# el_initial_xp  = qt.ket2dm((qt.basis(2,0)+ 1j*qt.basis(2,1)).unit())"
   ]
  },
  {
   "cell_type": "code",
   "execution_count": null,
   "metadata": {},
   "outputs": [],
   "source": [
    "# redoing the structure to make calculations faster. Scan mw first, then phi then n rounds \n",
    "# do calculations on all of the matricies, don't save\n",
    "# do errors properly\n",
    "\n",
    "imperfections ={'contrast_noise': 0, #(0 not noisy or 1 noisy)\n",
    "                'contrast': 'perfect', #'real'\n",
    "                'mw': 'real', # or perfect\n",
    "                'mw_noise': 1, #(0 is stable or 1 noisy/underotates overroates every experimental shot)\n",
    "                'mw_fid_num': [1, 1] # default fidelities\n",
    "               }\n",
    "\n",
    "# move SiV in B16 to a new contrast location\n",
    "# contrast = 50\n",
    "# siv_b.set_contrast(contrast)\n",
    "# actual_contrast = siv_b.get_best_contrast()\n",
    "\n",
    "cluster_state_length = 1\n",
    "\n",
    "n_rounds = 500\n",
    "n_col = 6\n",
    "mu = 0.00001\n",
    "\n",
    "rates_apd1_apd2_angle = np.empty((0, 2), dtype=float)\n",
    "rho_mw_phi_n_array_s = np.empty((0, len(phi1), n_rounds, 2, 2), dtype=complex)\n",
    "rho_mw_phi_n_array_cl = np.empty((0, len(phi1), n_rounds, 2, 2), dtype=complex)\n",
    "\n",
    "#phi list\n",
    "for i in range(len(mw_list)) :\n",
    "    imperfections['mw_fid_num']= [mw_list[i], mw_list[i]]\n",
    "    print(mw_list[i])\n",
    "    # my list\n",
    "    \n",
    "    rates_apd1_apd2 = np.empty((0, 2), dtype=float)\n",
    "    rho_phi_n_array_s = np.empty((0, n_rounds, 2, 2), dtype=complex)\n",
    "    rho_phi_n_array_cl = np.empty((0, n_rounds, 2, 2), dtype=complex)\n",
    "\n",
    "    for j in range(len(phi1)):\n",
    "        rho_n_array_cl = np.empty((0, 2, 2), dtype=complex)\n",
    "        rho_n_array_s = np.empty((0, 2, 2), dtype=complex)\n",
    "        rho_click = np.empty((0, 1), dtype=int)\n",
    "        phi1e = phi1[j]\n",
    "        print(\"Phi angle = \", phi1e)\n",
    "        for i in range(n_rounds): \n",
    "            rho_init_xp, Xxp_c, Yxp_c, Zxp_c, Xxp_s, Yxp_s, Zxp_s = sim.single_node_electron_exp(el_initial_xp, imperfections, cluster_state_length, phi1e, phi1, phi3, mu)\n",
    "            rho_n_array_s = np.append(rho_n_array_s, [rho_init_xp[0]], axis = 0)\n",
    "            rho_n_array_cl = np.append(rho_n_array_cl, [(qt.sigmaz()**(rho_init_xp[1]))*rho_init_xp[0]*(qt.sigmaz()**(rho_init_xp[1]))], axis = 0)\n",
    "        rates_apd1_apd2 = np.append(rates_apd1_apd2, [rho_init_xp[2:4]])\n",
    "        \n",
    "        rho_phi_n_array_s = np.vstack([rho_phi_n_array_s, [rho_n_array_s]])\n",
    "        rho_phi_n_array_cl = np.vstack([rho_phi_n_array_cl, [rho_n_array_cl]])\n",
    "    \n",
    "    rho_mw_phi_n_array_s= np.vstack([rho_mw_phi_n_array_s, [rho_phi_n_array_s]])\n",
    "    rho_mw_phi_n_array_cl= np.vstack([rho_mw_phi_n_array_cl, [rho_phi_n_array_cl]])\n",
    "\n"
   ]
  },
  {
   "cell_type": "code",
   "execution_count": null,
   "metadata": {},
   "outputs": [],
   "source": [
    "# rho_mw_phi_n_array_s_buffer = rho_mw_phi_n_array_s\n",
    "# rho_mw_phi_n_array_cl_buffer = rho_mw_phi_n_array_cl"
   ]
  },
  {
   "cell_type": "markdown",
   "metadata": {},
   "source": [
    "#### Fidelity of the gates"
   ]
  },
  {
   "cell_type": "code",
   "execution_count": null,
   "metadata": {},
   "outputs": [],
   "source": [
    "## compare to ideal results\n",
    "\n",
    "fid_err =  np.empty((0, 2), dtype=float)\n",
    "fid_ave =  np.empty((0, 2), dtype=float)\n",
    "\n",
    "for i in range(len(mw_list)):\n",
    "    fid_err_phi_mw =  np.empty((0, 2), dtype=float)\n",
    "    fid_ave_phi_mw =  np.empty((0, 2), dtype=float)\n",
    "    for j in range(len(phi1)):\n",
    "        U = rz(phi1[j])\n",
    "        el_rho_final_ideal = U*el_initial_xp*U.dag()\n",
    "        fid_mw =  np.empty((0, 2), dtype=float)\n",
    "        for k in range(n_rounds):\n",
    "            fid = (qt.fidelity(qt.Qobj(rho_mw_phi_n_array_cl[i][j][k]), el_rho_final_ideal))**2\n",
    "            fid_mw = np.append(fid_mw, fid)\n",
    "        fid_ave_mw = np.mean(fid_mw, axis = 0)\n",
    "        # this is only the variability of the measurement\n",
    "        fid_ave_std = np.std(fid_mw, axis = 0)/(np.sqrt(n_rounds))\n",
    "        fid_ave_phi_mw = np.append(fid_ave_phi_mw, fid_ave_mw)\n",
    "        fid_err_phi_mw = np.append(fid_err_phi_mw, fid_ave_std)\n",
    "    \n",
    "    fid_ave = np.append(fid_ave, fid_ave_phi_mw)\n",
    "    fid_err = np.append(fid_err, fid_err_phi_mw)\n",
    "    "
   ]
  },
  {
   "cell_type": "code",
   "execution_count": null,
   "metadata": {},
   "outputs": [],
   "source": [
    "\n",
    "plt.figure(figsize=(8, 4))\n",
    "plt.plot(mw_list, fid_ave[::len(phi1)], color=c1)\n",
    "plt.errorbar(mw_list,  fid_ave[::len(phi1)], yerr= fid_err[::len(phi1)],  fmt='o', color=c1, label='phi=0')\n",
    "plt.plot(mw_list, fid_ave[1::len(phi1)], color=c2)\n",
    "plt.errorbar(mw_list,  fid_ave[1::len(phi1)], yerr= fid_err[1::len(phi1)],  fmt='o', color=c2, label='phi=pi/4')\n",
    "plt.plot(mw_list, fid_ave[2::len(phi1)], color=c3)\n",
    "plt.errorbar(mw_list,  fid_ave[2::len(phi1)], yerr= fid_err[2::len(phi1)],  fmt='o', color=c3, label='phi=pi/2')\n",
    "plt.plot(mw_list, fid_ave[3::len(phi1)], color=c4)\n",
    "plt.errorbar(mw_list,  fid_ave[3::len(phi1)], yerr= fid_err[3::len(phi1)],  fmt='o', color=c4, label='phi=3pi/4')\n",
    "\n",
    "#Add labels and title\n",
    "plt.xlabel('Mw gate fidelity')\n",
    "plt.ylabel('fidelity')\n",
    "plt.title('fidelity of single qubit rotation init xp')\n",
    "plt.legend()\n",
    "plt.savefig('/Users/azizasuleymanzade/Lukin SiV Dropbox/Aziza azizasuleymanzade@g.harvard.edu/bqc_paper/Simulation/SimulationCode/OutputFiles/BlindComputing/Fig1/Figures/PaperFigs/Fid_xpinit_mu0002_vs_mw.pdf', format='pdf')   # Save as PDF\n",
    "\n",
    "\n",
    "# Show the plot\n",
    "plt.show()"
   ]
  },
  {
   "cell_type": "markdown",
   "metadata": {},
   "source": [
    "#### Checking mw fidelities when noise is incorporates"
   ]
  },
  {
   "cell_type": "code",
   "execution_count": null,
   "metadata": {},
   "outputs": [],
   "source": [
    "fidel_values_pi_pi2 = {'pi': 0.86,\n",
    "                'pi_half': 0.86\n",
    "                }\n",
    "\n",
    "pi_fid_arr_n =  np.empty((0, 2), dtype=float)\n",
    "pi2_fid_arr_n =  np.empty((0, 2), dtype=float)\n",
    "n_rounds_array = [5, 10, 50 , 100, 200, 500]\n",
    "\n",
    "for n_rounds in n_rounds_array:\n",
    "    pi_fid_arr =  np.empty((0, 2), dtype=float)\n",
    "    pi2_fid_arr =  np.empty((0, 2), dtype=float)\n",
    "    for i in range(n_rounds):\n",
    "        print(i)\n",
    "        gates = set_mw_fidelities('real', 1, fidel_values_pi_pi2)\n",
    "        pi_fid = qt.fidelity(gates['pi']*qt.basis(2,0), qt.basis(2,1))**2\n",
    "        pi2_fid = qt.fidelity(gates['pi_half']*qt.basis(2,0), (qt.basis(2,0)+ qt.basis(2,1)).unit())**2\n",
    "        pi_fid_arr = np.append(pi_fid_arr, pi_fid)\n",
    "        pi2_fid_arr = np.append(pi2_fid_arr, pi2_fid)\n",
    "    pi_fid_arr_n = np.append(pi_fid_arr_n, np.array([np.mean(pi_fid_arr), np.std(pi_fid_arr)/np.sqrt(n_rounds)]))\n",
    "    pi2_fid_arr_n = np.append(pi2_fid_arr_n, np.array([np.mean(pi2_fid_arr), np.std(pi2_fid_arr)/np.sqrt(n_rounds)]))\n",
    "\n",
    "\n"
   ]
  },
  {
   "cell_type": "code",
   "execution_count": null,
   "metadata": {},
   "outputs": [],
   "source": [
    "plt.figure(figsize=(8, 4))\n",
    "plt.plot(n_rounds_array, pi_fid_arr_n[::2], color=c1)\n",
    "plt.errorbar(n_rounds_array,  pi_fid_arr_n[::2], yerr= pi_fid_arr_n[1::2],  fmt='o', color=c1, label='phi=0')\n",
    "\n",
    "plt.plot(n_rounds_array, pi2_fid_arr_n[::2], color=c4)\n",
    "plt.errorbar(n_rounds_array,  pi2_fid_arr_n[::2], yerr= pi2_fid_arr_n[1::2],  fmt='o', color=c4, label='phi=0')\n",
    "\n",
    "\n",
    "\n",
    "#Add labels and title\n",
    "plt.xlabel('n_rounds')\n",
    "plt.ylabel('fidelity')\n",
    "plt.title('fidelity of single qubit rotation init xp')\n",
    "plt.legend()\n",
    "\n",
    "# Show the plot\n",
    "plt.show()"
   ]
  },
  {
   "cell_type": "code",
   "execution_count": null,
   "metadata": {},
   "outputs": [],
   "source": [
    "fid_err"
   ]
  },
  {
   "cell_type": "code",
   "execution_count": null,
   "metadata": {},
   "outputs": [],
   "source": [
    "fid_ave"
   ]
  },
  {
   "cell_type": "code",
   "execution_count": null,
   "metadata": {},
   "outputs": [],
   "source": [
    "## compare to ideal results\n",
    "\n",
    "fid_err =  np.empty((0, 2), dtype=float)\n",
    "fid_ave =  np.empty((0, 2), dtype=float)\n",
    "\n",
    "for i in range(len(mw_list)):\n",
    "    fid_err_phi_mw =  np.empty((0, 2), dtype=float)\n",
    "    fid_ave_phi_mw =  np.empty((0, 2), dtype=float)\n",
    "    for j in range(len(phi1)):\n",
    "        U = rz(phi1[j])\n",
    "        el_rho_final_ideal = U*el_initial_xp*U.dag()\n",
    "        fid_mw =  np.empty((0, 2), dtype=float)\n",
    "        for k in range(n_rounds):\n",
    "            fid = (qt.fidelity(qt.Qobj(rho_mw_phi_n_array_cl[i][j][k]), el_rho_final_ideal))**2\n",
    "            fid_mw = np.append(fid_mw, fid)\n",
    "        fid_ave_mw = np.mean(fid_mw, axis = 0)\n",
    "        # this is only the variability of the measurement\n",
    "        fid_ave_std = np.std(fid_mw, axis = 0)/(np.sqrt(n_rounds))\n",
    "        fid_ave_phi_mw = np.append(fid_ave_phi_mw, fid_ave_mw)\n",
    "        fid_err_phi_mw = np.append(fid_err_phi_mw, fid_ave_std)\n",
    "    \n",
    "    fid_ave = np.append(fid_ave, fid_ave_phi_mw)\n",
    "    fid_err = np.append(fid_err, fid_err_phi_mw)\n",
    "    "
   ]
  },
  {
   "cell_type": "code",
   "execution_count": null,
   "metadata": {},
   "outputs": [],
   "source": [
    "hol_err =  np.empty((0, 2), dtype=float)\n",
    "hol_ave =  np.empty((0, 2), dtype=float)\n",
    "\n",
    "for i in range(len(mw_list)):\n",
    "    print(i)\n",
    "    rho_ave_phi_array =  np.empty((0, 2, 2), dtype=float)\n",
    "    eigen_phi_std_array = np.empty((0, 2), dtype=float)\n",
    "    eig_eta_array = np.empty((0, 2), dtype=float)\n",
    "    for j in range(len(phi1)):\n",
    "        for k in range(n_rounds):\n",
    "            nx, ny, nz = np.round(calculate_bloch_components(qt.Qobj(rho_mw_phi_n_array_s[i][j][k])), 5)\n",
    "            nxnynz_array =  np.vstack([nxnynz_array, [nx, ny, nz]])\n",
    "        mean_nxnynz = np.mean(nxnynz_array, axis =0)\n",
    "        std_nxnynz = np.std(nxnynz_array, axis =0)/np.sqrt(n_rounds)\n",
    "        std_eigen_eta = eigenvalue_uncertainty(mean_nxnynz, std_nxnynz)\n",
    "        eigen_eta = [(1/2)*(1 -np.sqrt(np.sum(mean_nxnynz**2))), (1/2)*(1 +np.sqrt(np.sum(mean_nxnynz**2)))]\n",
    "        print(eigen_eta, std_eigen_eta)\n",
    "\n",
    "        eig_eta_array = np.append(eig_eta_array, np.array([eigen_eta]))\n",
    "        # density state for a phi\n",
    "        rho_ave_phi = np.mean(rho_mw_phi_n_array_s[i][j], axis = 0)\n",
    "        rho_ave_phi_array = np.append(rho_ave_phi_array, [rho_ave_phi], axis = 0)\n",
    "        eigen_phi_std_array = np.append(eigen_phi_std_array, std_eigen_eta)\n",
    "\n",
    "    rho_ave_tot = np.mean(rho_ave_phi_array, axis = 0)\n",
    "    nxnynz = np.array([calculate_bloch_components(qt.Qobj(rho_ave_tot))])\n",
    "    nxnynz_std = np.sqrt(np.sum(eigen_phi_std_array**2))/len(eigen_phi_std_array)\n",
    "\n",
    "    # std of variability of eigenvalues of rho tot\n",
    "    std_eigen_eta = eigenvalue_uncertainty(nxnynz.ravel(), [nxnynz_std,nxnynz_std,nxnynz_std])\n",
    "    eigen_tot = np.abs(qt.Qobj(rho_ave_tot).eigenenergies())\n",
    "\n",
    "    hv_tot = qt.entropy_vn(qt.Qobj(rho_ave_tot)) - np.mean([qt.entropy_vn(qt.Qobj(rho)) for rho in rho_ave_phi_array])\n",
    "    rho_tot_sigma_lambdas = (std_eigen_eta, std_eigen_eta)\n",
    "    rho_tot_lambdas = (eigen_tot[0], eigen_tot[1])\n",
    "    rho_lambdas = [(eig_eta_array[i], eig_eta_array[i+1]) for i in range(0, len(eig_eta_array), 2)] \n",
    "    rho_sigma_lambdas =  [(value, value) for value in eigen_phi_std_array]\n",
    "    hv_std = holevo_bound_uncertainty(rho_tot_lambdas, rho_tot_sigma_lambdas, rho_lambdas, rho_sigma_lambdas)\n",
    "    hol_ave = np.append(hol_ave, hv_tot)\n",
    "    hol_err = np.append(hol_err, hv_std)\n"
   ]
  },
  {
   "cell_type": "code",
   "execution_count": null,
   "metadata": {},
   "outputs": [],
   "source": [
    "plt.figure(figsize=(8, 4))\n",
    "plt.plot(mw_list, hol_ave, color=c1)\n",
    "plt.errorbar(mw_list,  hol_ave, yerr= hol_err,  fmt='o', color=c1)\n",
    "\n",
    "#Add labels and title\n",
    "plt.xlabel('MW fid')\n",
    "plt.ylabel('Blindness')\n",
    "plt.title('Blindness of single qubit single rotation, init xp')\n",
    "\n",
    "# Show the plot\n",
    "plt.show()"
   ]
  },
  {
   "cell_type": "code",
   "execution_count": null,
   "metadata": {},
   "outputs": [],
   "source": [
    "plt.figure(figsize=(8, 4))\n",
    "plt.plot(mw_list, hol_ave, color=c1)\n",
    "plt.errorbar(mw_list,  hol_ave, yerr= hol_err,  fmt='o', color=c1)\n",
    "\n",
    "#Add labels and title\n",
    "plt.xlabel('MW fid')\n",
    "plt.ylabel('Blindness')\n",
    "plt.title('Blindness of single qubit single rotation, init x+')\n",
    "plt.savefig('/Users/azizasuleymanzade/Lukin SiV Dropbox/Aziza azizasuleymanzade@g.harvard.edu/bqc_paper/Simulation/SimulationCode/OutputFiles/BlindComputing/Fig1/Figures/PaperFigs/Blind_xpinit_mu0002_vs_mw.pdf', format='pdf')   # Save as PDF\n",
    "\n",
    "\n",
    "# Show the plot\n",
    "plt.show()"
   ]
  },
  {
   "cell_type": "code",
   "execution_count": null,
   "metadata": {},
   "outputs": [],
   "source": [
    "hol_ave"
   ]
  },
  {
   "cell_type": "code",
   "execution_count": null,
   "metadata": {},
   "outputs": [],
   "source": [
    "plt.figure(figsize=(8, 4))\n",
    "plt.plot(mw_list, hol_ave, color=c1)\n",
    "plt.errorbar(mw_list,  hol_ave, yerr= hol_err,  fmt='o', color=c1)\n",
    "\n",
    "#Add labels and title\n",
    "plt.xlabel('MW fid')\n",
    "plt.ylabel('Blindness')\n",
    "plt.title('Blindness of single qubit single rotation, init xp')\n",
    "\n",
    "# Show the plot\n",
    "plt.show()"
   ]
  },
  {
   "cell_type": "code",
   "execution_count": null,
   "metadata": {},
   "outputs": [],
   "source": [
    "hol_ave"
   ]
  },
  {
   "cell_type": "code",
   "execution_count": null,
   "metadata": {},
   "outputs": [],
   "source": [
    "mw_list"
   ]
  },
  {
   "cell_type": "code",
   "execution_count": null,
   "metadata": {},
   "outputs": [],
   "source": [
    "hol_ave"
   ]
  },
  {
   "cell_type": "code",
   "execution_count": null,
   "metadata": {},
   "outputs": [],
   "source": [
    "def blindness_singleRot(rho_array_cl):\n",
    "        \"\"\"\n",
    "        Calculate the Holevo bound and its uncertainty given an array of density matrices and their standard deviations.\n",
    "        \n",
    "        Parameters:\n",
    "        - rho_phi_array: List or array of density matrices corresponding to different phases.\n",
    "        - rho_std_phi_array: List or array of standard deviations for each element in the density matrices.\n",
    "        - delta: Small perturbation value for numerical derivative (default is 1e-6).\n",
    "        \n",
    "        Returns:\n",
    "        - holevo: The calculated Holevo bound.\n",
    "        - holevo_error: The uncertainty in the Holevo bound.\n",
    "        \"\"\"\n",
    "        \n",
    "        \n",
    "        \n",
    "\n",
    "\n",
    "        # Calculate the average density matrix\n",
    "        rho_all = np.mean(rho_phi_array, axis=0)\n",
    "        \n",
    "        # Calculate the mean entropy of the individual density matrices\n",
    "        mn = np.mean([qt.entropy_vn(qt.Qobj(rho)) for rho in rho_phi_array])\n",
    "\n",
    "        # Calculate the Holevo bound\n",
    "        holevo = qt.entropy_vn(qt.Qobj(rho_all)) - mn\n",
    "\n",
    "        # Initialize the error in the Holevo bound\n",
    "        holevo_error = 0\n",
    "        \n",
    "        for k, rho in enumerate(rho_phi_array):\n",
    "            partial_derivatives = np.zeros(rho.shape, dtype=complex)\n",
    "            chi = holevo\n",
    "            \n",
    "            # Calculate the partial derivatives numerically\n",
    "            for i in range(rho.shape[0]):\n",
    "                for j in range(rho.shape[1]):\n",
    "                    perturbed_rho = rho.copy()\n",
    "                    \n",
    "                    # Apply perturbation and ensure Hermiticity\n",
    "                    delta_rho = np.zeros(rho.shape, dtype=complex)\n",
    "                    delta_rho[i, j] = delta\n",
    "                    delta_rho[j, i] = np.conj(delta_rho[i, j])  # Ensure Hermiticity\n",
    "                    \n",
    "                    # Adjust diagonal elements to preserve trace\n",
    "                    trace_adjustment = np.trace(delta_rho)\n",
    "                    delta_rho[i, i] -= trace_adjustment / rho.shape[0]\n",
    "                    \n",
    "                    perturbed_rho += delta_rho\n",
    "                    \n",
    "                    # Calculate perturbed average density matrix\n",
    "                    perturbed_rho_all = np.mean(\n",
    "                        [perturbed_rho if idx == k else rho_phi_array[idx] for idx in range(len(rho_phi_array))],\n",
    "                        axis=0\n",
    "                    )\n",
    "                    \n",
    "                    # Recalculate mean entropy\n",
    "                    perturbed_mn = np.mean([qt.entropy_vn(qt.Qobj(rho_phi)) for rho_phi in rho_phi_array])\n",
    "                    \n",
    "                    # Calculate perturbed Holevo bound\n",
    "                    perturbed_chi = qt.entropy_vn(qt.Qobj(perturbed_rho_all)) - perturbed_mn\n",
    "                    \n",
    "                    # Calculate the partial derivative\n",
    "                    partial_derivatives[i, j] = (perturbed_chi - chi) / delta\n",
    "            \n",
    "            # Sum the squared errors propagated through each partial derivative\n",
    "            holevo_error += np.sum((np.abs(partial_derivatives) * rho_std_phi_array[k]) ** 2)\n",
    "        \n",
    "        # Take the square root to obtain the final uncertainty\n",
    "        holevo_error = np.abs(np.sqrt(holevo_error))\n",
    "        \n",
    "        return holevo, holevo_error\n"
   ]
  },
  {
   "cell_type": "code",
   "execution_count": null,
   "metadata": {},
   "outputs": [],
   "source": [
    "holevo=  np.empty((0, 2), dtype=float)\n",
    "holevo_err =  np.empty((0, 2), dtype=float)\n",
    "\n",
    "# Initialize empty arrays to accumulate results\n",
    "rho_ave_mw = np.empty((0, 4, 2, 2), dtype=float)\n",
    "rho_std_mw= np.empty((0, 4, 2, 2), dtype=float)\n",
    "\n",
    "# Loop through mu_list and accumulate results \n",
    "for i in range(len(mw_list)):\n",
    "    # Extract the ith element from each list and convert to an array\n",
    "    rho_ave_onemw = np.array([lst[i] for lst in rho_ave_s_phis])\n",
    "    rho_std_onemw = np.array([lst[i] for lst in rho_std_s_phis])\n",
    "\n",
    "    # Append the arrays directly (as they should already have shape (2,))\n",
    "    rho_ave_mw = np.append(rho_ave_mw, [rho_ave_onemw], axis=0)\n",
    "    rho_std_mw = np.append(rho_std_mw, [rho_std_onemw], axis=0)\n",
    "\n",
    "# calculate blindness as a function of mu\n",
    "for j in range(len(mw_list)):\n",
    "    holevo, holevo_err = blindness_singleRot(rho_ave_mw[j], rho_std_mw[j], delta=1e-6)\n",
    "    holevo_mw = np.append(holevo_mw, holevo)\n",
    "    holevo_err_mw = np.append(holevo_err_mw, holevo_err)\n"
   ]
  },
  {
   "cell_type": "markdown",
   "metadata": {},
   "source": [
    "#### Save density matrices "
   ]
  },
  {
   "cell_type": "code",
   "execution_count": null,
   "metadata": {},
   "outputs": [],
   "source": [
    "import datetime\n",
    "\n",
    "# Example complex matrices\n",
    "\n",
    "# Convert the complex matrices to string representation\n",
    "data = {\n",
    "    'rho_ave_s': [str(rho_ave_s_phi_mw.tolist())],\n",
    "    'rho_std_s': [str(rho_std_s_phi_mw.tolist())],  # Replace with actual std data\n",
    "    'rho_ave_cl': [str(rho_ave_cl_phi_mw.tolist())],  # Replace with actual cl data\n",
    "    'rho_std_cl': [str(rho_std_cl_phi_mw.tolist())]  # Replace with actual cl std data\n",
    "}\n",
    "\n",
    "df = pd.DataFrame(data)\n",
    "\n",
    "# File path for the output CSV\n",
    "# file_path = f'/Users/azizasuleymanzade/Lukin SiV Dropbox/Aziza azizasuleymanzade@g.harvard.edu/bqc_paper/Simulation/SimulationCode/OutputFiles/BlindComputing/Fig1/SingleGates_xpinit_rhos_phis_{n_rounds}pts_mu{mu}_mw_list_perfcontr_{datetime.datetime.now().strftime(\"%Y-%m-%d_%H-%M-%S\")}.csv'\n",
    "file_path = f'/Users/azizasuleymanzade/Lukin SiV Dropbox/Aziza azizasuleymanzade@g.harvard.edu/bqc_paper/Simulation/SimulationCode/OutputFiles/BlindComputing/Fig1/dummy.csv'\n",
    "\n",
    "# Write the DataFrame to a CSV file\n",
    "df.to_csv(file_path, index=False)\n"
   ]
  },
  {
   "cell_type": "markdown",
   "metadata": {},
   "source": [
    "#### Retrieve the densities"
   ]
  },
  {
   "cell_type": "code",
   "execution_count": null,
   "metadata": {},
   "outputs": [],
   "source": [
    "import ast\n",
    "\n",
    "# File path for the input CSV\n",
    "file_path = f'/Users/azizasuleymanzade/Lukin SiV Dropbox/Aziza azizasuleymanzade@g.harvard.edu/bqc_paper/Simulation/SimulationCode/OutputFiles/BlindComputing/Fig1/dummy.csv'\n",
    "# Read the CSV file into a DataFrame\n",
    "df = pd.read_csv(file_path)\n",
    "\n",
    "# Convert the string representations back into arrays\n",
    "def string_to_array(string):\n",
    "    # Use ast.literal_eval to safely evaluate the string to a list\n",
    "    list_repr = ast.literal_eval(string)\n",
    "    # Convert the list back to a NumPy array\n",
    "    return np.array(list_repr, dtype=complex)\n",
    "\n",
    "# Apply the conversion to the relevant columns\n",
    "df['rho_ave_s'] = df['rho_ave_s'].apply(string_to_array)\n",
    "df['rho_std_s'] = df['rho_std_s'].apply(string_to_array)\n",
    "df['rho_ave_cl'] = df['rho_ave_cl'].apply(string_to_array)\n",
    "df['rho_std_cl'] = df['rho_std_cl'].apply(string_to_array)\n",
    "\n",
    "# Now you can access the arrays\n",
    "rho_ave_s = df['rho_ave_s'][0]\n",
    "rho_std_s = df['rho_std_s'][0]\n",
    "rho_ave_cl = df['rho_ave_cl'][0]\n",
    "rho_std_cl = df['rho_std_cl'][0]\n",
    "\n"
   ]
  },
  {
   "cell_type": "code",
   "execution_count": null,
   "metadata": {},
   "outputs": [],
   "source": [
    "# Client's data\n",
    " \n",
    "rho_ave_cl_0_mw = np.array(rho_ave_cl[0:len(mw_list)])\n",
    "rho_ave_cl_pi4_mw = np.array(rho_ave_cl[len(mw_list):2*len(mw_list)])\n",
    "rho_ave_cl_pi2_mw = np.array(rho_ave_cl[2*len(mw_list):3*len(mw_list)])\n",
    "rho_ave_cl_3pi4_mw = np.array(rho_ave_cl[3*len(mw_list):])\n",
    "rho_ave_cl_phis = [rho_ave_cl_0_mw, rho_ave_cl_pi4_mw, rho_ave_cl_pi2_mw, rho_ave_cl_3pi4_mw]\n",
    "\n",
    "rho_std_cl_0_mw = np.array(rho_std_cl[0:len(mw_list)])\n",
    "rho_std_cl_pi4_mw = np.array(rho_std_cl[len(mw_list):2*len(mw_list)])\n",
    "rho_std_cl_pi2_mw = np.array(rho_std_cl[2*len(mw_list):3*len(mw_list)])\n",
    "rho_std_cl_3pi4_mw = np.array(rho_std_cl[3*len(mw_list):])\n",
    "rho_std_cl_phis = [rho_std_cl_0_mw, rho_std_cl_pi4_mw, rho_std_cl_pi2_mw, rho_std_cl_3pi4_mw]\n",
    "\n",
    "# Server's data\n",
    " \n",
    "rho_ave_s_0_mw = np.array(rho_ave_s[0:len(mw_list)])\n",
    "rho_ave_s_pi4_mw = np.array(rho_ave_s[len(mw_list):2*len(mw_list)])\n",
    "rho_ave_s_pi2_mw = np.array(rho_ave_s[2*len(mw_list):3*len(mw_list)])\n",
    "rho_ave_s_3pi4_mw = np.array(rho_ave_s[3*len(mw_list):])\n",
    "rho_ave_s_phis = [rho_ave_s_0_mw, rho_ave_s_pi4_mw, rho_ave_s_pi2_mw, rho_ave_s_3pi4_mw]\n",
    "\n",
    "rho_std_s_0_mw = np.array(rho_std_cl[0:len(mw_list)])\n",
    "rho_std_s_pi4_mw = np.array(rho_std_cl[len(mw_list):2*len(mw_list)])\n",
    "rho_std_s_pi2_mw = np.array(rho_std_cl[2*len(mw_list):3*len(mw_list)])\n",
    "rho_std_s_3pi4_mw = np.array(rho_std_cl[3*len(mw_list):])\n",
    "rho_std_s_phis = [rho_std_s_0_mw, rho_std_s_pi4_mw, rho_std_s_pi2_mw, rho_std_s_3pi4_mw]"
   ]
  },
  {
   "cell_type": "code",
   "execution_count": null,
   "metadata": {},
   "outputs": [],
   "source": [
    "rho_ave_cl_phis"
   ]
  },
  {
   "cell_type": "code",
   "execution_count": null,
   "metadata": {},
   "outputs": [],
   "source": [
    "rho_std_cl_phis"
   ]
  },
  {
   "cell_type": "code",
   "execution_count": null,
   "metadata": {},
   "outputs": [],
   "source": [
    "\n",
    "plt.figure(figsize=(8, 4))\n",
    "plt.plot(mw_list, fid_phi_mw[0:len(mw_list)], color=c1)\n",
    "plt.errorbar(mw_list,  fid_phi_mw[0:len(mw_list)], yerr= fid_err_phi_mw[0:len(mw_list)]/np.sqrt(n_rounds),  fmt='o', color=c1, label='phi=0')\n",
    "plt.plot(mw_list, fid_phi_mw[len(mw_list):2*len(mw_list)], color=c2)\n",
    "plt.errorbar(mw_list,  fid_phi_mw[len(mw_list):2*len(mw_list)], yerr= fid_err_phi_mw[len(mw_list):2*len(mw_list)]/np.sqrt(n_rounds),  fmt='o', color=c2,  label='phi=pi/4')\n",
    "plt.plot(mw_list, fid_phi_mw[2*len(mw_list):3*len(mw_list)], color=c3)\n",
    "plt.errorbar(mw_list,  fid_phi_mw[2*len(mw_list):3*len(mw_list)], yerr= fid_err_phi_mw[2*len(mw_list):3*len(mw_list)]/np.sqrt(n_rounds),  fmt='o', color=c3, label='phi=pi/2')\n",
    "plt.plot(mw_list, fid_phi_mw[3*len(mw_list):], color=c4)\n",
    "plt.errorbar(mw_list,  fid_phi_mw[3*len(mw_list):], yerr= fid_err_phi_mw[3*len(mw_list):]/np.sqrt(n_rounds),  fmt='o', color=c4, label='phi=3pi/4')\n",
    "\n",
    "#Add labels and title\n",
    "plt.xlabel('Mw gate fidelity')\n",
    "plt.ylabel('fidelity')\n",
    "plt.title('fidelity of single qubit rotation init xp')\n",
    "plt.legend()\n",
    "\n",
    "# Show the plot\n",
    "plt.show()"
   ]
  },
  {
   "cell_type": "code",
   "execution_count": null,
   "metadata": {},
   "outputs": [],
   "source": [
    "holevo_mw"
   ]
  },
  {
   "cell_type": "code",
   "execution_count": null,
   "metadata": {},
   "outputs": [],
   "source": [
    "holevo_err_mw"
   ]
  },
  {
   "cell_type": "code",
   "execution_count": null,
   "metadata": {},
   "outputs": [],
   "source": [
    "rho_phi_array = rho_ave_mw[0]\n",
    "# Calculate the average density matrix\n",
    "rho_all = np.mean(rho_phi_array, axis=0)\n",
    "\n",
    "# Calculate the mean entropy of the individual density matrices\n",
    "mn = np.mean([qt.entropy_vn(qt.Qobj(rho)) for rho in rho_phi_array])\n",
    "\n",
    "# Calculate the Holevo bound\n",
    "holevo = qt.entropy_vn(qt.Qobj(rho_all)) - mn\n"
   ]
  },
  {
   "cell_type": "code",
   "execution_count": null,
   "metadata": {},
   "outputs": [],
   "source": [
    "mn"
   ]
  },
  {
   "cell_type": "code",
   "execution_count": null,
   "metadata": {},
   "outputs": [],
   "source": [
    "holevo"
   ]
  },
  {
   "cell_type": "code",
   "execution_count": null,
   "metadata": {},
   "outputs": [],
   "source": [
    "mx = 0.5*qt.identity(2)\n",
    "qt.entropy_vn(mx)"
   ]
  },
  {
   "cell_type": "code",
   "execution_count": null,
   "metadata": {},
   "outputs": [],
   "source": [
    "qt.entropy_vn(qt.Qobj(rho_all))"
   ]
  },
  {
   "cell_type": "code",
   "execution_count": null,
   "metadata": {},
   "outputs": [],
   "source": [
    "np.log(1.02)"
   ]
  },
  {
   "cell_type": "code",
   "execution_count": null,
   "metadata": {},
   "outputs": [],
   "source": [
    "holevo_mw"
   ]
  },
  {
   "cell_type": "code",
   "execution_count": null,
   "metadata": {},
   "outputs": [],
   "source": [
    "plt.figure(figsize=(8, 4))\n",
    "plt.plot(mw_list, holevo_mw, color=c1)\n",
    "plt.errorbar(mw_list,  holevo_mw, yerr= np.abs(holevo_err_mw)/np.sqrt(n_rounds),  fmt='o', color=c1)\n",
    "\n",
    "#Add labels and title\n",
    "plt.xlabel('MW fid')\n",
    "plt.ylabel('Blindness')\n",
    "plt.title('Blindness of single qubit single rotation, init xp')\n",
    "\n",
    "# Show the plot\n",
    "plt.show()"
   ]
  },
  {
   "cell_type": "code",
   "execution_count": 115,
   "metadata": {},
   "outputs": [
    {
     "data": {
      "text/plain": [
       "array([[[0.5       +0.j        , 0.17779517+0.j        ],\n",
       "        [0.17779517+0.j        , 0.5       +0.j        ]],\n",
       "\n",
       "       [[0.49474799+0.j        , 0.27918727-0.11492054j],\n",
       "        [0.27918727+0.11492054j, 0.50525201+0.j        ]],\n",
       "\n",
       "       [[0.5009652 +0.j        , 0.17103865+0.02111985j],\n",
       "        [0.17103865-0.02111985j, 0.4990348 +0.j        ]],\n",
       "\n",
       "       [[0.49946759+0.j        , 0.16007542-0.01164971j],\n",
       "        [0.16007542+0.01164971j, 0.50053241+0.j        ]]])"
      ]
     },
     "execution_count": 115,
     "metadata": {},
     "output_type": "execute_result"
    }
   ],
   "source": []
  },
  {
   "cell_type": "code",
   "execution_count": null,
   "metadata": {},
   "outputs": [],
   "source": []
  }
 ],
 "metadata": {
  "kernelspec": {
   "display_name": "base",
   "language": "python",
   "name": "python3"
  },
  "language_info": {
   "codemirror_mode": {
    "name": "ipython",
    "version": 3
   },
   "file_extension": ".py",
   "mimetype": "text/x-python",
   "name": "python",
   "nbconvert_exporter": "python",
   "pygments_lexer": "ipython3",
   "version": "3.9.7"
  }
 },
 "nbformat": 4,
 "nbformat_minor": 2
}
