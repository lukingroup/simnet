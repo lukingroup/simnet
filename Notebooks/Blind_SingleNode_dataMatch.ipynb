{
 "cells": [
  {
   "cell_type": "markdown",
   "metadata": {},
   "source": [
    "## Setup"
   ]
  },
  {
   "cell_type": "code",
   "execution_count": 43,
   "metadata": {},
   "outputs": [],
   "source": [
    "import matplotlib.pyplot as plt\n",
    "import numpy as np\n",
    "import qutip as qt\n",
    "from qutip.qip.operations import *\n",
    "from qutip.qip.circuit import *\n",
    "from qutip.qip.operations import s_gate\n",
    "import sys\n",
    "sys.path.append('../SimulationCode/')\n",
    "from BlindGatesSimulation import *\n",
    "from fiber_network import FiberNetwork\n",
    "from SiVnodes import SiV\n",
    "from SiVgates import *\n",
    "from Plots import *\n",
    "import pandas as pd\n",
    "import matplotlib as mpl"
   ]
  },
  {
   "cell_type": "code",
   "execution_count": 2,
   "metadata": {},
   "outputs": [],
   "source": [
    "# colors for plots\n",
    "c1 = '#F15F57'\n",
    "c2 = '#F6851F'\n",
    "c3 = '#FDB913'\n",
    "c4 = '#743062'\n",
    "c5 = '#C87EB5'\n",
    "c6 = '#4CC0B3'\n",
    "c7 = '#1C9AAA'"
   ]
  },
  {
   "cell_type": "markdown",
   "metadata": {},
   "source": [
    "#### Define SiVs "
   ]
  },
  {
   "cell_type": "code",
   "execution_count": 3,
   "metadata": {},
   "outputs": [],
   "source": [
    "# Create SiVs:\n",
    "\n",
    "#Server A, G12\n",
    "siv_a = SiV(kappa_in= (74.9 - 54.5)*(10**3), kappa_w= (54.5)*(10**3), g=5.6*(10**3), wCav = (0)*(10**3), \n",
    "             wSiv = -(479.8 -639.6)*(10**3), dwEl = 0.5*(10**3)) # G12\n",
    "#Server B, B16\n",
    "siv_b = SiV(kappa_in= (43.5 - 26.0)*(10**3), kappa_w= (26.0)*(10**3), g=8.5*(10**3), wCav = (0)*(10**3), \n",
    "             wSiv = -(804.9 -657.6)*(10**3), dwEl = -0.5*(10**3)) # B16"
   ]
  },
  {
   "cell_type": "markdown",
   "metadata": {},
   "source": [
    "## Setup single Node experiments in B16"
   ]
  },
  {
   "cell_type": "code",
   "execution_count": 4,
   "metadata": {},
   "outputs": [],
   "source": [
    "# Create Networks:\n",
    "b16_network = FiberNetwork(siv_b) # this device is now in B16 fridge\n",
    "\n",
    "# Create Simulation:\n",
    "sim = BlindComputing(b16_network)"
   ]
  },
  {
   "cell_type": "code",
   "execution_count": 5,
   "metadata": {},
   "outputs": [
    {
     "name": "stdout",
     "output_type": "stream",
     "text": [
      "Detection efficientvy is =  0.0567\n"
     ]
    }
   ],
   "source": [
    "# Setup efficiencies\n",
    "fudge = 1\n",
    "\n",
    "b16_network.fibercoupling_eff = 0.6*fudge\n",
    "b16_network.tdi_eff = 0.35*0.3\n",
    "b16_network.snspd_eff = 0.9\n",
    "b16_network.detection_eff\n",
    "b16_network.detection_eff_reset()\n",
    "\n",
    "print('Detection efficientvy is = ', b16_network.detection_eff)"
   ]
  },
  {
   "cell_type": "markdown",
   "metadata": {},
   "source": [
    "#### MW gates"
   ]
  },
  {
   "cell_type": "code",
   "execution_count": 6,
   "metadata": {},
   "outputs": [],
   "source": [
    "# gate fidelities\n",
    "\n",
    "b16_mwfid = 0.99\n",
    "g12_mwfid = 1"
   ]
  },
  {
   "cell_type": "markdown",
   "metadata": {},
   "source": [
    "#### Move the SiV to the desired contrast point"
   ]
  },
  {
   "cell_type": "code",
   "execution_count": 7,
   "metadata": {},
   "outputs": [
    {
     "name": "stdout",
     "output_type": "stream",
     "text": [
      "new contrast 27.979731852612378\n",
      "B16 contrast is set to =  27.979731852612378\n"
     ]
    }
   ],
   "source": [
    "b16_contrast = 25 # range 18 - 30\n",
    "g12_contrast = 20 # range 12 - 20\n",
    "\n",
    "siv_b.set_contrast(b16_contrast)\n",
    "actual_contrast_b16 = siv_b.get_best_contrast()\n",
    "print(\"B16 contrast is set to = \", actual_contrast_b16)"
   ]
  },
  {
   "cell_type": "code",
   "execution_count": 6,
   "metadata": {},
   "outputs": [],
   "source": [
    "el_initial_xp = qt.ket2dm((qt.basis(2,0)+ qt.basis(2,1)).unit())\n",
    "el_initial_xm = qt.ket2dm((qt.basis(2,0)- qt.basis(2,1)).unit())\n",
    "el_initial_zp = qt.ket2dm(qt.basis(2, 0))\n",
    "el_initial_zm = qt.ket2dm(qt.basis(2, 1))\n",
    "el_initial_ym = qt.ket2dm(qt.basis(2, 0)- 1j* qt.basis(2, 1)).unit()\n",
    "el_initial_yp = qt.ket2dm(qt.basis(2, 0)+ 1j* qt.basis(2, 1)).unit()\n"
   ]
  },
  {
   "cell_type": "markdown",
   "metadata": {},
   "source": [
    "## B16 single qubit rotations"
   ]
  },
  {
   "cell_type": "code",
   "execution_count": 113,
   "metadata": {},
   "outputs": [],
   "source": [
    "imperfections ={'contrast_noise': 0, #(0 not noisy or 1 noisy)\n",
    "                'contrast': 'real', #'real'\n",
    "                'tdinoise': - 0.1, #np.pi/25, #'real'\n",
    "                'mw': 'real', # or perfect\n",
    "                'mw_noise': 1, #(0 is stable or 1 noisy/underotates overroates every experimental shot)\n",
    "                'mw_fid_num': [b16_mwfid, b16_mwfid] # default fidelities\n",
    "               }\n",
    "mu = 0.05"
   ]
  },
  {
   "cell_type": "code",
   "execution_count": 109,
   "metadata": {},
   "outputs": [],
   "source": [
    "phi1 = [0, np.pi/4, np.pi/2, 3*np.pi/4]\n",
    "phi2 = 0\n",
    "phi3 = 0\n",
    "el_initial_xp  = qt.ket2dm((qt.basis(2,0)+ qt.basis(2,1)).unit())"
   ]
  },
  {
   "cell_type": "code",
   "execution_count": null,
   "metadata": {},
   "outputs": [],
   "source": [
    "cluster_state_length = 1\n",
    "n_rounds = 10000\n",
    "\n",
    "rates_apd1_apd2 = np.empty((0, 2), dtype=float)\n",
    "rho_phi_n_array_s = np.empty((0, n_rounds, 2, 2), dtype=complex)\n",
    "rho_phi_n_array_cl = np.empty((0, n_rounds, 2, 2), dtype=complex)\n",
    "nxnynz_cl_phi_array =  np.empty((0, n_rounds, 3), dtype=float)\n",
    "nxnynz_s_phi_array =  np.empty((0, n_rounds, 3), dtype=float)\n",
    "for j in range(len(phi1)):\n",
    "    rho_n_array_cl = np.empty((0, 2, 2), dtype=complex)\n",
    "    rho_n_array_s = np.empty((0, 2, 2), dtype=complex)\n",
    "    rho_click = np.empty((0, 1), dtype=int)\n",
    "    phi1e = phi1[j]\n",
    "    print(\"Phi angle = \", phi1e)\n",
    "    nxnynz_cl_array =  np.empty((0, 3), dtype=float)\n",
    "    nxnynz_s_array =  np.empty((0, 3), dtype=float)\n",
    "    for i in range(n_rounds): \n",
    "        if i%100 == 0:\n",
    "            print(i)\n",
    "        rho_init_xp = sim2.single_node_electron_exp(el_initial_xp, imperfections, cluster_state_length, phi1e, phi1, phi3, mu)\n",
    "        rho_n_item_s = rho_init_xp[0]\n",
    "        rho_n_item_cl = (qt.sigmaz()**(rho_init_xp[1]))*rho_init_xp[0]*(qt.sigmaz()**(rho_init_xp[1]))\n",
    "        rho_n_array_s = np.vstack([rho_n_array_s, [rho_n_item_s]])\n",
    "        rho_n_array_cl = np.vstack([rho_n_array_cl, [rho_n_item_cl]])\n",
    "        nxnynz_cl = calculate_bloch_components(rho_n_item_cl)\n",
    "        nxnynz_s = calculate_bloch_components(rho_n_item_s)\n",
    "        nxnynz_cl_array =  np.vstack([nxnynz_cl_array, [nxnynz_cl]])\n",
    "        nxnynz_s_array =  np.vstack([nxnynz_s_array, [nxnynz_s]])\n",
    "    nxnynz_cl_phi_array =  np.vstack([nxnynz_cl_phi_array, [nxnynz_cl_array]])\n",
    "    nxnynz_s_phi_array =  np.vstack([nxnynz_s_phi_array, [nxnynz_s_array]])\n",
    "    mean_cl_nxnynz = np.mean(nxnynz_cl_array, axis =0)\n",
    "    std_cl_nxnynz = np.std(nxnynz_cl_array, axis =0)/np.sqrt(n_rounds)\n",
    "    mean_s_nxnynz = np.mean(nxnynz_s_array, axis =0)\n",
    "    std_s_nxnynz = np.std(nxnynz_s_array, axis =0)/np.sqrt(n_rounds)\n",
    "    print(mean_cl_nxnynz, std_cl_nxnynz)\n",
    "    print(mean_s_nxnynz, std_s_nxnynz)\n",
    "    rates_apd1_apd2 = np.append(rates_apd1_apd2, [rho_init_xp[2:4]])\n",
    "\n",
    "    rho_phi_n_array_s = np.vstack([rho_phi_n_array_s, [rho_n_array_s]])\n",
    "    rho_phi_n_array_cl = np.vstack([rho_phi_n_array_cl, [rho_n_array_cl]])"
   ]
  },
  {
   "cell_type": "code",
   "execution_count": 118,
   "metadata": {},
   "outputs": [],
   "source": [
    "fid_err_phi =  np.empty((0, 2), dtype=float)\n",
    "fid_ave_phi =  np.empty((0, 2), dtype=float)\n",
    "for j in range(len(phi1)):\n",
    "    U = rz(phi1[j])\n",
    "    el_rho_final_ideal = U*el_initial_xp*U.dag()\n",
    "    fid_n =  np.empty((0, 2), dtype=float)\n",
    "    for k in range(n_rounds):\n",
    "        fid = (qt.fidelity(qt.Qobj(rho_phi_n_array_cl[j][k]), el_rho_final_ideal))**2\n",
    "        fid_n = np.append(fid_n, fid)\n",
    "    fid_ave = np.mean(fid_n, axis = 0)\n",
    "    # this is only the variability of the measurement\n",
    "    fid_ave_std = np.std(fid_n, axis = 0)/(np.sqrt(n_rounds))\n",
    "    fid_ave_phi = np.append(fid_ave_phi, fid_ave)\n",
    "    fid_err_phi = np.append(fid_err_phi, fid_ave_std)"
   ]
  },
  {
   "cell_type": "code",
   "execution_count": 136,
   "metadata": {},
   "outputs": [
    {
     "name": "stdout",
     "output_type": "stream",
     "text": [
      "[[ 0.91115257 -0.09011496 -0.0069548 ]\n",
      " [ 0.71044618  0.56911975 -0.01335258]\n",
      " [ 0.09455779  0.89694037 -0.00762512]\n",
      " [-0.58053426  0.69644991 -0.00639887]]\n",
      "[[0.00095105 0.0003485  0.00325048]\n",
      " [0.00148431 0.00166445 0.00276787]\n",
      " [0.00318744 0.00040197 0.0019758 ]\n",
      " [0.00204214 0.00163996 0.00254271]]\n",
      "[[ 0.3057609   0.00047353 -0.0069548 ]\n",
      " [ 0.31610002  0.00475654 -0.01335258]\n",
      " [ 0.30978769  0.0088627  -0.00762512]\n",
      " [ 0.315204   -0.00804258 -0.00639887]]\n",
      "[[0.00863571 0.00096618 0.00325048]\n",
      " [0.00653335 0.00592941 0.00276787]\n",
      " [0.00120707 0.00897797 0.0019758 ]\n",
      " [0.00528554 0.00715453 0.00254271]]\n"
     ]
    }
   ],
   "source": [
    "print(np.mean(nxnynz_cl_phi_array, axis = 1))\n",
    "print(np.std(nxnynz_cl_phi_array, axis = 1)/np.sqrt(n_rounds))\n",
    "print(np.mean(nxnynz_s_phi_array, axis = 1))\n",
    "print(np.std(nxnynz_s_phi_array, axis = 1)/np.sqrt(n_rounds))"
   ]
  },
  {
   "cell_type": "code",
   "execution_count": 120,
   "metadata": {},
   "outputs": [
    {
     "name": "stdout",
     "output_type": "stream",
     "text": [
      "Fidelity over phi =  0.9519808652203994 +- 0.00034877246933622664\n"
     ]
    }
   ],
   "source": [
    "fid = np.mean(fid_ave_phi, axis = 0)\n",
    "fiderr = np.sqrt(np.sum(fid_err_phi**2)/len(fid_err_phi))\n",
    "print('Fidelity over phi = ', fid, \"+-\",  fiderr)"
   ]
  },
  {
   "cell_type": "markdown",
   "metadata": {},
   "source": [
    "#### Blindness"
   ]
  },
  {
   "cell_type": "code",
   "execution_count": 121,
   "metadata": {},
   "outputs": [
    {
     "name": "stdout",
     "output_type": "stream",
     "text": [
      "Holevo bound is =  3.4100408453419107e-05 0.000983889713131907\n"
     ]
    }
   ],
   "source": [
    "rho_ave_phi_array =  np.empty((0, 2, 2), dtype=float)\n",
    "eigen_phi_std_array = np.empty((0, 2), dtype=float)\n",
    "eig_eta_array = np.empty((0, 2), dtype=float)\n",
    "\n",
    "mean_nxnynz = np.mean(nxnynz_s_phi_array, axis =1)\n",
    "std_nxnynz = np.std(nxnynz_s_phi_array, axis =1)/np.sqrt(n_rounds)\n",
    "\n",
    "# eigen ebnergies and uncertainties of rho of phis\n",
    "eigen_phis = [(1/2)*(1 -np.sqrt(np.sum(mean_nxnynz**2, axis = 1))), (1/2)*(1 +np.sqrt(np.sum(mean_nxnynz**2, axis = 1)))]\n",
    "eigen_phis_std = np.array([eigenvalue_uncertainty(mean_nxnynz[i], std_nxnynz[i]) for i in range(len(mean_nxnynz))])\n",
    "\n",
    "rho_ave_phi_array = np.mean(rho_phi_n_array_s, axis = 1)\n",
    "rho_ave_tot = np.mean(rho_ave_phi_array, axis = 0)\n",
    "nxnynz_tot = np.array([calculate_bloch_components(qt.Qobj(rho_ave_tot))])\n",
    "nxnynz_tot_std = np.sqrt(np.sum(eigen_phis_std**2))/len(eigen_phis_std)\n",
    "\n",
    "# std of variability of eigenvalues of rho tot\n",
    "std_eigen_tot = eigenvalue_uncertainty(nxnynz_tot.ravel(), [nxnynz_tot_std,nxnynz_tot_std,nxnynz_tot_std])\n",
    "eigen_tot = np.abs(qt.Qobj(rho_ave_tot).eigenenergies())\n",
    "\n",
    "hv_tot = qt.entropy_vn(qt.Qobj(rho_ave_tot)) - np.mean([qt.entropy_vn(qt.Qobj(rho)) for rho in rho_ave_phi_array])\n",
    "rho_tot_sigma_lambdas = (std_eigen_tot, std_eigen_tot)\n",
    "rho_tot_lambdas = (eigen_tot[0], eigen_tot[1])\n",
    "rho_lambdas = list(zip(eigen_phis[0], eigen_phis[1]))\n",
    "rho_sigma_lambdas =  [(value, value) for value in eigen_phis_std]\n",
    "\n",
    "hv_std = holevo_bound_uncertainty(rho_tot_lambdas, rho_tot_sigma_lambdas, rho_lambdas, rho_sigma_lambdas)\n",
    "\n",
    "print('Holevo bound is = ', hv_tot, hv_std)\n"
   ]
  },
  {
   "cell_type": "markdown",
   "metadata": {},
   "source": [
    "## B16 universal single qubit rotations"
   ]
  },
  {
   "cell_type": "markdown",
   "metadata": {},
   "source": [
    "#### Identity"
   ]
  },
  {
   "cell_type": "code",
   "execution_count": 395,
   "metadata": {},
   "outputs": [],
   "source": [
    "b16_mwfid_unitary = 0.99\n",
    "imperfections ={'contrast_noise': 0, #(0 not noisy or 1 noisy)\n",
    "                'contrast': 'real', #'real'\n",
    "                'tdinoise': 0.4, #np.pi/25, #'real'\n",
    "                'mw': 'real', # or perfect\n",
    "                'mw_noise': 1, #(0 is stable or 1 noisy/underotates overroates every experimental shot)\n",
    "                'mw_fid_num': [b16_mwfid_unitary, b16_mwfid_unitary] # default fidelities\n",
    "               }\n",
    "mu = 0.3\n",
    "phi_array  = [0, 0, 0]\n",
    "\n",
    "el_initial_xp  = qt.ket2dm((qt.basis(2,0)+ qt.basis(2,1)).unit())\n",
    "el_initial_yp  = qt.ket2dm((qt.basis(2,0)+ 1j*qt.basis(2,1)).unit())\n",
    "\n",
    "cluster_state_length = 3\n"
   ]
  },
  {
   "cell_type": "code",
   "execution_count": 396,
   "metadata": {},
   "outputs": [
    {
     "name": "stdout",
     "output_type": "stream",
     "text": [
      "[-0.08693934  0.16437464  0.01678555]\n",
      "[0.06534826 0.08418688 0.0592319 ]\n",
      "[-0.24562242  0.46754125 -0.00220998]\n",
      "[0.05011318 0.02648718 0.05930976]\n",
      "Fidelity of a universal Identity gate =  0.7337706292150785 +- 0.013243592119313394\n"
     ]
    }
   ],
   "source": [
    "n_rounds = 30 # estimate for 6 hrs of run\n",
    "el_rho_final_ideal = el_initial_yp\n",
    "\n",
    "rho_n_array_cl_id = np.empty((0, 2, 2), dtype=complex)\n",
    "rho_n_array_s_id = np.empty((0, 2, 2), dtype=complex)\n",
    "nxnynz_cl_array_id =  np.empty((0, 3), dtype=float)\n",
    "nxnynz_s_array_id =  np.empty((0, 3), dtype=float)\n",
    "fid_n =  np.empty((0, 2), dtype=float)\n",
    "\n",
    "for i in range(n_rounds):\n",
    "    # if i%100==0:\n",
    "    #     print(i)\n",
    "    rho_output = single_qubit_universal_blind_gate_with_feedback(el_initial_yp, imperfections, cluster_state_length, phi_array, mu)\n",
    "    rho_s = rho_output[0]\n",
    "    rho_cl = rho_output[1]\n",
    "    rho_n_array_s_id = np.vstack([rho_n_array_s_id, [rho_s]])\n",
    "    rho_n_array_cl_id = np.vstack([rho_n_array_cl_id, [rho_cl]])\n",
    "    fid = (qt.fidelity(qt.Qobj(rho_cl), el_rho_final_ideal))**2\n",
    "    fid_n = np.append(fid_n, fid)\n",
    "    nxnynz_cl = calculate_bloch_components(rho_s)\n",
    "    nxnynz_s = calculate_bloch_components(rho_cl)\n",
    "    nxnynz_cl_array_id = np.vstack([nxnynz_cl_array_id, [nxnynz_cl]])\n",
    "    nxnynz_s_array_id = np.vstack([nxnynz_s_array_id, [nxnynz_s]])\n",
    "nxnynz_tot_cl_id = np.mean(nxnynz_cl_array_id, axis = 0)\n",
    "nxnynz_tot_s_id = np.mean(nxnynz_s_array_id, axis = 0)\n",
    "nxnynz_tot_std_cl_id = np.std(nxnynz_cl_array_id, axis = 0)/np.sqrt(n_rounds)\n",
    "nxnynz_tot_std_s_id = np.std(nxnynz_s_array_id, axis = 0)/np.sqrt(n_rounds)\n",
    "\n",
    "fid_ave_id = np.mean(fid_n, axis = 0)\n",
    "fid_ave_std_id = np.std(fid_n, axis = 0)/(np.sqrt(n_rounds))\n",
    "\n",
    "print(nxnynz_tot_cl_id)\n",
    "print(nxnynz_tot_std_cl_id)\n",
    "\n",
    "print(nxnynz_tot_s_id)\n",
    "print(nxnynz_tot_std_s_id)\n",
    "\n",
    "\n",
    "\n",
    "print(\"Fidelity of a universal Identity gate = \", fid_ave_id, \"+-\", fid_ave_std_id)\n"
   ]
  },
  {
   "cell_type": "markdown",
   "metadata": {},
   "source": [
    "##### FIdelity of Identity"
   ]
  },
  {
   "cell_type": "code",
   "execution_count": 397,
   "metadata": {},
   "outputs": [
    {
     "name": "stdout",
     "output_type": "stream",
     "text": [
      "Quantum object: dims = [[2], [2]], shape = (2, 2), type = oper, isherm = True\n",
      "Qobj data =\n",
      "[[0. 0.]\n",
      " [0. 1.]]\n"
     ]
    }
   ],
   "source": [
    "U_transform_ztoy = qt.Qobj([[1, 1j], [1j, 1]]) / (2 ** 0.5)\n",
    "print(U_transform_ztoy*el_initial_yp*U_transform_ztoy.dag())"
   ]
  },
  {
   "cell_type": "code",
   "execution_count": 398,
   "metadata": {},
   "outputs": [
    {
     "data": {
      "image/png": "[encoded data removed]",
      "text/plain": [
       "<Figure size 720x720 with 2 Axes>"
      ]
     },
     "metadata": {
      "needs_background": "light"
     },
     "output_type": "display_data"
    }
   ],
   "source": [
    "rho = np.mean(rho_n_array_cl_id, axis = 0)\n",
    "# from Z to Y basis\n",
    "rho_y = U_transform_ztoy * rho * U_transform_ztoy.dag()\n",
    "plot_from_rho_Identity(rho_y, \"title\", \"filename\", 'Blues')"
   ]
  },
  {
   "cell_type": "code",
   "execution_count": 399,
   "metadata": {},
   "outputs": [
    {
     "data": {
      "image/png": "[encoded data removed]",
      "text/plain": [
       "<Figure size 720x720 with 2 Axes>"
      ]
     },
     "metadata": {
      "needs_background": "light"
     },
     "output_type": "display_data"
    }
   ],
   "source": [
    "rho = np.mean(rho_n_array_s_id, axis = 0)\n",
    "# from Z to Y basis\n",
    "rho_y = U_transform_ztoy * rho * U_transform_ztoy.dag()\n",
    "plot_from_rho_Identity(rho_y, \"title\", \"filename\", 'Blues')"
   ]
  },
  {
   "cell_type": "markdown",
   "metadata": {},
   "source": [
    "#### Hadamart"
   ]
  },
  {
   "cell_type": "code",
   "execution_count": 400,
   "metadata": {},
   "outputs": [],
   "source": [
    "b16_mwfid_unitary = 0.99\n",
    "imperfections ={'contrast_noise': 0, #(0 not noisy or 1 noisy)\n",
    "                'contrast': 'real', #'real'\n",
    "                'tdinoise': 0.4, #np.pi/25, #'real'\n",
    "                'mw': 'real', # or perfect\n",
    "                'mw_noise': 1, #(0 is stable or 1 noisy/underotates overroates every experimental shot)\n",
    "                'mw_fid_num': [b16_mwfid_unitary, b16_mwfid_unitary] # default fidelities\n",
    "               }\n",
    "mu = 0.3\n",
    "phi_array  = [np.pi/2, np.pi/2, np.pi/2]\n",
    "\n",
    "el_initial_xp  = qt.ket2dm((qt.basis(2,0)+ qt.basis(2,1)).unit())\n",
    "el_initial_yp  = qt.ket2dm((qt.basis(2,0)+ 1j*qt.basis(2,1)).unit())\n",
    "\n",
    "cluster_state_length = 3\n"
   ]
  },
  {
   "cell_type": "code",
   "execution_count": 401,
   "metadata": {},
   "outputs": [
    {
     "name": "stdout",
     "output_type": "stream",
     "text": [
      "[-0.05406417  0.05728237 -0.01482528]\n",
      "[0.06538386 0.09077105 0.08186572]\n",
      "[ 0.04034993 -0.4607686  -0.23402041]\n",
      "[0.06571308 0.03566281 0.06988422]\n",
      "Fidelity of a universal Identity gate =  0.7303843067091331 +- 0.017831407308288045\n"
     ]
    }
   ],
   "source": [
    "n_rounds = 30 # estimate for 6 hrs of run\n",
    "el_rho_final_ideal = el_initial_ym\n",
    "\n",
    "\n",
    "rho_n_array_cl_had = np.empty((0, 2, 2), dtype=complex)\n",
    "rho_n_array_s_had = np.empty((0, 2, 2), dtype=complex)\n",
    "nxnynz_cl_array_had =  np.empty((0, 3), dtype=float)\n",
    "nxnynz_s_array_had =  np.empty((0, 3), dtype=float)\n",
    "fid_n =  np.empty((0, 2), dtype=float)\n",
    "\n",
    "for i in range(n_rounds):\n",
    "    # if i%100==0:\n",
    "    #     print(i)\n",
    "    rho_output = single_qubit_universal_blind_gate_with_feedback(el_initial_yp, imperfections, cluster_state_length, phi_array, mu)\n",
    "    rho_s = rho_output[0]\n",
    "    rho_cl = rho_output[1]\n",
    "    rho_n_array_s_had = np.vstack([rho_n_array_s_had, [rho_s]])\n",
    "    rho_n_array_cl_had = np.vstack([rho_n_array_cl_had, [rho_cl]])\n",
    "    fid = (qt.fidelity(qt.Qobj(rho_cl), el_rho_final_ideal))**2\n",
    "    fid_n = np.append(fid_n, fid)\n",
    "    nxnynz_cl = calculate_bloch_components(rho_s)\n",
    "    nxnynz_s = calculate_bloch_components(rho_cl)\n",
    "    nxnynz_cl_array_had = np.vstack([nxnynz_cl_array_had, [nxnynz_cl]])\n",
    "    nxnynz_s_array_had = np.vstack([nxnynz_s_array_had, [nxnynz_s]])\n",
    "nxnynz_tot_cl_had = np.mean(nxnynz_cl_array_had, axis = 0)\n",
    "nxnynz_tot_s_had = np.mean(nxnynz_s_array_had, axis = 0)\n",
    "nxnynz_tot_std_cl_had = np.std(nxnynz_cl_array_had, axis = 0)/np.sqrt(n_rounds)\n",
    "nxnynz_tot_std_s_had = np.std(nxnynz_s_array_had, axis = 0)/np.sqrt(n_rounds)\n",
    "\n",
    "fid_ave_had = np.mean(fid_n, axis = 0)\n",
    "fid_ave_std_had = np.std(fid_n, axis = 0)/(np.sqrt(n_rounds))\n",
    "\n",
    "print(nxnynz_tot_cl_had)\n",
    "print(nxnynz_tot_std_cl_had)\n",
    "\n",
    "print(nxnynz_tot_s_had)\n",
    "print(nxnynz_tot_std_s_had)\n",
    "\n",
    "print(\"Fidelity of a universal Identity gate = \", fid_ave_had, \"+-\", fid_ave_std_had)\n"
   ]
  },
  {
   "cell_type": "code",
   "execution_count": 402,
   "metadata": {},
   "outputs": [
    {
     "data": {
      "image/png": "[encoded data removed]",
      "text/plain": [
       "<Figure size 720x720 with 2 Axes>"
      ]
     },
     "metadata": {
      "needs_background": "light"
     },
     "output_type": "display_data"
    }
   ],
   "source": [
    "rho = np.mean(rho_n_array_cl_had, axis = 0)\n",
    "# from Z to Y basis\n",
    "rho_y = U_transform_ztoy * rho * U_transform_ztoy.dag()\n",
    "plot_from_rho_Identity(rho_y, \"title\", \"filename\", 'Blues')"
   ]
  },
  {
   "cell_type": "code",
   "execution_count": 403,
   "metadata": {},
   "outputs": [
    {
     "data": {
      "image/png": "[encoded data removed]",
      "text/plain": [
       "<Figure size 720x720 with 2 Axes>"
      ]
     },
     "metadata": {
      "needs_background": "light"
     },
     "output_type": "display_data"
    }
   ],
   "source": [
    "rho = np.mean(rho_n_array_s_had, axis = 0)\n",
    "# from Z to Y basis\n",
    "rho_y = U_transform_ztoy * rho * U_transform_ztoy.dag()\n",
    "plot_from_rho_Identity(rho_y, \"title\", \"filename\", 'Blues')"
   ]
  },
  {
   "cell_type": "markdown",
   "metadata": {},
   "source": [
    "#### T sqrt(X) T"
   ]
  },
  {
   "cell_type": "code",
   "execution_count": 404,
   "metadata": {},
   "outputs": [],
   "source": [
    "b16_mwfid_unitary = 0.99\n",
    "imperfections ={'contrast_noise': 0, #(0 not noisy or 1 noisy)\n",
    "                'contrast': 'real', #'real'\n",
    "                'tdinoise': 0.4, #np.pi/25, #'real'\n",
    "                'mw': 'real', # or perfect\n",
    "                'mw_noise': 1, #(0 is stable or 1 noisy/underotates overroates every experimental shot)\n",
    "                'mw_fid_num': [b16_mwfid_unitary, b16_mwfid_unitary] # default fidelities\n",
    "               }\n",
    "mu = 0.3\n",
    "phi_array  = [np.pi/4, np.pi/2, np.pi/4]\n",
    "\n",
    "cluster_state_length = 3\n"
   ]
  },
  {
   "cell_type": "code",
   "execution_count": 405,
   "metadata": {},
   "outputs": [
    {
     "name": "stdout",
     "output_type": "stream",
     "text": [
      "Quantum object: dims = [[2], [2]], shape = (2, 2), type = oper, isherm = True\n",
      "Qobj data =\n",
      "[[ 0.85355339+0.j   -0.25      +0.25j]\n",
      " [-0.25      -0.25j  0.14644661+0.j  ]]\n"
     ]
    }
   ],
   "source": [
    "TsqXT = rz(np.pi/4)*rx(np.pi/2)*rz(np.pi/4)\n",
    "el_rho_final_ideal = TsqXT*el_initial_yp*TsqXT.dag()\n",
    "print(el_rho_final_ideal)"
   ]
  },
  {
   "cell_type": "code",
   "execution_count": 406,
   "metadata": {},
   "outputs": [
    {
     "name": "stdout",
     "output_type": "stream",
     "text": [
      "[-0.11094597  0.08819732  0.08882447]\n",
      "[0.07514703 0.08342183 0.07435154]\n",
      "[-0.26740405 -0.4252258   0.14924287]\n",
      "[0.06061253 0.03451464 0.07105418]\n",
      "Fidelity of a universal Identity gate =  0.7259227891763015 +- 0.027475109476144313\n"
     ]
    }
   ],
   "source": [
    "n_rounds = 30 # estimate for 6 hrs of run\n",
    "\n",
    "rho_n_array_cl_txt = np.empty((0, 2, 2), dtype=complex)\n",
    "rho_n_array_s_txt = np.empty((0, 2, 2), dtype=complex)\n",
    "nxnynz_cl_array_txt =  np.empty((0, 3), dtype=float)\n",
    "nxnynz_s_array_txt =  np.empty((0, 3), dtype=float)\n",
    "fid_n =  np.empty((0, 2), dtype=float)\n",
    "\n",
    "for i in range(n_rounds):\n",
    "    # if i%100==0:\n",
    "    #     print(i)\n",
    "    rho_output = single_qubit_universal_blind_gate_with_feedback(el_initial_yp, imperfections, cluster_state_length, phi_array, mu)\n",
    "    rho_s = rho_output[0]\n",
    "    rho_cl = rho_output[1]\n",
    "    rho_n_array_s_txt = np.vstack([rho_n_array_s_txt, [rho_s]])\n",
    "    rho_n_array_cl_txt = np.vstack([rho_n_array_cl_txt, [rho_cl]])\n",
    "    fid = (qt.fidelity(qt.Qobj(rho_cl), el_rho_final_ideal))**2\n",
    "    fid_n = np.append(fid_n, fid)\n",
    "    nxnynz_cl = calculate_bloch_components(rho_s)\n",
    "    nxnynz_s = calculate_bloch_components(rho_cl)\n",
    "    nxnynz_cl_array_txt = np.vstack([nxnynz_cl_array_txt, [nxnynz_cl]])\n",
    "    nxnynz_s_array_txt = np.vstack([nxnynz_s_array_txt, [nxnynz_s]])\n",
    "nxnynz_tot_cl_txt = np.mean(nxnynz_cl_array_txt, axis = 0)\n",
    "nxnynz_tot_s_txt = np.mean(nxnynz_s_array_txt, axis = 0)\n",
    "nxnynz_tot_std_cl_txt = np.std(nxnynz_cl_array_txt, axis = 0)/np.sqrt(n_rounds)\n",
    "nxnynz_tot_std_s_txt = np.std(nxnynz_s_array_txt, axis = 0)/np.sqrt(n_rounds)\n",
    "\n",
    "fid_ave_txt = np.mean(fid_n, axis = 0)\n",
    "fid_ave_std_txt = np.std(fid_n, axis = 0)/(np.sqrt(n_rounds))\n",
    "\n",
    "print(nxnynz_tot_cl_txt)\n",
    "print(nxnynz_tot_std_cl_txt)\n",
    "\n",
    "print(nxnynz_tot_s_txt)\n",
    "print(nxnynz_tot_std_s_txt)\n",
    "\n",
    "print(\"Fidelity of a universal Identity gate = \", fid_ave_txt, \"+-\", fid_ave_std_txt)\n"
   ]
  },
  {
   "cell_type": "code",
   "execution_count": 407,
   "metadata": {},
   "outputs": [
    {
     "data": {
      "image/png": "[encoded data removed]",
      "text/plain": [
       "<Figure size 720x720 with 2 Axes>"
      ]
     },
     "metadata": {
      "needs_background": "light"
     },
     "output_type": "display_data"
    }
   ],
   "source": [
    "rho = np.mean(rho_n_array_cl_txt, axis = 0)\n",
    "# to TXTy basis \n",
    "U_txt = U_transform_ztoy*TsqXT.dag()\n",
    "rho_y = U_txt*rho*U_txt.dag()\n",
    "plot_from_rho_magic(rho_y, \"title\", \"filename\", 'Blues')"
   ]
  },
  {
   "cell_type": "code",
   "execution_count": 408,
   "metadata": {},
   "outputs": [
    {
     "data": {
      "image/png": "[encoded data removed]",
      "text/plain": [
       "<Figure size 720x720 with 2 Axes>"
      ]
     },
     "metadata": {
      "needs_background": "light"
     },
     "output_type": "display_data"
    }
   ],
   "source": [
    "rho = np.mean(rho_n_array_s_txt, axis = 0)\n",
    "# from Z to Y basis\n",
    "rho_y = U_txt*rho*U_txt.dag()\n",
    "plot_from_rho_magic(rho_y, \"title\", \"filename\", 'Blues')"
   ]
  },
  {
   "cell_type": "markdown",
   "metadata": {},
   "source": [
    "#### Blindness for the universal single qubit gate"
   ]
  },
  {
   "cell_type": "code",
   "execution_count": 423,
   "metadata": {},
   "outputs": [
    {
     "ename": "TypeError",
     "evalue": "Incompatible Qobj shapes",
     "output_type": "error",
     "traceback": [
      "\u001b[0;31m---------------------------------------------------------------------------\u001b[0m",
      "\u001b[0;31mTypeError\u001b[0m                                 Traceback (most recent call last)",
      "\u001b[0;32m/var/folders/q_/9fc9c9855wd_byhp4rdymc3h0000gn/T/ipykernel_2775/428648051.py\u001b[0m in \u001b[0;36m<module>\u001b[0;34m\u001b[0m\n\u001b[1;32m     12\u001b[0m \u001b[0mrho_ave_phi_array\u001b[0m \u001b[0;34m=\u001b[0m \u001b[0mnp\u001b[0m\u001b[0;34m.\u001b[0m\u001b[0marray\u001b[0m\u001b[0;34m(\u001b[0m\u001b[0;34m[\u001b[0m\u001b[0mnp\u001b[0m\u001b[0;34m.\u001b[0m\u001b[0mmean\u001b[0m\u001b[0;34m(\u001b[0m\u001b[0mrho_n_array_s_id\u001b[0m\u001b[0;34m,\u001b[0m \u001b[0maxis\u001b[0m \u001b[0;34m=\u001b[0m \u001b[0;36m0\u001b[0m\u001b[0;34m)\u001b[0m\u001b[0;34m,\u001b[0m\u001b[0mnp\u001b[0m\u001b[0;34m.\u001b[0m\u001b[0mmean\u001b[0m\u001b[0;34m(\u001b[0m\u001b[0mrho_n_array_s_had\u001b[0m\u001b[0;34m,\u001b[0m \u001b[0maxis\u001b[0m \u001b[0;34m=\u001b[0m \u001b[0;36m0\u001b[0m\u001b[0;34m)\u001b[0m\u001b[0;34m,\u001b[0m \u001b[0mnp\u001b[0m\u001b[0;34m.\u001b[0m\u001b[0mmean\u001b[0m\u001b[0;34m(\u001b[0m\u001b[0mrho_n_array_s_txt\u001b[0m\u001b[0;34m,\u001b[0m \u001b[0maxis\u001b[0m \u001b[0;34m=\u001b[0m \u001b[0;36m0\u001b[0m\u001b[0;34m)\u001b[0m\u001b[0;34m]\u001b[0m\u001b[0;34m)\u001b[0m\u001b[0;34m\u001b[0m\u001b[0;34m\u001b[0m\u001b[0m\n\u001b[1;32m     13\u001b[0m \u001b[0mrho_ave_phi_arrayrho_ave_tot\u001b[0m \u001b[0;34m=\u001b[0m \u001b[0mnp\u001b[0m\u001b[0;34m.\u001b[0m\u001b[0mmean\u001b[0m\u001b[0;34m(\u001b[0m\u001b[0mrho_ave_phi_array\u001b[0m\u001b[0;34m,\u001b[0m \u001b[0maxis\u001b[0m \u001b[0;34m=\u001b[0m \u001b[0;36m0\u001b[0m\u001b[0;34m)\u001b[0m\u001b[0;34m\u001b[0m\u001b[0;34m\u001b[0m\u001b[0m\n\u001b[0;32m---> 14\u001b[0;31m \u001b[0mnxnynz_tot\u001b[0m \u001b[0;34m=\u001b[0m \u001b[0mnp\u001b[0m\u001b[0;34m.\u001b[0m\u001b[0marray\u001b[0m\u001b[0;34m(\u001b[0m\u001b[0;34m[\u001b[0m\u001b[0mcalculate_bloch_components\u001b[0m\u001b[0;34m(\u001b[0m\u001b[0mqt\u001b[0m\u001b[0;34m.\u001b[0m\u001b[0mQobj\u001b[0m\u001b[0;34m(\u001b[0m\u001b[0mrho_ave_tot\u001b[0m\u001b[0;34m)\u001b[0m\u001b[0;34m)\u001b[0m\u001b[0;34m]\u001b[0m\u001b[0;34m)\u001b[0m\u001b[0;34m\u001b[0m\u001b[0;34m\u001b[0m\u001b[0m\n\u001b[0m\u001b[1;32m     15\u001b[0m \u001b[0mnxnynz_tot_std\u001b[0m \u001b[0;34m=\u001b[0m \u001b[0mnp\u001b[0m\u001b[0;34m.\u001b[0m\u001b[0msqrt\u001b[0m\u001b[0;34m(\u001b[0m\u001b[0mnp\u001b[0m\u001b[0;34m.\u001b[0m\u001b[0msum\u001b[0m\u001b[0;34m(\u001b[0m\u001b[0meigen_phis_std\u001b[0m\u001b[0;34m**\u001b[0m\u001b[0;36m2\u001b[0m\u001b[0;34m)\u001b[0m\u001b[0;34m)\u001b[0m\u001b[0;34m/\u001b[0m\u001b[0mlen\u001b[0m\u001b[0;34m(\u001b[0m\u001b[0meigen_phis_std\u001b[0m\u001b[0;34m)\u001b[0m\u001b[0;34m\u001b[0m\u001b[0;34m\u001b[0m\u001b[0m\n\u001b[1;32m     16\u001b[0m \u001b[0;34m\u001b[0m\u001b[0m\n",
      "\u001b[0;32m~/Lukin SiV Dropbox/Aziza azizasuleymanzade@g.harvard.edu/bqc_paper/Simulation/Notebooks/../SimulationCode/BlindGatesSimulation.py\u001b[0m in \u001b[0;36mcalculate_bloch_components\u001b[0;34m(density_matrix)\u001b[0m\n\u001b[1;32m    164\u001b[0m         \u001b[0mrho_raw\u001b[0m \u001b[0;34m=\u001b[0m \u001b[0mrho\u001b[0m\u001b[0;34m[\u001b[0m\u001b[0;36m0\u001b[0m\u001b[0;34m]\u001b[0m\u001b[0;34m\u001b[0m\u001b[0;34m\u001b[0m\u001b[0m\n\u001b[1;32m    165\u001b[0m \u001b[0;34m\u001b[0m\u001b[0m\n\u001b[0;32m--> 166\u001b[0;31m         \u001b[0mmeasurement_outputs\u001b[0m \u001b[0;34m=\u001b[0m \u001b[0mnp\u001b[0m\u001b[0;34m.\u001b[0m\u001b[0mround\u001b[0m\u001b[0;34m(\u001b[0m\u001b[0mmeasurement_outputs\u001b[0m\u001b[0;34m[\u001b[0m\u001b[0;34m:\u001b[0m\u001b[0;34m,\u001b[0m\u001b[0;36m0\u001b[0m\u001b[0;34m]\u001b[0m\u001b[0;34m,\u001b[0m \u001b[0;36m1\u001b[0m\u001b[0;34m)\u001b[0m\u001b[0;34m\u001b[0m\u001b[0;34m\u001b[0m\u001b[0m\n\u001b[0m\u001b[1;32m    167\u001b[0m         \u001b[0mrho_corrected\u001b[0m \u001b[0;34m=\u001b[0m \u001b[0mself\u001b[0m\u001b[0;34m.\u001b[0m\u001b[0mcorrection_single_qubit_universal_blind_gate_withfeedback\u001b[0m\u001b[0;34m(\u001b[0m\u001b[0mrho_raw\u001b[0m\u001b[0;34m,\u001b[0m \u001b[0mmeasurement_outputs\u001b[0m\u001b[0;34m)\u001b[0m\u001b[0;34m\u001b[0m\u001b[0;34m\u001b[0m\u001b[0m\n\u001b[1;32m    168\u001b[0m         \u001b[0;32mreturn\u001b[0m \u001b[0mrho_raw\u001b[0m\u001b[0;34m,\u001b[0m \u001b[0mrho_corrected\u001b[0m\u001b[0;34m,\u001b[0m \u001b[0mmeasurement_outputs\u001b[0m\u001b[0;34m\u001b[0m\u001b[0;34m\u001b[0m\u001b[0m\n",
      "\u001b[0;32m~/opt/anaconda3/lib/python3.9/site-packages/qutip/qobj.py\u001b[0m in \u001b[0;36m__mul__\u001b[0;34m(self, other)\u001b[0m\n\u001b[1;32m    585\u001b[0m \u001b[0;34m\u001b[0m\u001b[0m\n\u001b[1;32m    586\u001b[0m             \u001b[0;32melse\u001b[0m\u001b[0;34m:\u001b[0m\u001b[0;34m\u001b[0m\u001b[0;34m\u001b[0m\u001b[0m\n\u001b[0;32m--> 587\u001b[0;31m                 \u001b[0;32mraise\u001b[0m \u001b[0mTypeError\u001b[0m\u001b[0;34m(\u001b[0m\u001b[0;34m\"Incompatible Qobj shapes\"\u001b[0m\u001b[0;34m)\u001b[0m\u001b[0;34m\u001b[0m\u001b[0;34m\u001b[0m\u001b[0m\n\u001b[0m\u001b[1;32m    588\u001b[0m \u001b[0;34m\u001b[0m\u001b[0m\n\u001b[1;32m    589\u001b[0m         \u001b[0;32melif\u001b[0m \u001b[0misinstance\u001b[0m\u001b[0;34m(\u001b[0m\u001b[0mother\u001b[0m\u001b[0;34m,\u001b[0m \u001b[0mnp\u001b[0m\u001b[0;34m.\u001b[0m\u001b[0mndarray\u001b[0m\u001b[0;34m)\u001b[0m\u001b[0;34m:\u001b[0m\u001b[0;34m\u001b[0m\u001b[0;34m\u001b[0m\u001b[0m\n",
      "\u001b[0;31mTypeError\u001b[0m: Incompatible Qobj shapes"
     ]
    }
   ],
   "source": [
    "rho_ave_phi_array =  np.empty((0, 2, 2), dtype=float)\n",
    "eigen_phi_std_array = np.empty((0, 2), dtype=float)\n",
    "eig_eta_array = np.empty((0, 2), dtype=float)\n",
    "\n",
    "mean_nxnynz = np.concatenate(([nxnynz_tot_s_id], [nxnynz_tot_s_had], [nxnynz_tot_s_txt]), axis=0)\n",
    "std_nxnynz = np.concatenate(([nxnynz_tot_std_s_id], [nxnynz_tot_std_s_had], [nxnynz_tot_std_s_txt]), axis=0)\n",
    "\n",
    "# eigen ebnergies and uncertainties of rho of phis\n",
    "eigen_phis = [(1/2)*(1 -np.sqrt(np.sum(mean_nxnynz**2, axis = 1))), (1/2)*(1 +np.sqrt(np.sum(mean_nxnynz**2, axis = 1)))]\n",
    "eigen_phis_std = np.array([eigenvalue_uncertainty(mean_nxnynz[i], std_nxnynz[i]) for i in range(len(mean_nxnynz))])\n",
    "\n",
    "rho_ave_phi_array = np.array([np.mean(rho_n_array_s_id, axis = 0),np.mean(rho_n_array_s_had, axis = 0), np.mean(rho_n_array_s_txt, axis = 0)])\n",
    "rho_ave_phi_arrayrho_ave_tot = np.mean(rho_ave_phi_array, axis = 0)\n",
    "nxnynz_tot = np.array([calculate_bloch_components(qt.Qobj(rho_ave_tot))])\n",
    "nxnynz_tot_std = np.sqrt(np.sum(eigen_phis_std**2))/len(eigen_phis_std)\n",
    "\n",
    "# std of variability of eigenvalues of rho tot\n",
    "std_eigen_tot = eigenvalue_uncertainty(nxnynz_tot.ravel(), [nxnynz_tot_std,nxnynz_tot_std,nxnynz_tot_std])\n",
    "eigen_tot = np.abs(qt.Qobj(rho_ave_tot).eigenenergies())\n",
    "\n",
    "hv_tot = qt.entropy_vn(qt.Qobj(rho_ave_tot)) - np.mean([qt.entropy_vn(qt.Qobj(rho)) for rho in rho_ave_phi_array])\n",
    "\n",
    "rho_tot_sigma_lambdas = (std_eigen_tot, std_eigen_tot)\n",
    "rho_tot_lambdas = (eigen_tot[0], eigen_tot[1])\n",
    "rho_lambdas = list(zip(eigen_phis[0], eigen_phis[1]))\n",
    "print(rho_lambdas)\n",
    "rho_sigma_lambdas =  [(value, value) for value in eigen_phis_std]\n",
    "hv_std = holevo_bound_uncertainty(rho_tot_lambdas, rho_tot_sigma_lambdas, rho_lambdas, rho_sigma_lambdas)\n",
    "\n",
    "print('Holevo bound is = ', hv_tot, hv_std)\n"
   ]
  },
  {
   "cell_type": "markdown",
   "metadata": {},
   "source": [
    "## B16 Intranode two-qubit gate "
   ]
  },
  {
   "cell_type": "code",
   "execution_count": 313,
   "metadata": {},
   "outputs": [],
   "source": [
    "b16_mwfid_unitary = 1\n",
    "imperfections ={'contrast_noise': 0, #(0 not noisy or 1 noisy)\n",
    "                'contrast': 'perfect', #'real'\n",
    "                'tdinoise': 0, #np.pi/25, #'real'\n",
    "                'mw': 'perfect', # or perfect\n",
    "                'mw_noise': 0, #(0 is stable or 1 noisy/underotates overroates every experimental shot)\n",
    "                'mw_fid_num': [b16_mwfid_unitary, b16_mwfid_unitary] # default fidelities\n",
    "               }\n",
    "mu = 0.0003\n",
    "eln_initial = qt.tensor(el_initial_xp, el_initial_xp)"
   ]
  },
  {
   "cell_type": "code",
   "execution_count": 360,
   "metadata": {},
   "outputs": [],
   "source": [
    "SS = qt.tensor(s_gate(), s_gate())\n",
    "CZ_gate = cphase(np.pi, N=2, control=0, target=1)\n",
    "Ent_gate = SS*CZ_gate\n",
    "el_rho_final_ideal_0 = eln_initial # identity operation\n",
    "el_rho_final_ideal_pi2 =Ent_gate*eln_initial*Ent_gate.dag() # S1S2CZ\n",
    "el_rho_final_ideal_pi4 =qt.ket2dm(qt.tensor((qt.basis(2,0) + np.exp(-1j*((np.pi/4)))*qt.basis(2,1)).unit(), qt.basis(2,1)) \\\n",
    "          + np.exp(-1j*(np.pi/4))*qt.tensor((qt.basis(2,0) + np.exp(1j*(np.pi/4))*qt.basis(2,1)).unit(), qt.basis(2,0))).unit()\n",
    "el_rho_final_ideal_3pi4 =qt.ket2dm(qt.tensor((qt.basis(2,0) + np.exp(-1j*((3*np.pi/4)))*qt.basis(2,1)).unit(), qt.basis(2,1)) \\\n",
    "          + np.exp(-1j*(3*np.pi/4))*qt.tensor((qt.basis(2,0) + np.exp(1j*(3*np.pi/4))*qt.basis(2,1)).unit(), qt.basis(2,0))).unit()"
   ]
  },
  {
   "cell_type": "markdown",
   "metadata": {},
   "source": [
    "##### Angle = 0"
   ]
  },
  {
   "cell_type": "code",
   "execution_count": 415,
   "metadata": {},
   "outputs": [
    {
     "name": "stdout",
     "output_type": "stream",
     "text": [
      "Fidelity of an intranode gate =  0.8714260804488176 +- 0.006322338927379357\n"
     ]
    }
   ],
   "source": [
    "n_rounds = 40\n",
    "rho_n_array_cl_0 = np.empty((0, 4, 4), dtype=complex)\n",
    "rho_n_array_s_0 = np.empty((0, 4, 4), dtype=complex)\n",
    "fid_n_0 =  np.empty((0, 2), dtype=float)\n",
    "\n",
    "for i in range(n_rounds):\n",
    "    # if i%100==0:\n",
    "    #     print(i)\n",
    "    rho_output = sim2.two_qubit_intranode_blind_gate(eln_initial, imperfections, 0, mu)\n",
    "    rho_n_array_s_0 = np.vstack([rho_n_array_s_0, [rho_output[0]]])\n",
    "    rho_n_array_cl_0 = np.vstack([rho_n_array_cl_0, [rho_output[1]]])\n",
    "   \n",
    "    fid = (qt.fidelity(qt.Qobj(rho_output[1]), el_rho_final_ideal_0))**2\n",
    "    fid_n_0 = np.append(fid_n_0, fid)\n",
    "    \n",
    "fid_ave_0 = np.mean(fid_n_0, axis = 0)\n",
    "fid_ave_std_0 = np.std(fid_n_0, axis = 0)/(np.sqrt(n_rounds))\n",
    "\n",
    "print(\"Fidelity of an intranode gate = \", fid_ave_0, \"+-\", fid_ave_std_0)"
   ]
  },
  {
   "cell_type": "markdown",
   "metadata": {},
   "source": [
    "##### Angle = pi4"
   ]
  },
  {
   "cell_type": "code",
   "execution_count": 416,
   "metadata": {},
   "outputs": [
    {
     "name": "stdout",
     "output_type": "stream",
     "text": [
      "Fidelity of an intranode gate =  0.8760999768860656 +- 0.009522583235357882\n"
     ]
    }
   ],
   "source": [
    "n_rounds = 40\n",
    "rho_n_array_cl_pi4 = np.empty((0, 4, 4), dtype=complex)\n",
    "rho_n_array_s_pi4 = np.empty((0, 4, 4), dtype=complex)\n",
    "fid_n_pi4=  np.empty((0, 2), dtype=float)\n",
    "\n",
    "for i in range(n_rounds):\n",
    "    # if i%100==0:\n",
    "    #     print(i)\n",
    "    rho_output = two_qubit_intranode_blind_gate(eln_initial, imperfections, np.pi/4, mu)\n",
    "    rho_n_array_s_pi4 = np.vstack([rho_n_array_s_pi4, [rho_output[0]]])\n",
    "    rho_n_array_cl_pi4 = np.vstack([rho_n_array_cl_pi4, [rho_output[1]]])\n",
    "   \n",
    "    fid = (qt.fidelity(qt.Qobj(rho_output[1]), el_rho_final_ideal_pi4))**2\n",
    "    fid_n_pi4 = np.append(fid_n_pi4, fid)\n",
    "    \n",
    "fid_ave_pi4 = np.mean(fid_n_pi4, axis = 0)\n",
    "fid_ave_std_pi4 = np.std(fid_n_pi4, axis = 0)/(np.sqrt(n_rounds))\n",
    "\n",
    "print(\"Fidelity of an intranode gate = \", fid_ave_pi4, \"+-\", fid_ave_std_pi4)"
   ]
  },
  {
   "cell_type": "markdown",
   "metadata": {},
   "source": [
    "##### Angle = pi/2"
   ]
  },
  {
   "cell_type": "code",
   "execution_count": 417,
   "metadata": {},
   "outputs": [
    {
     "name": "stdout",
     "output_type": "stream",
     "text": [
      "Fidelity of an intranode gate =  0.8609979551070841 +- 0.007040677513427944\n"
     ]
    }
   ],
   "source": [
    "n_rounds = 40\n",
    "rho_n_array_cl_pi2 = np.empty((0, 4, 4), dtype=complex)\n",
    "rho_n_array_s_pi2 = np.empty((0, 4, 4), dtype=complex)\n",
    "fid_n_pi2=  np.empty((0, 2), dtype=float)\n",
    "\n",
    "for i in range(n_rounds):\n",
    "    # if i%100==0:\n",
    "    #     print(i)\n",
    "    rho_output = two_qubit_intranode_blind_gate(eln_initial, imperfections, np.pi/2, mu)\n",
    "    rho_n_array_s_pi2 = np.vstack([rho_n_array_s_pi2, [rho_output[0]]])\n",
    "    rho_n_array_cl_pi2 = np.vstack([rho_n_array_cl_pi2, [rho_output[1]]])\n",
    "   \n",
    "    fid = (qt.fidelity(qt.Qobj(rho_output[1]), el_rho_final_ideal_pi2))**2\n",
    "    fid_n_pi2 = np.append(fid_n_pi2, fid)\n",
    "    \n",
    "fid_ave_pi2 = np.mean(fid_n_pi2, axis = 0)\n",
    "fid_ave_std_pi2 = np.std(fid_n_pi2, axis = 0)/(np.sqrt(n_rounds))\n",
    "\n",
    "print(\"Fidelity of an intranode gate = \", fid_ave_pi2, \"+-\", fid_ave_std_pi2)"
   ]
  },
  {
   "cell_type": "markdown",
   "metadata": {},
   "source": [
    "##### Angle = 3pi/4"
   ]
  },
  {
   "cell_type": "code",
   "execution_count": 418,
   "metadata": {},
   "outputs": [
    {
     "name": "stdout",
     "output_type": "stream",
     "text": [
      "Fidelity of an intranode gate =  0.8669312285604327 +- 0.0061679709586487325\n"
     ]
    }
   ],
   "source": [
    "rho_n_array_cl_3pi4 = np.empty((0, 4, 4), dtype=complex)\n",
    "rho_n_array_s_3pi4 = np.empty((0, 4, 4), dtype=complex)\n",
    "fid_n_3pi4=  np.empty((0, 2), dtype=float)\n",
    "\n",
    "for i in range(n_rounds):\n",
    "    # if i%100==0:\n",
    "    #     print(i)\n",
    "    rho_output = two_qubit_intranode_blind_gate(eln_initial, imperfections, 3*np.pi/4, mu)\n",
    "    rho_n_array_s_3pi4 = np.vstack([rho_n_array_s_3pi4, [rho_output[0]]])\n",
    "    rho_n_array_cl_3pi4 = np.vstack([rho_n_array_cl_3pi4, [rho_output[1]]])\n",
    "   \n",
    "    fid = (qt.fidelity(qt.Qobj(rho_output[1]), el_rho_final_ideal_3pi4))**2\n",
    "    fid_n_3pi4 = np.append(fid_n_3pi4, fid)\n",
    "    \n",
    "fid_ave_3pi4 = np.mean(fid_n_3pi4, axis = 0)\n",
    "fid_ave_std_3pi4 = np.std(fid_n_3pi4, axis = 0)/(np.sqrt(n_rounds))\n",
    "\n",
    "print(\"Fidelity of an intranode gate = \", fid_ave_3pi4, \"+-\", fid_ave_std_3pi4)"
   ]
  },
  {
   "cell_type": "markdown",
   "metadata": {},
   "source": [
    "#### Blindness of Intranode gate"
   ]
  },
  {
   "cell_type": "code",
   "execution_count": 422,
   "metadata": {},
   "outputs": [
    {
     "name": "stdout",
     "output_type": "stream",
     "text": [
      "Holevo bound is =  0.004362755931894391 0.14610755128548414\n"
     ]
    }
   ],
   "source": [
    "rho_ave_phi_array =  np.empty((0, 4, 4), dtype=float)\n",
    "eigen_phi_std_array = np.empty((0, 2), dtype=float)\n",
    "eig_eta_array = np.empty((0, 2), dtype=float)\n",
    "\n",
    "rho_ave_phi_array = np.array([np.mean(rho_n_array_s_0, axis = 0),np.mean(rho_n_array_s_pi4, axis = 0), np.mean(rho_n_array_s_pi2, axis = 0), np.mean(rho_n_array_s_3pi4, axis = 0)])\n",
    "rho_ave_tot = np.mean(rho_ave_phi_array, axis = 0)\n",
    "\n",
    "# eigen ebnergies and uncertainties of rho of phis\n",
    "eigen_phis_0 = [np.abs(qt.Qobj(rho).eigenenergies()) for rho in rho_n_array_s_0]\n",
    "eigen_phis_pi4 = [np.abs(qt.Qobj(rho).eigenenergies()) for rho in rho_n_array_s_pi4]\n",
    "eigen_phis_pi2 = [np.abs(qt.Qobj(rho).eigenenergies()) for rho in rho_n_array_s_pi2]\n",
    "eigen_phis_3pi4 = [np.abs(qt.Qobj(rho).eigenenergies()) for rho in rho_n_array_s_3pi4]\n",
    "\n",
    "factor = np.sqrt(len(eigen_phis_0))\n",
    "eigen_phis = np.array([np.mean(eigen_phis_0, axis = 0),np.mean(eigen_phis_pi4, axis = 0),np.mean(eigen_phis_pi2, axis = 0),np.mean(eigen_phis_3pi4, axis = 0)])\n",
    "eigen_phis_std = np.array([np.std(eigen_phis_0, axis = 0)/factor,np.std(eigen_phis_pi4, axis = 0)/factor,np.std(eigen_phis_pi2, axis = 0)/factor,np.std(eigen_phis_3pi4, axis = 0)/factor])\n",
    "\n",
    "# # std of variability of eigenvalues of rho tot\n",
    "eigen_tot = np.abs(qt.Qobj(rho_ave_tot).eigenenergies())\n",
    "eigen_tot_std = np.std(eigen_tot)/factor\n",
    "hv_tot = qt.entropy_vn(qt.Qobj(rho_ave_tot)) - np.mean([qt.entropy_vn(qt.Qobj(rho)) for rho in rho_ave_phi_array])\n",
    "\n",
    "# rho_tot_sigma_lambdas = (std_eigen_tot, std_eigen_tot)\n",
    "rho_tot_lambdas = (eigen_tot[0], eigen_tot[1])\n",
    "rho_lambdas = list(zip(eigen_phis[0], eigen_phis[1]))\n",
    "rho_sigma_lambdas =  [(value, value) for value in eigen_phis_std]\n",
    "hv_std = holevo_bound_uncertainty(rho_tot_lambdas, rho_tot_sigma_lambdas, rho_lambdas, rho_sigma_lambdas)\n",
    "\n",
    "print('Holevo bound is = ', hv_tot, hv_std[0])"
   ]
  },
  {
   "cell_type": "markdown",
   "metadata": {},
   "source": [
    "## Setup Two-Node experiments in B16-G12"
   ]
  },
  {
   "cell_type": "code",
   "execution_count": 4,
   "metadata": {},
   "outputs": [],
   "source": [
    "# Create Networks:\n",
    "g12_b16_network = FiberNetwork(siv_a, siv_b) # this device is now in B16 fridge\n",
    "\n",
    "# Create Simulation:\n",
    "sim2 = BlindComputing(g12_b16_network)"
   ]
  },
  {
   "cell_type": "code",
   "execution_count": 5,
   "metadata": {},
   "outputs": [
    {
     "name": "stdout",
     "output_type": "stream",
     "text": [
      "Detection efficientvy is =  0.0567\n",
      "Link efficientvy is =  0.011519999999999999\n"
     ]
    }
   ],
   "source": [
    "# Setup efficiencies\n",
    "fudge = 1\n",
    "\n",
    "g12_b16_network.fibercoupling_eff = 0.6*fudge\n",
    "g12_b16_network.tdi_eff = 0.35*0.3\n",
    "g12_b16_network.snspd_eff = 0.9\n",
    "g12_b16_network.detection_eff\n",
    "g12_b16_network.detection_eff_reset()\n",
    "g12_b16_network.link_efficiency = (g12_b16_network.fibercoupling_eff**2)*0.05*0.64\n",
    "\n",
    "print('Detection efficientvy is = ', g12_b16_network.detection_eff)\n",
    "print('Link efficientvy is = ', g12_b16_network.link_efficiency)"
   ]
  },
  {
   "cell_type": "markdown",
   "metadata": {},
   "source": [
    "#### MW gates"
   ]
  },
  {
   "cell_type": "code",
   "execution_count": 7,
   "metadata": {},
   "outputs": [],
   "source": [
    "# gate fidelities\n",
    "b16_mwfid = 1\n",
    "g12_mwfid = 1"
   ]
  },
  {
   "cell_type": "markdown",
   "metadata": {},
   "source": [
    "#### Move the SiV to the desired contrast point"
   ]
  },
  {
   "cell_type": "code",
   "execution_count": 8,
   "metadata": {},
   "outputs": [
    {
     "name": "stdout",
     "output_type": "stream",
     "text": [
      "new contrast 27.979731852612378\n",
      "B16 contrast is set to =  27.979731852612378\n",
      "new contrast 22.984605715760697\n",
      "G12 contrast is set to =  22.984605715760697\n"
     ]
    }
   ],
   "source": [
    "b16_contrast = 25 # range 18 - 30\n",
    "g12_contrast = 20 # range 12 - 20\n",
    "\n",
    "siv_b.set_contrast(b16_contrast)\n",
    "actual_contrast_b16 = siv_b.get_best_contrast()\n",
    "print(\"B16 contrast is set to = \", actual_contrast_b16)\n",
    "\n",
    "siv_a.set_contrast(g12_contrast)\n",
    "actual_contrast_g12 = siv_a.get_best_contrast()\n",
    "print(\"G12 contrast is set to = \", actual_contrast_g12)"
   ]
  },
  {
   "cell_type": "markdown",
   "metadata": {},
   "source": [
    "## B16-G12 Internode two-qubit gate"
   ]
  },
  {
   "cell_type": "code",
   "execution_count": 487,
   "metadata": {},
   "outputs": [],
   "source": [
    "b16_mwfid_unitary = 1\n",
    "imperfections ={'contrast_noise': 0, #(0 not noisy or 1 noisy)\n",
    "                'contrast': 'perfect', #'real'\n",
    "                'tdinoise': 0, #np.pi/25, #'real'\n",
    "                'mw': 'perfect', # or perfect\n",
    "                'mw_noise': 0, #(0 is stable or 1 noisy/underotates overroates every experimental shot)\n",
    "                'mw_fid_num': [b16_mwfid_unitary, b16_mwfid_unitary] # default fidelities\n",
    "               }\n",
    "mu = 0.0003\n",
    "Entange = 0 # choices are {0, 1}\n",
    "# e1e2n2\n",
    "een_initial = qt.tensor(el_initial_xp, el_initial_xp, el_initial_xp)"
   ]
  },
  {
   "cell_type": "code",
   "execution_count": 918,
   "metadata": {},
   "outputs": [],
   "source": [
    "def qudit_collapse(rho, timebine):\n",
    "    # for testing only: measure the correlatikos of spin state with each time bin\n",
    "    Pj_1000 = qt.composite(Id2, Id2, qt.ket2dm(qt.fock(N, 1)), qt.ket2dm(qt.fock(N, 0)), qt.ket2dm(qt.fock(N, 0)), qt.ket2dm(qt.fock(N, 0)))\n",
    "    Pj_0100 = qt.composite(Id2, Id2, qt.ket2dm(qt.fock(N, 0)), qt.ket2dm(qt.fock(N, 1)), qt.ket2dm(qt.fock(N, 0)), qt.ket2dm(qt.fock(N, 0)))        \n",
    "    Pj_0010 = qt.composite(Id2, Id2, qt.ket2dm(qt.fock(N, 0)), qt.ket2dm(qt.fock(N, 0)), qt.ket2dm(qt.fock(N, 1)), qt.ket2dm(qt.fock(N, 0)))\n",
    "    Pj_0001 = qt.composite(Id2, Id2,qt.ket2dm(qt.fock(N, 0)), qt.ket2dm(qt.fock(N, 0)), qt.ket2dm(qt.fock(N, 0)), qt.ket2dm(qt.fock(N, 1)))        \n",
    "    # probability of each bin firing\n",
    "    brate_bin_1 = (Pj_1000*rho*Pj_1000.dag()).tr()\n",
    "    brate_bin_2 = (Pj_0100*rho*Pj_0100.dag()).tr()\n",
    "    brate_bin_3 = (Pj_0010*rho*Pj_0010.dag()).tr()\n",
    "    brate_bin_4 = (Pj_0001*rho*Pj_0001.dag()).tr()    \n",
    "  \n",
    "    #Final density matrix of the electron state\n",
    "    rho_final_bin_1 = ((Pj_1000*rho*Pj_1000.dag())/brate_bin_1).ptrace([0, 1]) # spin state left over after bin 1 firing\n",
    "    rho_final_bin_2 = ((Pj_0100*rho*Pj_0100.dag())/brate_bin_2).ptrace([0, 1]) # spin state left over after bin 2 firing\n",
    "    rho_final_bin_3 = ((Pj_0010*rho*Pj_0010.dag())/brate_bin_3).ptrace([0, 1]) # spin state left over after bin 3 firing\n",
    "    rho_final_bin_4 = ((Pj_0001*rho*Pj_0001.dag())/brate_bin_4).ptrace([0, 1]) # spin state left over after bin 4 firing\n",
    "    \n",
    "    if timebine == 0:\n",
    "        rho = rho_final_bin_1\n",
    "    elif timebine == 1:\n",
    "        rho = rho_final_bin_2\n",
    "    elif timebine == 2:\n",
    "        rho = rho_final_bin_3\n",
    "    elif timebine == 3:\n",
    "        rho = rho_final_bin_4\n",
    "    return rho\n",
    "\n"
   ]
  },
  {
   "cell_type": "code",
   "execution_count": 934,
   "metadata": {},
   "outputs": [
    {
     "name": "stdout",
     "output_type": "stream",
     "text": [
      "Initial number of photons per timebin and qubit = 1.7288642661304855e-06\n",
      "[0, 1, 1]\n",
      "0 1 1\n",
      "Quantum object: dims = [[2, 2], [2, 2]], shape = (4, 4), type = oper, isherm = True\n",
      "Qobj data =\n",
      "[[ 0.25+0.j    0.25+0.j    0.  +0.25j  0.  -0.25j]\n",
      " [ 0.25+0.j    0.25+0.j    0.  +0.25j  0.  -0.25j]\n",
      " [ 0.  -0.25j  0.  -0.25j  0.25+0.j   -0.25+0.j  ]\n",
      " [ 0.  +0.25j  0.  +0.25j -0.25+0.j    0.25+0.j  ]] Quantum object: dims = [[2, 2], [2, 2]], shape = (4, 4), type = oper, isherm = True\n",
      "Qobj data =\n",
      "[[ 0.25  0.25  0.25 -0.25]\n",
      " [ 0.25  0.25  0.25 -0.25]\n",
      " [ 0.25  0.25  0.25 -0.25]\n",
      " [-0.25 -0.25 -0.25  0.25]]\n",
      "Quantum object: dims = [[2, 2], [2, 2]], shape = (4, 4), type = oper, isherm = True\n",
      "Qobj data =\n",
      "[[0.  0.  0.  0. ]\n",
      " [0.  0.5 0.5 0. ]\n",
      " [0.  0.5 0.5 0. ]\n",
      " [0.  0.  0.  0. ]]\n"
     ]
    }
   ],
   "source": [
    "Entange = 1\n",
    "rho_final = two_qubit_internode_blind_gate(een_initial, imperfections, Entange, mu)\n",
    "print(rho_final[1], rho_final[2])\n",
    "oper = qt.tensor(Id2, ry(np.pi/2))\n",
    "print(oper*rho_final[2]*oper.dag())"
   ]
  },
  {
   "cell_type": "code",
   "execution_count": 932,
   "metadata": {},
   "outputs": [
    {
     "name": "stdout",
     "output_type": "stream",
     "text": [
      "Quantum object: dims = [[2, 2], [2, 2]], shape = (4, 4), type = oper, isherm = True\n",
      "Qobj data =\n",
      "[[0.25 0.25 0.25 0.25]\n",
      " [0.25 0.25 0.25 0.25]\n",
      " [0.25 0.25 0.25 0.25]\n",
      " [0.25 0.25 0.25 0.25]]\n",
      "Quantum object: dims = [[2, 2], [2, 2]], shape = (4, 4), type = oper, isherm = True\n",
      "Qobj data =\n",
      "[[0.  0.  0.  0. ]\n",
      " [0.  0.5 0.5 0. ]\n",
      " [0.  0.5 0.5 0. ]\n",
      " [0.  0.  0.  0. ]]\n"
     ]
    }
   ],
   "source": [
    "#ideal\n",
    "print(een_initial.ptrace([0, 2]))\n",
    "print(qt.ket2dm(qt.tensor(qt.basis(2, 1), qt.basis(2, 0)) + qt.tensor(qt.basis(2, 0), qt.basis(2, 1))).unit())"
   ]
  },
  {
   "cell_type": "code",
   "execution_count": 529,
   "metadata": {},
   "outputs": [],
   "source": [
    "def el2_qudit_gate_QUBE(rho, gates, cav_refl, imperfections_contrast, mu):\n",
    "    \"\"\" Electron 2 QUDIT Entaglement \"\"\"\n",
    "\n",
    "    print('Initial number of photons per timebin and qubit =', (Noperator*rho.ptrace([3])).tr() + (Noperator*rho.ptrace([4])).tr() + (Noperator*rho.ptrace([5])).tr() + (Noperator*rho.ptrace([6])).tr())\n",
    "    \n",
    "    bs_QUBE = siv_beamsplitter_el2_qudit_QUBE(cav_refl, imperfections_contrast)\n",
    "\n",
    "    pi_plus_y = gates['pi']\n",
    "    pi_plus_x = rz(-np.pi/2)*gates['pi']*rz(-np.pi/2).dag()\n",
    "\n",
    "    pi_minus_y = qt.sigmaz()*gates['pi']*qt.sigmaz()\n",
    "    # do a - pi y gate on 2nd the electron\n",
    "    pi_minus_oper = qt.tensor(Id2, pi_minus_y, Id2, IdN, IdN, IdN, IdN)\n",
    "    # do a +pi y gate on 2nd the electron\n",
    "    pi_plus_oper = qt.tensor(Id2, pi_plus_x, Id2, IdN, IdN, IdN, IdN)\n",
    "\n",
    "    # reflect bin 0\n",
    "    rho_1 = bs_QUBE[0]*(qt.tensor(rho, qt.fock_dm(N, 0)))*bs_QUBE[0].dag()\n",
    "    rho_2 = (bs_QUBE[1]*(qt.tensor(rho_1, qt.fock_dm(N, 0)))*bs_QUBE[1].dag()).ptrace([0, 1, 2, 4, 5, 6, 7])\n",
    "    \n",
    "\n",
    "\n",
    "    # +pi around y\n",
    "    rho_3 = pi_plus_oper*rho_2*pi_plus_oper.dag()\n",
    "    # print('number of photons per timebin and qubit after reflect 0 =', (Noperator*rho_3.ptrace([3])).tr() + (Noperator*rho_3.ptrace([4])).tr() + (Noperator*rho_3.ptrace([5])).tr() + (Noperator*rho_3.ptrace([6])).tr())\n",
    "\n",
    "    # reflect bin 1\n",
    "    rho_4 = bs_QUBE[0]*(qt.tensor(rho_3, qt.fock_dm(N, 0)))*bs_QUBE[0].dag()\n",
    "    rho_5 = (bs_QUBE[1]*(qt.tensor(rho_4, qt.fock_dm(N, 0)))*bs_QUBE[1].dag()).ptrace([0, 1, 2, 4, 5, 6, 7])\n",
    "    # print('number of photons per timebin and qubit after reflect 1  =', (Noperator*rho_5.ptrace([3])).tr() + (Noperator*rho_5.ptrace([4])).tr() + (Noperator*rho_5.ptrace([5])).tr() + (Noperator*rho_5.ptrace([6])).tr())\n",
    "\n",
    "    # -pi around y\n",
    "    rho_6 = pi_plus_oper*rho_5*pi_plus_oper.dag()\n",
    "\n",
    "    # reflect bin 2\n",
    "    rho_7 = bs_QUBE[0]*(qt.tensor(rho_6, qt.fock_dm(N, 0)))*bs_QUBE[0].dag()\n",
    "    rho_8 = (bs_QUBE[1]*(qt.tensor(rho_7, qt.fock_dm(N, 0)))*bs_QUBE[1].dag()).ptrace([0, 1, 2, 4, 5, 6, 7])\n",
    "    # print('number of photons per timebin and qubit after reflect 2  =', (Noperator*rho_8.ptrace([3])).tr() + (Noperator*rho_8.ptrace([4])).tr() + (Noperator*rho_8.ptrace([5])).tr() + (Noperator*rho_8.ptrace([6])).tr())\n",
    "\n",
    "    # pi around y\n",
    "    rho_9 = pi_plus_oper*rho_8*pi_plus_oper.dag()\n",
    "\n",
    "    # reflect bin 3\n",
    "    rho_10 = bs_QUBE[0]*(qt.tensor(rho_9, qt.fock_dm(N, 0)))*bs_QUBE[0].dag()\n",
    "    rho_11 = (bs_QUBE[1]*(qt.tensor(rho_10, qt.fock_dm(N, 0)))*bs_QUBE[1].dag()).ptrace([0, 1, 2, 4, 5, 6, 7])\n",
    "\n",
    "    # # - pi around y\n",
    "    # rho_12 = pi_minus_oper*rho_11*pi_minus_oper.dag()\n",
    "    return rho_11"
   ]
  },
  {
   "cell_type": "code",
   "execution_count": 804,
   "metadata": {},
   "outputs": [],
   "source": [
    "def two_qubit_internode_blind_gate(een_initial, imperfections, Entange, mu):\n",
    "    \"\"\" Two qubit internode blind gate \"\"\"\n",
    "\n",
    "    if imperfections['contrast_noise'] == False:\n",
    "        wl = sim2.fiber_network.siv1.optimum_freq\n",
    "        cav_refl = sim2.fiber_network.siv1.cav_refl(wl)\n",
    "            \n",
    "    elif imperfections['contrast_noise'] == True:\n",
    "        wl = np.random.normal(loc=sim2.fiber_network.siv1.optimum_freq, scale=50)\n",
    "        cav_refl = sim2.fiber_network.siv1.cav_refl(wl)\n",
    "\n",
    "    fidel_values_pi_pi2 = {'pi': imperfections['mw_fid_num'][0],\n",
    "                'pi_half': imperfections['mw_fid_num'][1]\n",
    "                }        \n",
    "    # 'real'/'perfect' and 'stable'/'noisy'\n",
    "    gates = set_mw_fidelities(fid = imperfections['mw'], noise = imperfections['mw_noise'], fidel_val = fidel_values_pi_pi2)\n",
    "\n",
    "    ## first interaction of the qudit with the electron in server 1\n",
    "    # print('before el1 qudit', een_initial)\n",
    "    rho = el1_qudit_gate_QUBE(een_initial, gates, cav_refl, imperfections['contrast'], mu)\n",
    "    # print('after el1 qudit', rho.ptrace([0, 2]))\n",
    "\n",
    "\n",
    "    ## photon loss between server \n",
    "    # print(g12_b16_network.link_efficiency)\n",
    "    rho2 = loss_photonqudit_el1el2n2(rho, g12_b16_network.link_efficiency)\n",
    "    # print('number of photons per timebin and qubit after detection loss  =', (Noperator*rho2.ptrace([3])).tr() + (Noperator*rho2.ptrace([4])).tr() + (Noperator*rho2.ptrace([5])).tr() + (Noperator*rho2.ptrace([6])).tr())\n",
    "    # print('after loss between links', rho2.ptrace([0, 2]))\n",
    "\n",
    "    ## second interaction of the qudit with the elctron in server 2\n",
    "    rho3 = el2_qudit_gate_QUBE(rho2, gates, cav_refl, imperfections['contrast'], mu)\n",
    "\n",
    "    # print('after el2 qudit interaction', rho3.ptrace([0, 2]))\n",
    "\n",
    "    ## control on the si29 pi around y on the e2\n",
    "    piy = gates['pi']\n",
    "    pix = rz(-np.pi/2)*gates['pi']*rz(-np.pi/2).dag()\n",
    "    # now add condition to our imperfect rotation (choose mw1 or mw2 depednign on what is the right condition)\n",
    "    cond_pix = cond_mw_gates(pix)['pi_mw2']\n",
    "    pi_plus_y_cond_oper = qt.tensor(Id2, cond_pix, IdN, IdN, IdN, IdN)\n",
    "    rho4 = pi_plus_y_cond_oper*rho3*pi_plus_y_cond_oper.dag()\n",
    "    \n",
    "    # print('after cond pi qudit interaction', rho4.ptrace([0, 2]))\n",
    "\n",
    "    # qudit photon loss to detector\n",
    "    # print( g12_b16_network.detection_eff)\n",
    "    rho5 = loss_photonqudit_el1el2n2(rho4, g12_b16_network.detection_eff) #photon_loss_qudit(rho, g12_b16_network.link_efficiency)\n",
    "\n",
    "    # print('number of photons per timebin and qubit after detection loss  =', (Noperator*rho5.ptrace([3])).tr() + (Noperator*rho5.ptrace([4])).tr() + (Noperator*rho5.ptrace([5])).tr() + (Noperator*rho5.ptrace([6])).tr())\n",
    "\n",
    "    # measure the el2 (ancilla) in y basis\n",
    "    rho6 = measure_el2_QUBE(rho5)\n",
    "\n",
    "    # print('after measure ancilla interaction', rho6[0].ptrace([0, 1]))\n",
    "\n",
    "    # measure the qudit using TDI number, the choic is based on Entange - entanglement choice, which chooses between long and short TDI\n",
    "    rho7 = measure_qudit_QUBE(rho6[0], Entange, imperfections['tdinoise'])\n",
    "\n",
    "    # print('measure quqit', rho7[0].ptrace([0, 1]))\n",
    "\n",
    "    # measurement outputs s1 (0 or 1st bins), s2 (first 2 or last 2 time bins), p (ancilla output)\n",
    "    measurement_outputs =  [rho7[1], rho7[2], rho6[1]]\n",
    "    print(measurement_outputs)\n",
    "\n",
    "    # add a correction to the final [el1, n2] state based on three numbers of measurements \n",
    "    rho8 = correction_QUBE(rho7[0], Entange, measurement_outputs)\n",
    "\n",
    "    return rho6, rho7[0], rho8, measurement_outputs"
   ]
  },
  {
   "cell_type": "code",
   "execution_count": 464,
   "metadata": {},
   "outputs": [],
   "source": [
    "def measure_qudit_QUBE(rho, Entange, tdi_noise = 0):\n",
    "\n",
    "    # loss and reflection for a qudit\n",
    "    a_1_2 = qt.tensor(qt.destroy(N), IdN, IdN, IdN)\n",
    "    a_2_2 = qt.tensor(IdN, qt.destroy(N), IdN, IdN)\n",
    "    a_3_4 = qt.tensor(IdN, IdN, qt.destroy(N), IdN)\n",
    "    a_4_4 = qt.tensor(IdN, IdN, IdN, qt.destroy(N))\n",
    "\n",
    "    ## transmission and scattering beamsplitter\n",
    "    a_1_3 = qt.tensor(qt.destroy(N), IdN, IdN, IdN)\n",
    "    a_3_3 = qt.tensor(IdN, IdN, qt.destroy(N), IdN)\n",
    "    a_2_4 = qt.tensor(IdN, qt.destroy(N), IdN, IdN)\n",
    "    a_4_4 = qt.tensor(IdN, IdN, IdN, qt.destroy(N))\n",
    "\n",
    "    Pj_1000 = qt.composite(Id2, Id2, qt.ket2dm(qt.basis(N, 1)), qt.ket2dm(qt.basis(N, 0)), qt.ket2dm(qt.basis(N, 0)), qt.ket2dm(qt.basis(N, 0)))\n",
    "    Pj_0100 = qt.composite(Id2, Id2, qt.ket2dm(qt.basis(N, 0)), qt.ket2dm(qt.basis(N, 1)), qt.ket2dm(qt.basis(N, 0)), qt.ket2dm(qt.basis(N, 0)))        \n",
    "    Pj_0010 = qt.composite(Id2, Id2, qt.ket2dm(qt.basis(N, 0)), qt.ket2dm(qt.basis(N, 0)), qt.ket2dm(qt.basis(N, 1)), qt.ket2dm(qt.basis(N, 0)))\n",
    "    Pj_0001 = qt.composite(Id2, Id2, qt.ket2dm(qt.basis(N, 0)), qt.ket2dm(qt.basis(N, 0)), qt.ket2dm(qt.basis(N, 0)), qt.ket2dm(qt.basis(N, 1)))        \n",
    "    \n",
    "    ratio = np.random.normal(loc=0.5, scale=0*0.1*0.5)\n",
    "    # pick which TDI to use \n",
    "    if Entange == 1:\n",
    "        # short tdi entangles\n",
    "        angle = np.random.normal(loc=2*np.pi + tdi_noise, scale=0*0.1*2*np.pi)\n",
    "        r = np.exp(1j*(angle))*np.sqrt(ratio)\n",
    "        if np.abs(r) > 1:\n",
    "            r = 1\n",
    "        bs_5050_el_r_01 = general_BS(r, np.sqrt(1-(abs(r))**2), a_1_2, a_2_2)\n",
    "        bs_5050_el_r_02 = general_BS(r, np.sqrt(1-(abs(r))**2), a_3_4, a_4_4)\n",
    "        oper_1 = qt.tensor(Id2, Id2, bs_5050_el_r_01)\n",
    "        oper_2 = qt.tensor(Id2, Id2, bs_5050_el_r_02)\n",
    "        ## now the qudit is rotated into the basis we want to measure\n",
    "        rho1 = oper_1*rho*oper_1.dag()\n",
    "        rho2 = oper_2*rho1*oper_2.dag()\n",
    "        \n",
    "    elif Entange == 0:\n",
    "        # long tdi doesn't entangle\n",
    "        angle = np.random.normal(loc=2*np.pi + tdi_noise, scale=0*0.1*2*np.pi)\n",
    "        r = np.exp(1j*(angle + np.pi/2))*np.sqrt(ratio)\n",
    "        if np.abs(r) > 1:\n",
    "            r = 1\n",
    "        bs_5050_el_r_11 = general_BS(r, np.sqrt(1-(abs(r))**2), a_1_3, a_3_3)\n",
    "        bs_5050_el_r_12 = general_BS(r, np.sqrt(1-(abs(r))**2), a_2_4, a_4_4)\n",
    "        oper_1 = qt.tensor(Id2, Id2, bs_5050_el_r_11)\n",
    "        oper_2 = qt.tensor(Id2, Id2, bs_5050_el_r_12)\n",
    "        \n",
    "        ## now the qudit is rotated into the basis we want to measure\n",
    "        rho1 = oper_1*rho*oper_1.dag()\n",
    "        rho2 = oper_2*rho1*oper_2.dag()\n",
    "    \n",
    "    # probability of each bin firing\n",
    "    brate_bin_1 = (Pj_1000*rho2*Pj_1000.dag()).tr()\n",
    "    brate_bin_2 = (Pj_0100*rho2*Pj_0100.dag()).tr()\n",
    "    brate_bin_3 = (Pj_0010*rho2*Pj_0010.dag()).tr()\n",
    "    brate_bin_4 = (Pj_0001*rho2*Pj_0001.dag()).tr()\n",
    "    bnorm_tot_rates = brate_bin_1 + brate_bin_2 + brate_bin_3 + brate_bin_4\n",
    "    \n",
    "    # probabilities\n",
    "    brate_bin_1_norm = brate_bin_1/bnorm_tot_rates\n",
    "    brate_bin_2_norm = brate_bin_2/bnorm_tot_rates\n",
    "    brate_bin_3_norm = brate_bin_3/bnorm_tot_rates\n",
    "    brate_bin_4_norm = brate_bin_4/bnorm_tot_rates\n",
    "  \n",
    "    #Final density matrix of the electron state\n",
    "    rho_final_bin_1 = ((Pj_1000*rho2*Pj_1000.dag())/brate_bin_1).ptrace([0, 1]) # spin state left over after bin 1 firing\n",
    "    rho_final_bin_2 = ((Pj_0100*rho2*Pj_0100.dag())/brate_bin_2).ptrace([0, 1]) # spin state left over after bin 2 firing\n",
    "    rho_final_bin_3 = ((Pj_0010*rho2*Pj_0010.dag())/brate_bin_3).ptrace([0, 1]) # spin state left over after bin 3 firing\n",
    "    rho_final_bin_4 = ((Pj_0001*rho2*Pj_0001.dag())/brate_bin_4).ptrace([0, 1]) # spin state left over after bin 4 firing\n",
    " \n",
    "    # probabilistic projective measurement\n",
    "    quantum_measurement_s1s2 = np.random.choice([1, 2, 3, 4], p=[brate_bin_1_norm, brate_bin_2_norm, brate_bin_3_norm, brate_bin_4_norm])\n",
    "\n",
    "    if Entange == 1:\n",
    "        if quantum_measurement_s1s2 == 1:\n",
    "            spin_state = rho_final_bin_1\n",
    "            s1 = 0\n",
    "            s2 = 0\n",
    "        elif quantum_measurement_s1s2 == 2:\n",
    "            spin_state = rho_final_bin_2\n",
    "            s1 = 1\n",
    "            s2 = 0\n",
    "        elif quantum_measurement_s1s2 == 3:\n",
    "            spin_state = rho_final_bin_3\n",
    "            s1 = 0\n",
    "            s2 = 1\n",
    "        elif quantum_measurement_s1s2 == 4:\n",
    "            spin_state = rho_final_bin_4\n",
    "            s1 = 1\n",
    "            s2 = 1\n",
    "    elif Entange == 0:\n",
    "        if quantum_measurement_s1s2 == 1:\n",
    "            spin_state = rho_final_bin_1\n",
    "            s1 = 0\n",
    "            s2 = 0\n",
    "        elif quantum_measurement_s1s2 == 2:\n",
    "            spin_state = rho_final_bin_2\n",
    "            s1 = 0\n",
    "            s2 = 1\n",
    "        elif quantum_measurement_s1s2 == 3:\n",
    "            spin_state = rho_final_bin_3\n",
    "            s1 = 1\n",
    "            s2 = 0\n",
    "        elif quantum_measurement_s1s2 == 4:\n",
    "            spin_state = rho_final_bin_4\n",
    "            s1 = 1\n",
    "            s2 = 1\n",
    "    return spin_state, s1, s2, brate_bin_1, brate_bin_2, brate_bin_3, brate_bin_4"
   ]
  },
  {
   "cell_type": "code",
   "execution_count": 904,
   "metadata": {},
   "outputs": [],
   "source": [
    "def correction_QUBE(rho, Entange, measurements):\n",
    "    s1 = measurements[0]\n",
    "    s2 = measurements[1]\n",
    "    p = measurements[2]\n",
    "    print(s1, s2, p)\n",
    "\n",
    "    if Entange == 0:\n",
    "        oper_corr = qt.tensor(s_gate()*qt.sigmaz()**(s1 + s2), (qt.sigmaz()**(p + s2)))\n",
    "\n",
    "    elif Entange == 1:\n",
    "        oper_corr = qt.tensor(s_gate()*qt.sigmaz()**(s1 + s2 + p),(qt.sigmaz()**(p + s2)))\n",
    "\n",
    "    rho1 = oper_corr*rho*oper_corr.dag()\n",
    "    return rho1"
   ]
  },
  {
   "cell_type": "code",
   "execution_count": 14,
   "metadata": {},
   "outputs": [],
   "source": [
    "def loss_photonqudit_el1el2n2(rho, eff):\n",
    "    \"\"\" Add linear loss for a time-bin photonic qudit tensored with a three qubits el1 + + el2 + n2 (Si29) \"\"\"\n",
    "\n",
    "    a_1_5 = qt.tensor(qt.destroy(N), IdN, IdN, IdN, IdN)\n",
    "    a_5_5 = qt.tensor(IdN, IdN, IdN, IdN, qt.destroy(N))\n",
    "\n",
    "    bs_loss_per_timebin = general_BS(1j*np.sqrt(eff), np.sqrt(1 -eff), a_1_5, a_5_5)\n",
    "    oper_loss = qt.tensor(Id2, Id2, Id2, bs_loss_per_timebin)\n",
    "    # print('number of photons per timebin before loss  =', (Noperator*rho.ptrace([3])).tr(), (Noperator*rho.ptrace([4])).tr(), (Noperator*rho.ptrace([5])).tr(), (Noperator*rho.ptrace([6])).tr())\n",
    "\n",
    "    for i in range(4):\n",
    "        #operation of BS1 50/50 on early reflected beam\n",
    "        rho_1 = (oper_loss*(qt.tensor(rho, qt.fock_dm(N, 0)))*oper_loss.dag()).ptrace([0, 1, 2, 4, 5, 6, 7])\n",
    "        rho = rho_1\n",
    "        # print('number of photons per timebin after loss  =', (Noperator*rho.ptrace([3])).tr(), (Noperator*rho.ptrace([4])).tr(), (Noperator*rho.ptrace([5])).tr(), (Noperator*rho.ptrace([6])).tr())\n",
    "\n",
    "\n",
    "    return rho"
   ]
  },
  {
   "cell_type": "code",
   "execution_count": 789,
   "metadata": {},
   "outputs": [],
   "source": [
    "def measure_el2_QUBE(rho):\n",
    "    #measure el2 in y basis\n",
    "\n",
    "    #define a projection operator for el2\n",
    "    Pj_up = qt.composite(Id2, el_initial_yp, Id2, IdN, IdN, IdN, IdN) \n",
    "    Pj_down = qt.composite(Id2, el_initial_ym, Id2, IdN, IdN, IdN, IdN) \n",
    "\n",
    "    brate_p1 = (Pj_up*rho*Pj_up.dag()).tr()\n",
    "    brate_p2 = (Pj_down*rho*Pj_down.dag()).tr()\n",
    "    rho_final_p1 = ((Pj_up*rho*Pj_up.dag())/brate_p1).ptrace([0, 2, 3, 4, 5, 6]) # spin state left over after apd 1\n",
    "    rho_final_p2 = ((Pj_down*rho*Pj_down.dag())/brate_p2).ptrace([0, 2, 3, 4, 5, 6]) # spin state left over after apd2\n",
    "\n",
    "    # probability of each ancilla state\n",
    "    pnorm_rates = brate_p1 + brate_p2\n",
    "    bprob_p1 = brate_p1 / pnorm_rates # probability of p = 0\n",
    "    bprob_p2 = brate_p2 / pnorm_rates # probability of p = 1\n",
    "    if np.abs(1 - (bprob_p1 + bprob_p2)) < 0.001: \n",
    "        pass   #this is in case trace above yields an approximation, in which case probs wont sum to 1 which yields error at choice\n",
    "    else:\n",
    "        return \"Error: probabilities of p = 0 and 1 do not sum to 1\"\n",
    "    # probabilistic projective measurement\n",
    "    quantum_measurement = np.random.choice([1,2], p=[bprob_p1, bprob_p2])\n",
    "    if quantum_measurement == 1:\n",
    "        rho_no_ancilla = rho_final_p1\n",
    "    elif quantum_measurement == 2:\n",
    "        rho_no_ancilla = rho_final_p2\n",
    "\n",
    "    return rho_no_ancilla, quantum_measurement - 1, brate_p1, brate_p2, brate_p1 + brate_p2"
   ]
  },
  {
   "cell_type": "code",
   "execution_count": 16,
   "metadata": {},
   "outputs": [],
   "source": [
    "def generate_qudit(alpha):\n",
    "    \"generate qudit with equal amplitude time bins and normalized with mu number of photons per qudit\"\n",
    "    a = b = c = d = 1\n",
    "    norm = np.sqrt(4)\n",
    "    \n",
    "    time_bin_0 = qt.tensor(qt.coherent(N, alpha*norm*a), qt.coherent(N, 0), qt.coherent(N, 0), qt.coherent(N, 0))\n",
    "    time_bin_1 = qt.tensor(qt.coherent(N, 0), qt.coherent(N, alpha*norm*b), qt.coherent(N, 0), qt.coherent(N, 0))\n",
    "    time_bin_2 = qt.tensor(qt.coherent(N, 0), qt.coherent(N, 0), qt.coherent(N, alpha*norm*c), qt.coherent(N, 0))\n",
    "    time_bin_3 = qt.tensor(qt.coherent(N, 0), qt.coherent(N, 0), qt.coherent(N, 0), qt.coherent(N, alpha*norm*d))\n",
    "    qudit = (time_bin_0 + time_bin_1 + time_bin_2 + time_bin_3).unit()\n",
    "    \n",
    "    return qudit"
   ]
  },
  {
   "cell_type": "code",
   "execution_count": 528,
   "metadata": {},
   "outputs": [],
   "source": [
    "def el1_qudit_gate_QUBE(rho, gates, cav_refl, imperfections_contrast, mu):\n",
    "    \"\"\" Electron QUDIT Entaglement \"\"\"\n",
    "    alpha = np.sqrt(mu)\n",
    "    \n",
    "    input_coh = generate_qudit(alpha)\n",
    "    rho_0 = qt.tensor(rho, qt.ket2dm(input_coh))\n",
    "\n",
    "    # print('Initial number of photons per timebin and qubit =', (Noperator*rho_0.ptrace([3])).tr() + (Noperator*rho_0.ptrace([4])).tr() + (Noperator*rho_0.ptrace([5])).tr() + (Noperator*rho_0.ptrace([6])).tr())\n",
    "    \n",
    "    bs_QUBE = siv_beamsplitter_el1_qudit_QUBE(cav_refl, imperfections_contrast)\n",
    "\n",
    "    # print(bs_QUBE)\n",
    "\n",
    "    # reflect bin 0\n",
    "    rho_1 = (bs_QUBE[0]*(qt.tensor(rho_0, qt.ket2dm(qt.coherent(N, 0))))*bs_QUBE[0].dag())\n",
    "    rho_2 = (bs_QUBE[1]*(qt.tensor(rho_1, qt.ket2dm(qt.coherent(N, 0))))*bs_QUBE[1].dag()).ptrace([0, 1, 2, 4, 5, 6, 7])\n",
    "\n",
    "    # do a +pi y gate on the electron\n",
    "    pi_plus_y = gates['pi']\n",
    "    pi_plus_x = rz(-np.pi/2)*gates['pi']*rz(-np.pi/2).dag()\n",
    "    pi_minus_y = qt.sigmaz()*gates['pi']*qt.sigmaz()\n",
    "    pi_plus_oper = qt.tensor(pi_plus_x, Id2, Id2, IdN, IdN, IdN, IdN)\n",
    "    rho_3 = pi_plus_oper*rho_2*pi_plus_oper.dag()\n",
    "    # print('number of photons per timebin and qubit after reflect bin 0 =', (Noperator*rho_3.ptrace([3])).tr() + (Noperator*rho_3.ptrace([4])).tr() + (Noperator*rho_3.ptrace([5])).tr() + (Noperator*rho_3.ptrace([6])).tr())\n",
    "\n",
    "    # reflect bin 1\n",
    "    rho_4 = bs_QUBE[0]*(qt.tensor(rho_3, qt.ket2dm(qt.coherent(N, 0))))*bs_QUBE[0].dag()\n",
    "    rho_5 = (bs_QUBE[1]*(qt.tensor(rho_4, qt.ket2dm(qt.coherent(N, 0))))*bs_QUBE[1].dag()).ptrace([0, 1, 2, 4, 5, 6, 7])\n",
    "\n",
    "    # print('number of photons per timebin and qubit after reflect 1  =', (Noperator*rho_5.ptrace([3])).tr() + (Noperator*rho_5.ptrace([4])).tr() + (Noperator*rho_5.ptrace([5])).tr() + (Noperator*rho_5.ptrace([6])).tr())\n",
    "\n",
    "    \n",
    "    # reflect bin 2\n",
    "    rho_6 = bs_QUBE[0]*(qt.tensor(rho_5, qt.ket2dm(qt.coherent(N, 0))))*bs_QUBE[0].dag()\n",
    "    rho_7 = (bs_QUBE[1]*(qt.tensor(rho_6, qt.ket2dm(qt.coherent(N, 0))))*bs_QUBE[1].dag()).ptrace([0, 1, 2, 4, 5, 6, 7])\n",
    "\n",
    "    # do a - pi y gate on the electron\n",
    "    # pi_minus_oper = qt.tensor(pi_minus_y, Id2, Id2, IdN, IdN, IdN, IdN)\n",
    "    rho_8 = pi_plus_oper*rho_7*pi_plus_oper.dag()\n",
    "    \n",
    "    # print('number of photons per timebin and qubit after reflect 2  =', (Noperator*rho_8.ptrace([3])).tr() + (Noperator*rho_8.ptrace([4])).tr() + (Noperator*rho_8.ptrace([5])).tr() + (Noperator*rho_8.ptrace([6])).tr())\n",
    "\n",
    "    # reflect bin 3\n",
    "    rho_9 = bs_QUBE[0]*(qt.tensor(rho_8, qt.ket2dm(qt.coherent(N, 0))))*bs_QUBE[0].dag()\n",
    "    rho_10 = (bs_QUBE[1]*(qt.tensor(rho_9, qt.ket2dm(qt.coherent(N, 0))))*bs_QUBE[1].dag()).ptrace([0, 1, 2, 4, 5, 6, 7])\n",
    "\n",
    "    # print('number of photons per timebin and qubit after reflect 3  =', (Noperator*rho_10.ptrace([3])).tr() + (Noperator*rho_10.ptrace([4])).tr() + (Noperator*rho_10.ptrace([5])).tr() + (Noperator*rho_10.ptrace([6])).tr())\n",
    "\n",
    "    return rho_10\n",
    "\n"
   ]
  },
  {
   "cell_type": "code",
   "execution_count": 18,
   "metadata": {},
   "outputs": [],
   "source": [
    "def siv_beamsplitter_el1_qudit_QUBE(cav_refl, contrast):\n",
    "    \"\"\" Electron Photon Entaglement beamsplitter with Si29 \"\"\"\n",
    "\n",
    "    ## given complex reflection and transmission (in amplitude not intensity), and two lowering operators\n",
    "    ## return the beam splitter operator\n",
    "    \n",
    "    #cavity outputs for A and B\n",
    "    if contrast == 'real':\n",
    "        r1_up = cav_refl['refl_refl']\n",
    "        r1_down = cav_refl['nonrefl_refl']\n",
    "        sc = cav_refl['refl_sc']\n",
    "        transm = cav_refl['refl_tr']\n",
    "        nsc = cav_refl['nonrefl_sc']\n",
    "        ntransm = cav_refl['nonrefl_tr']\n",
    "        \n",
    "    elif contrast == 'perfect':\n",
    "        r1_up = 1\n",
    "        r1_down = 0\n",
    "        sc = 0\n",
    "        transm = 0\n",
    "        nsc = 0\n",
    "        ntransm = 1\n",
    "\n",
    "    #commonly used beam splitter operations\n",
    "    ## a_m_k destroy the mth mode out of k modes\n",
    "\n",
    "    # loss and reflection for a qudit\n",
    "    a_1_5 = qt.tensor(qt.destroy(N), IdN, IdN, IdN, IdN)\n",
    "    a_5_5 = qt.tensor(IdN, IdN, IdN, IdN, qt.destroy(N))\n",
    "\n",
    "    ## transmission and scattering beamsplitter\n",
    "    a_1_6 = qt.tensor(qt.destroy(N), IdN, IdN, IdN, IdN, IdN)\n",
    "    a_6_6 = qt.tensor(IdN, IdN, IdN, IdN, IdN , qt.destroy(N))\n",
    "    \n",
    "    ## EARLY BIN INTERACTS WITH THE SIV\n",
    "    theta1_up = np.arccos(np.sqrt(1 - abs(r1_up)**2))\n",
    "    phase1_up_1 = 0 - np.angle(r1_up)\n",
    "    phase1_up_2 = 0 + np.angle(r1_up)\n",
    "\n",
    "    theta1_down = np.arccos(np.sqrt(1 - abs(r1_down)**2))\n",
    "    phase1_down_1 = 0 - np.angle(r1_down)\n",
    "    phase1_down_2 = 0 + np.angle(r1_down)\n",
    "\n",
    "    # Early Reflection and loss channels\n",
    "    bs1_up = (((-1j*phase1_up_1/2)*(a_1_5.dag()*a_1_5 - a_5_5.dag()*a_5_5)).expm()*\\\n",
    "                (-theta1_up*(a_1_5.dag()*a_5_5 - a_5_5.dag()*a_1_5)).expm()*\\\n",
    "                ((-1j*phase1_up_2/2)*(a_1_5.dag()*a_1_5 - a_5_5.dag()*a_5_5)).expm())\n",
    "\n",
    "    bs1_down = (((-1j*phase1_down_1/2)*(a_1_5.dag()*a_1_5 - a_5_5.dag()*a_5_5)).expm()*\\\n",
    "                (-theta1_down*(a_1_5.dag()*a_5_5 - a_5_5.dag()*a_1_5)).expm()*\\\n",
    "                ((-1j*phase1_down_2/2)*(a_1_5.dag()*a_1_5 - a_5_5.dag()*a_5_5)).expm())\n",
    "\n",
    "    bs2_up = general_BS(sc, transm, a_1_6, a_6_6)\n",
    "    bs2_down = general_BS(nsc, ntransm, a_1_6, a_6_6)\n",
    "\n",
    "    # bs1_up = bs1_up/bs1_up.tr()\n",
    "    # bs1_down = bs1_down/bs1_down.tr()\n",
    "    # bs2_up = bs2_up/bs2_up.tr()\n",
    "    # bs2_down = bs2_down/bs2_down.tr()\n",
    "\n",
    "    #operation to reflect early bin\n",
    "    oper1 = qt.tensor((1)*qt.ket2dm(qt.basis(2, 0)), Id2, Id2, bs1_up) + qt.tensor(((1))*qt.ket2dm(qt.basis(2, 1)), Id2, Id2, bs1_down)\n",
    "    #operation to split transmission and scattering for early bin\n",
    "    oper2 = qt.tensor(((1))*qt.ket2dm(qt.basis(2, 0)), Id2, Id2, bs2_up) + qt.tensor(((1))*qt.ket2dm(qt.basis(2, 1)), Id2, Id2, bs2_down)\n",
    "    return oper1, oper2"
   ]
  },
  {
   "cell_type": "code",
   "execution_count": 19,
   "metadata": {},
   "outputs": [],
   "source": [
    "def siv_beamsplitter_el2_qudit_QUBE(cav_refl, contrast):\n",
    "    \"\"\" Electron 2 qudit Photon Entaglement beamsplitter with Si29 \"\"\"\n",
    "\n",
    "    ## given complex reflection and transmission (in amplitude not intensity), and two lowering operators\n",
    "    ## return the beam splitter operator\n",
    "    \n",
    "    #cavity outputs for A and B\n",
    "    if contrast == 'real':\n",
    "        r1_up = cav_refl['refl_refl']\n",
    "        r1_down = cav_refl['nonrefl_refl']\n",
    "        sc = cav_refl['refl_sc']\n",
    "        transm = cav_refl['refl_tr']\n",
    "        nsc = cav_refl['nonrefl_sc']\n",
    "        ntransm = cav_refl['nonrefl_tr']\n",
    "        \n",
    "    elif contrast == 'perfect':\n",
    "        r1_up = 1\n",
    "        r1_down = 0\n",
    "        sc = 0\n",
    "        transm = 0\n",
    "        nsc = 0\n",
    "        ntransm = 1\n",
    "\n",
    "    #commonly used beam splitter operations\n",
    "    ## a_m_k destroy the mth mode out of k modes\n",
    "\n",
    "    # loss and reflection for a qudit\n",
    "    a_1_5 = qt.tensor(qt.destroy(N), IdN, IdN, IdN, IdN)\n",
    "    a_5_5 = qt.tensor(IdN, IdN, IdN, IdN, qt.destroy(N))\n",
    "\n",
    "    ## transmission and scattering beamsplitter\n",
    "    a_1_6 = qt.tensor(qt.destroy(N), IdN, IdN, IdN, IdN, IdN)\n",
    "    a_6_6 = qt.tensor(IdN, IdN, IdN, IdN, IdN , qt.destroy(N))\n",
    "    \n",
    "    ## EARLY BIN INTERACTS WITH THE SIV\n",
    "    theta1_up = np.arccos(np.sqrt(1 - abs(r1_up)**2))\n",
    "    phase1_up_1 = 0 - np.angle(r1_up)\n",
    "    phase1_up_2 = 0 + np.angle(r1_up)\n",
    "\n",
    "    theta1_down = np.arccos(np.sqrt(1 - abs(r1_down)**2))\n",
    "    phase1_down_1 = 0 - np.angle(r1_down)\n",
    "    phase1_down_2 = 0 + np.angle(r1_down)\n",
    "\n",
    "    # Early Reflection and loss channels\n",
    "    bs1_up = (((-1j*phase1_up_1/2)*(a_1_5.dag()*a_1_5 - a_5_5.dag()*a_5_5)).expm()*\\\n",
    "                (-theta1_up*(a_1_5.dag()*a_5_5 - a_5_5.dag()*a_1_5)).expm()*\\\n",
    "                ((-1j*phase1_up_2/2)*(a_1_5.dag()*a_1_5 - a_5_5.dag()*a_5_5)).expm())\n",
    "\n",
    "    bs1_down = (((-1j*phase1_down_1/2)*(a_1_5.dag()*a_1_5 - a_5_5.dag()*a_5_5)).expm()*\\\n",
    "                (-theta1_down*(a_1_5.dag()*a_5_5 - a_5_5.dag()*a_1_5)).expm()*\\\n",
    "                ((-1j*phase1_down_2/2)*(a_1_5.dag()*a_1_5 - a_5_5.dag()*a_5_5)).expm())\n",
    "\n",
    "    bs2_up = general_BS(sc, transm, a_1_6, a_6_6)\n",
    "    bs2_down = general_BS(nsc, ntransm, a_1_6, a_6_6)\n",
    "\n",
    "    #operation to reflect early bin\n",
    "    oper1 = qt.tensor(Id2, qt.ket2dm(qt.basis(2, 0)), Id2, bs1_up) + qt.tensor(Id2, qt.ket2dm(qt.basis(2, 1)), Id2, bs1_down)\n",
    "    #operation to split transmission and scattering for early bin\n",
    "    oper2 = qt.tensor(Id2, qt.ket2dm(qt.basis(2, 0)), Id2, bs2_up) + qt.tensor(Id2, qt.ket2dm(qt.basis(2, 1)), Id2, bs2_down)\n",
    "    return oper1, oper2"
   ]
  },
  {
   "cell_type": "code",
   "execution_count": 20,
   "metadata": {},
   "outputs": [],
   "source": [
    "## operators used for counting numbers \n",
    "Noperator = qt.num(N)"
   ]
  },
  {
   "cell_type": "markdown",
   "metadata": {},
   "source": []
  }
 ],
 "metadata": {
  "kernelspec": {
   "display_name": "base",
   "language": "python",
   "name": "python3"
  },
  "language_info": {
   "codemirror_mode": {
    "name": "ipython",
    "version": 3
   },
   "file_extension": ".py",
   "mimetype": "text/x-python",
   "name": "python",
   "nbconvert_exporter": "python",
   "pygments_lexer": "ipython3",
   "version": "3.9.7"
  }
 },
 "nbformat": 4,
 "nbformat_minor": 2
}
